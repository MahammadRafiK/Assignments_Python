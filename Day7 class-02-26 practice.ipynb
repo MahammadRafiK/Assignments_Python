{
 "cells": [
  {
   "cell_type": "markdown",
   "id": "f192be16",
   "metadata": {},
   "source": [
    "# Day-7 session - 26th February 2022 on python\n",
    "1. Numpy\n",
    "\n",
    "a. shape, ndim, reshape, default array\n",
    "\n",
    "b. Create an array with existing data\n",
    "\n",
    "c. Array from numerical ranges\n",
    "\n",
    "d. Slicing\n",
    "\n",
    "e. Integer Indexing\n",
    "\n",
    "f. nan (null values concept)`"
   ]
  },
  {
   "cell_type": "markdown",
   "id": "34b5f3c5",
   "metadata": {},
   "source": [
    "# Numpy and Pandas\n",
    "Numpy(Numerical python) - it is for arrays, numeric calculations\n",
    "\n",
    "Pandas is for a dataframes(table), calculation, performance is slow\n",
    "\n",
    "# Numpy"
   ]
  },
  {
   "cell_type": "code",
   "execution_count": 1,
   "id": "1bb0b4fb",
   "metadata": {},
   "outputs": [],
   "source": [
    "import numpy as np"
   ]
  },
  {
   "cell_type": "code",
   "execution_count": 2,
   "id": "5412f737",
   "metadata": {},
   "outputs": [],
   "source": [
    "array1 = np.array([1, 2, 3, 4, 5])"
   ]
  },
  {
   "cell_type": "code",
   "execution_count": 3,
   "id": "45f004d4",
   "metadata": {},
   "outputs": [
    {
     "data": {
      "text/plain": [
       "array([1, 2, 3, 4, 5])"
      ]
     },
     "execution_count": 3,
     "metadata": {},
     "output_type": "execute_result"
    }
   ],
   "source": [
    "array1"
   ]
  },
  {
   "cell_type": "code",
   "execution_count": 4,
   "id": "d68a239a",
   "metadata": {},
   "outputs": [
    {
     "data": {
      "text/plain": [
       "numpy.ndarray"
      ]
     },
     "execution_count": 4,
     "metadata": {},
     "output_type": "execute_result"
    }
   ],
   "source": [
    "type(array1)"
   ]
  },
  {
   "cell_type": "code",
   "execution_count": 5,
   "id": "3fd77a3e",
   "metadata": {},
   "outputs": [
    {
     "data": {
      "text/plain": [
       "(5,)"
      ]
     },
     "execution_count": 5,
     "metadata": {},
     "output_type": "execute_result"
    }
   ],
   "source": [
    "array1.shape"
   ]
  },
  {
   "cell_type": "code",
   "execution_count": 6,
   "id": "3929b884",
   "metadata": {},
   "outputs": [
    {
     "data": {
      "text/plain": [
       "1"
      ]
     },
     "execution_count": 6,
     "metadata": {},
     "output_type": "execute_result"
    }
   ],
   "source": [
    "array1.ndim"
   ]
  },
  {
   "cell_type": "code",
   "execution_count": 7,
   "id": "6f8bf172",
   "metadata": {},
   "outputs": [],
   "source": [
    "array2 = np.array([[1, 2, 3, 4, 5], [11, 22, 33, 44, 55]])"
   ]
  },
  {
   "cell_type": "code",
   "execution_count": 8,
   "id": "2ff92485",
   "metadata": {},
   "outputs": [
    {
     "data": {
      "text/plain": [
       "(2, 5)"
      ]
     },
     "execution_count": 8,
     "metadata": {},
     "output_type": "execute_result"
    }
   ],
   "source": [
    "array2.shape"
   ]
  },
  {
   "cell_type": "code",
   "execution_count": 9,
   "id": "15fe7d74",
   "metadata": {},
   "outputs": [
    {
     "data": {
      "text/plain": [
       "array([[ 1,  2,  3,  4,  5],\n",
       "       [11, 22, 33, 44, 55]])"
      ]
     },
     "execution_count": 9,
     "metadata": {},
     "output_type": "execute_result"
    }
   ],
   "source": [
    "array2"
   ]
  },
  {
   "cell_type": "code",
   "execution_count": 10,
   "id": "343ef5a8",
   "metadata": {},
   "outputs": [
    {
     "ename": "TypeError",
     "evalue": "Field elements must be 2- or 3-tuples, got '4'",
     "output_type": "error",
     "traceback": [
      "\u001b[1;31m---------------------------------------------------------------------------\u001b[0m",
      "\u001b[1;31mTypeError\u001b[0m                                 Traceback (most recent call last)",
      "\u001b[1;32m~\\AppData\\Local\\Temp/ipykernel_15680/1648075744.py\u001b[0m in \u001b[0;36m<module>\u001b[1;34m\u001b[0m\n\u001b[1;32m----> 1\u001b[1;33m \u001b[0marray3\u001b[0m \u001b[1;33m=\u001b[0m \u001b[0mnp\u001b[0m\u001b[1;33m.\u001b[0m\u001b[0marray\u001b[0m\u001b[1;33m(\u001b[0m\u001b[1;33m[\u001b[0m\u001b[1;36m1\u001b[0m\u001b[1;33m,\u001b[0m\u001b[1;36m2\u001b[0m\u001b[1;33m,\u001b[0m\u001b[1;36m3\u001b[0m\u001b[1;33m]\u001b[0m\u001b[1;33m,\u001b[0m \u001b[1;33m[\u001b[0m\u001b[1;36m4\u001b[0m\u001b[1;33m,\u001b[0m\u001b[1;36m5\u001b[0m\u001b[1;33m,\u001b[0m\u001b[1;36m6\u001b[0m\u001b[1;33m,\u001b[0m\u001b[1;36m7\u001b[0m\u001b[1;33m]\u001b[0m\u001b[1;33m)\u001b[0m \u001b[1;31m# arrays sequence should be in order\u001b[0m\u001b[1;33m\u001b[0m\u001b[1;33m\u001b[0m\u001b[0m\n\u001b[0m",
      "\u001b[1;31mTypeError\u001b[0m: Field elements must be 2- or 3-tuples, got '4'"
     ]
    }
   ],
   "source": [
    "array3 = np.array([1,2,3], [4,5,6,7]) # arrays sequence should be in order"
   ]
  },
  {
   "cell_type": "code",
   "execution_count": 12,
   "id": "4f135271",
   "metadata": {},
   "outputs": [],
   "source": [
    "array3 = np.array([[1,2,3], [4,5,6]])"
   ]
  },
  {
   "cell_type": "code",
   "execution_count": 13,
   "id": "d2eacb23",
   "metadata": {},
   "outputs": [
    {
     "data": {
      "text/plain": [
       "array([[1, 2, 3],\n",
       "       [4, 5, 6]])"
      ]
     },
     "execution_count": 13,
     "metadata": {},
     "output_type": "execute_result"
    }
   ],
   "source": [
    "array3"
   ]
  },
  {
   "cell_type": "code",
   "execution_count": 14,
   "id": "85284955",
   "metadata": {},
   "outputs": [],
   "source": [
    "array4 = np.array([[1, 'Rafi', 50.9], [2, 'Mango', 89.87], [3, 'Apple', 100.0]])"
   ]
  },
  {
   "cell_type": "code",
   "execution_count": 16,
   "id": "2716cef7",
   "metadata": {},
   "outputs": [
    {
     "data": {
      "text/plain": [
       "array([['1', 'Rafi', '50.9'],\n",
       "       ['2', 'Mango', '89.87'],\n",
       "       ['3', 'Apple', '100.0']], dtype='<U32')"
      ]
     },
     "execution_count": 16,
     "metadata": {},
     "output_type": "execute_result"
    }
   ],
   "source": [
    "array4"
   ]
  },
  {
   "cell_type": "code",
   "execution_count": 17,
   "id": "5298af2a",
   "metadata": {},
   "outputs": [
    {
     "data": {
      "text/plain": [
       "(3, 3)"
      ]
     },
     "execution_count": 17,
     "metadata": {},
     "output_type": "execute_result"
    }
   ],
   "source": [
    "array4.shape"
   ]
  },
  {
   "cell_type": "code",
   "execution_count": 18,
   "id": "5d2d33d0",
   "metadata": {},
   "outputs": [],
   "source": [
    "array5 = np.array([[1, 2, 3, 4, 5], [11, 22, 33, 44, 55]], dtype = float)"
   ]
  },
  {
   "cell_type": "code",
   "execution_count": 19,
   "id": "db0f3cb6",
   "metadata": {},
   "outputs": [
    {
     "data": {
      "text/plain": [
       "array([[ 1.,  2.,  3.,  4.,  5.],\n",
       "       [11., 22., 33., 44., 55.]])"
      ]
     },
     "execution_count": 19,
     "metadata": {},
     "output_type": "execute_result"
    }
   ],
   "source": [
    "array5"
   ]
  },
  {
   "cell_type": "code",
   "execution_count": 20,
   "id": "8164bec5",
   "metadata": {},
   "outputs": [
    {
     "data": {
      "text/plain": [
       "(2, 5)"
      ]
     },
     "execution_count": 20,
     "metadata": {},
     "output_type": "execute_result"
    }
   ],
   "source": [
    "array5.shape"
   ]
  },
  {
   "cell_type": "code",
   "execution_count": 21,
   "id": "2322ea7b",
   "metadata": {},
   "outputs": [],
   "source": [
    "array_reshape = array5.reshape(5,2)"
   ]
  },
  {
   "cell_type": "code",
   "execution_count": 22,
   "id": "44a867a3",
   "metadata": {},
   "outputs": [
    {
     "data": {
      "text/plain": [
       "array([[ 1.,  2.],\n",
       "       [ 3.,  4.],\n",
       "       [ 5., 11.],\n",
       "       [22., 33.],\n",
       "       [44., 55.]])"
      ]
     },
     "execution_count": 22,
     "metadata": {},
     "output_type": "execute_result"
    }
   ],
   "source": [
    "array_reshape"
   ]
  },
  {
   "cell_type": "code",
   "execution_count": 23,
   "id": "daab4477",
   "metadata": {},
   "outputs": [],
   "source": [
    "array_reshape = array5.reshape(10,1)"
   ]
  },
  {
   "cell_type": "code",
   "execution_count": 24,
   "id": "f35b1e0c",
   "metadata": {},
   "outputs": [
    {
     "data": {
      "text/plain": [
       "array([[ 1.],\n",
       "       [ 2.],\n",
       "       [ 3.],\n",
       "       [ 4.],\n",
       "       [ 5.],\n",
       "       [11.],\n",
       "       [22.],\n",
       "       [33.],\n",
       "       [44.],\n",
       "       [55.]])"
      ]
     },
     "execution_count": 24,
     "metadata": {},
     "output_type": "execute_result"
    }
   ],
   "source": [
    "array_reshape"
   ]
  },
  {
   "cell_type": "code",
   "execution_count": 25,
   "id": "6c18469d",
   "metadata": {},
   "outputs": [],
   "source": [
    "array_reshape = array5.reshape(1,10)"
   ]
  },
  {
   "cell_type": "code",
   "execution_count": 26,
   "id": "1e5d5b4f",
   "metadata": {},
   "outputs": [
    {
     "data": {
      "text/plain": [
       "array([[ 1.,  2.,  3.,  4.,  5., 11., 22., 33., 44., 55.]])"
      ]
     },
     "execution_count": 26,
     "metadata": {},
     "output_type": "execute_result"
    }
   ],
   "source": [
    "array_reshape"
   ]
  },
  {
   "cell_type": "code",
   "execution_count": 27,
   "id": "1935ef56",
   "metadata": {},
   "outputs": [],
   "source": [
    "array_zero = np.zeros(8)"
   ]
  },
  {
   "cell_type": "code",
   "execution_count": 28,
   "id": "a5c2e546",
   "metadata": {},
   "outputs": [
    {
     "data": {
      "text/plain": [
       "array([0., 0., 0., 0., 0., 0., 0., 0.])"
      ]
     },
     "execution_count": 28,
     "metadata": {},
     "output_type": "execute_result"
    }
   ],
   "source": [
    "array_zero"
   ]
  },
  {
   "cell_type": "code",
   "execution_count": 29,
   "id": "ef1fa80a",
   "metadata": {},
   "outputs": [],
   "source": [
    "array5.shape?"
   ]
  },
  {
   "cell_type": "code",
   "execution_count": 30,
   "id": "4f5f190e",
   "metadata": {},
   "outputs": [],
   "source": [
    "array6 = np.array([[[[1,2,3,4,5],[4,5,6,7,8],[1.2,3.4,5.6,7.8,9.1],[4,4,4,4,5]]]])"
   ]
  },
  {
   "cell_type": "code",
   "execution_count": 31,
   "id": "097b6b57",
   "metadata": {},
   "outputs": [
    {
     "data": {
      "text/plain": [
       "array([[[[1. , 2. , 3. , 4. , 5. ],\n",
       "         [4. , 5. , 6. , 7. , 8. ],\n",
       "         [1.2, 3.4, 5.6, 7.8, 9.1],\n",
       "         [4. , 4. , 4. , 4. , 5. ]]]])"
      ]
     },
     "execution_count": 31,
     "metadata": {},
     "output_type": "execute_result"
    }
   ],
   "source": [
    "array6 "
   ]
  },
  {
   "cell_type": "code",
   "execution_count": 32,
   "id": "8bdb5255",
   "metadata": {},
   "outputs": [
    {
     "data": {
      "text/plain": [
       "(1, 1, 4, 5)"
      ]
     },
     "execution_count": 32,
     "metadata": {},
     "output_type": "execute_result"
    }
   ],
   "source": [
    "array6.shape   ## No use with this example having multiple dimensions in the same"
   ]
  },
  {
   "cell_type": "code",
   "execution_count": 33,
   "id": "bb194014",
   "metadata": {},
   "outputs": [],
   "source": [
    "array7 = np.array([[1,2,3,4,5],[4,5,6,7,8],[1.2,3.4,5.6,7.8,9.1],[4,4,4,4,5]])"
   ]
  },
  {
   "cell_type": "code",
   "execution_count": 34,
   "id": "eeecf90c",
   "metadata": {},
   "outputs": [
    {
     "data": {
      "text/plain": [
       "(4, 5)"
      ]
     },
     "execution_count": 34,
     "metadata": {},
     "output_type": "execute_result"
    }
   ],
   "source": [
    "array7.shape"
   ]
  },
  {
   "cell_type": "code",
   "execution_count": 35,
   "id": "6f2c08be",
   "metadata": {},
   "outputs": [],
   "source": [
    "iter?"
   ]
  },
  {
   "cell_type": "code",
   "execution_count": 36,
   "id": "79440764",
   "metadata": {},
   "outputs": [],
   "source": [
    "array7 = np.array([[[1,2,3,4,5],[4,5,6,7,8]],[[1,3,5,7,9],[4,4,4,4,5]]])"
   ]
  },
  {
   "cell_type": "code",
   "execution_count": 37,
   "id": "e2241177",
   "metadata": {},
   "outputs": [
    {
     "data": {
      "text/plain": [
       "array([[[1, 2, 3, 4, 5],\n",
       "        [4, 5, 6, 7, 8]],\n",
       "\n",
       "       [[1, 3, 5, 7, 9],\n",
       "        [4, 4, 4, 4, 5]]])"
      ]
     },
     "execution_count": 37,
     "metadata": {},
     "output_type": "execute_result"
    }
   ],
   "source": [
    "array7 "
   ]
  },
  {
   "cell_type": "code",
   "execution_count": 38,
   "id": "2a70dae6",
   "metadata": {},
   "outputs": [
    {
     "data": {
      "text/plain": [
       "2"
      ]
     },
     "execution_count": 38,
     "metadata": {},
     "output_type": "execute_result"
    }
   ],
   "source": [
    "len(array7)"
   ]
  },
  {
   "cell_type": "code",
   "execution_count": 39,
   "id": "b9fcb4b9",
   "metadata": {},
   "outputs": [
    {
     "data": {
      "text/plain": [
       "(2, 2, 5)"
      ]
     },
     "execution_count": 39,
     "metadata": {},
     "output_type": "execute_result"
    }
   ],
   "source": [
    "array7.shape"
   ]
  },
  {
   "cell_type": "code",
   "execution_count": 40,
   "id": "fc12b936",
   "metadata": {},
   "outputs": [],
   "source": [
    "array_zero = np.zeros(8)"
   ]
  },
  {
   "cell_type": "code",
   "execution_count": 41,
   "id": "d024b23b",
   "metadata": {},
   "outputs": [
    {
     "data": {
      "text/plain": [
       "array([0., 0., 0., 0., 0., 0., 0., 0.])"
      ]
     },
     "execution_count": 41,
     "metadata": {},
     "output_type": "execute_result"
    }
   ],
   "source": [
    "array_zero"
   ]
  },
  {
   "cell_type": "code",
   "execution_count": 42,
   "id": "72afbd4d",
   "metadata": {},
   "outputs": [],
   "source": [
    "array_ones = np.ones([3,3], dtype=int)"
   ]
  },
  {
   "cell_type": "code",
   "execution_count": 43,
   "id": "de2d8d5e",
   "metadata": {},
   "outputs": [
    {
     "data": {
      "text/plain": [
       "array([[1, 1, 1],\n",
       "       [1, 1, 1],\n",
       "       [1, 1, 1]])"
      ]
     },
     "execution_count": 43,
     "metadata": {},
     "output_type": "execute_result"
    }
   ],
   "source": [
    "array_ones"
   ]
  },
  {
   "cell_type": "markdown",
   "id": "45202464",
   "metadata": {},
   "source": [
    "# Creating an array with existing data\n"
   ]
  },
  {
   "cell_type": "code",
   "execution_count": 44,
   "id": "42159917",
   "metadata": {},
   "outputs": [],
   "source": [
    "x1 = ([3, 5], [5,4], [6,7])"
   ]
  },
  {
   "cell_type": "code",
   "execution_count": 45,
   "id": "d71fbad7",
   "metadata": {},
   "outputs": [
    {
     "ename": "SyntaxError",
     "evalue": "invalid syntax (Temp/ipykernel_15680/1213016252.py, line 1)",
     "output_type": "error",
     "traceback": [
      "\u001b[1;36m  File \u001b[1;32m\"C:\\Users\\maham\\AppData\\Local\\Temp/ipykernel_15680/1213016252.py\"\u001b[1;36m, line \u001b[1;32m1\u001b[0m\n\u001b[1;33m    n1 = ([[3, 5], [5,4], [6,7]], dtype = float)\u001b[0m\n\u001b[1;37m                                        ^\u001b[0m\n\u001b[1;31mSyntaxError\u001b[0m\u001b[1;31m:\u001b[0m invalid syntax\n"
     ]
    }
   ],
   "source": [
    "n1 = ([[3, 5], [5,4], [6,7]], dtype = float)"
   ]
  },
  {
   "cell_type": "code",
   "execution_count": 46,
   "id": "4c73e646",
   "metadata": {},
   "outputs": [],
   "source": [
    "a1 = np.asarray(x1, dtype=float)  ## asarray() is a function"
   ]
  },
  {
   "cell_type": "code",
   "execution_count": 47,
   "id": "7019f883",
   "metadata": {},
   "outputs": [
    {
     "data": {
      "text/plain": [
       "tuple"
      ]
     },
     "execution_count": 47,
     "metadata": {},
     "output_type": "execute_result"
    }
   ],
   "source": [
    "type(x1)"
   ]
  },
  {
   "cell_type": "code",
   "execution_count": 48,
   "id": "02db6df5",
   "metadata": {},
   "outputs": [
    {
     "data": {
      "text/plain": [
       "([3, 5], [5, 4], [6, 7])"
      ]
     },
     "execution_count": 48,
     "metadata": {},
     "output_type": "execute_result"
    }
   ],
   "source": [
    "x1"
   ]
  },
  {
   "cell_type": "code",
   "execution_count": 49,
   "id": "cc7f2fa6",
   "metadata": {},
   "outputs": [
    {
     "data": {
      "text/plain": [
       "array([[3., 5.],\n",
       "       [5., 4.],\n",
       "       [6., 7.]])"
      ]
     },
     "execution_count": 49,
     "metadata": {},
     "output_type": "execute_result"
    }
   ],
   "source": [
    "a1"
   ]
  },
  {
   "cell_type": "markdown",
   "id": "8597bc10",
   "metadata": {},
   "source": [
    "# Array from Numerical ranges\n"
   ]
  },
  {
   "cell_type": "code",
   "execution_count": 50,
   "id": "08ee989b",
   "metadata": {},
   "outputs": [],
   "source": [
    "a1 = np.arange(0,20,3)"
   ]
  },
  {
   "cell_type": "code",
   "execution_count": 51,
   "id": "6f0652df",
   "metadata": {},
   "outputs": [
    {
     "data": {
      "text/plain": [
       "array([ 0,  3,  6,  9, 12, 15, 18])"
      ]
     },
     "execution_count": 51,
     "metadata": {},
     "output_type": "execute_result"
    }
   ],
   "source": [
    "a1"
   ]
  },
  {
   "cell_type": "code",
   "execution_count": 52,
   "id": "fea79143",
   "metadata": {},
   "outputs": [],
   "source": [
    "a1 = np.linspace(10,20,3)"
   ]
  },
  {
   "cell_type": "code",
   "execution_count": 53,
   "id": "cf38f7a1",
   "metadata": {},
   "outputs": [
    {
     "data": {
      "text/plain": [
       "array([10., 15., 20.])"
      ]
     },
     "execution_count": 53,
     "metadata": {},
     "output_type": "execute_result"
    }
   ],
   "source": [
    "a1"
   ]
  },
  {
   "cell_type": "code",
   "execution_count": 54,
   "id": "1221b527",
   "metadata": {},
   "outputs": [],
   "source": [
    "a1 = np.linspace(10,20,6)"
   ]
  },
  {
   "cell_type": "code",
   "execution_count": 55,
   "id": "26bd49e4",
   "metadata": {},
   "outputs": [
    {
     "data": {
      "text/plain": [
       "array([10., 12., 14., 16., 18., 20.])"
      ]
     },
     "execution_count": 55,
     "metadata": {},
     "output_type": "execute_result"
    }
   ],
   "source": [
    "a1"
   ]
  },
  {
   "cell_type": "code",
   "execution_count": 56,
   "id": "63126556",
   "metadata": {},
   "outputs": [],
   "source": [
    "a1 = np.linspace(10,20,5)"
   ]
  },
  {
   "cell_type": "code",
   "execution_count": 57,
   "id": "2b61e6b7",
   "metadata": {},
   "outputs": [
    {
     "data": {
      "text/plain": [
       "array([10. , 12.5, 15. , 17.5, 20. ])"
      ]
     },
     "execution_count": 57,
     "metadata": {},
     "output_type": "execute_result"
    }
   ],
   "source": [
    "a1"
   ]
  },
  {
   "cell_type": "markdown",
   "id": "d3f6fb0d",
   "metadata": {},
   "source": [
    "# Slicing"
   ]
  },
  {
   "cell_type": "code",
   "execution_count": 59,
   "id": "234aedcf",
   "metadata": {},
   "outputs": [],
   "source": [
    "list1 = np.arange(10)\n",
    "\n",
    "#list1"
   ]
  },
  {
   "cell_type": "code",
   "execution_count": 60,
   "id": "8678514a",
   "metadata": {},
   "outputs": [
    {
     "data": {
      "text/plain": [
       "array([0, 1, 2, 3, 4, 5, 6, 7, 8, 9])"
      ]
     },
     "execution_count": 60,
     "metadata": {},
     "output_type": "execute_result"
    }
   ],
   "source": [
    "list1"
   ]
  },
  {
   "cell_type": "code",
   "execution_count": 61,
   "id": "9dbbebb9",
   "metadata": {},
   "outputs": [],
   "source": [
    "array1 = slice(2,9,2)"
   ]
  },
  {
   "cell_type": "code",
   "execution_count": 62,
   "id": "1f00114a",
   "metadata": {},
   "outputs": [
    {
     "data": {
      "text/plain": [
       "slice(2, 9, 2)"
      ]
     },
     "execution_count": 62,
     "metadata": {},
     "output_type": "execute_result"
    }
   ],
   "source": [
    "array1"
   ]
  },
  {
   "cell_type": "code",
   "execution_count": 63,
   "id": "7c2865c8",
   "metadata": {},
   "outputs": [
    {
     "data": {
      "text/plain": [
       "array([2, 4, 6, 8])"
      ]
     },
     "execution_count": 63,
     "metadata": {},
     "output_type": "execute_result"
    }
   ],
   "source": [
    "list1[array1]"
   ]
  },
  {
   "cell_type": "code",
   "execution_count": 64,
   "id": "0a0f79c6",
   "metadata": {},
   "outputs": [],
   "source": [
    "list2 = list1[array1]"
   ]
  },
  {
   "cell_type": "code",
   "execution_count": 65,
   "id": "5b866ebe",
   "metadata": {},
   "outputs": [
    {
     "data": {
      "text/plain": [
       "array([2, 4, 6, 8])"
      ]
     },
     "execution_count": 65,
     "metadata": {},
     "output_type": "execute_result"
    }
   ],
   "source": [
    "list2"
   ]
  },
  {
   "cell_type": "code",
   "execution_count": 66,
   "id": "6f6a6743",
   "metadata": {},
   "outputs": [
    {
     "data": {
      "text/plain": [
       "array([0, 1, 2, 3, 4, 5, 6, 7, 8, 9])"
      ]
     },
     "execution_count": 66,
     "metadata": {},
     "output_type": "execute_result"
    }
   ],
   "source": [
    "list1"
   ]
  },
  {
   "cell_type": "code",
   "execution_count": 67,
   "id": "1bcf1154",
   "metadata": {},
   "outputs": [
    {
     "data": {
      "text/plain": [
       "array([2, 3, 4, 5, 6, 7, 8])"
      ]
     },
     "execution_count": 67,
     "metadata": {},
     "output_type": "execute_result"
    }
   ],
   "source": [
    "array2 = slice(2,9)\n",
    "list1[array2]"
   ]
  },
  {
   "cell_type": "code",
   "execution_count": 68,
   "id": "0fb687dc",
   "metadata": {},
   "outputs": [
    {
     "data": {
      "text/plain": [
       "array([2, 4, 6, 8])"
      ]
     },
     "execution_count": 68,
     "metadata": {},
     "output_type": "execute_result"
    }
   ],
   "source": [
    "list1 = np.arange(10)\n",
    "array1 = list1[2: 9: 2]\n",
    "list1[array1]"
   ]
  },
  {
   "cell_type": "code",
   "execution_count": 69,
   "id": "a634b1e7",
   "metadata": {},
   "outputs": [],
   "source": [
    "array1 = list1[2: 9]"
   ]
  },
  {
   "cell_type": "code",
   "execution_count": 70,
   "id": "284e9a00",
   "metadata": {},
   "outputs": [
    {
     "data": {
      "text/plain": [
       "array([2, 3, 4, 5, 6, 7, 8])"
      ]
     },
     "execution_count": 70,
     "metadata": {},
     "output_type": "execute_result"
    }
   ],
   "source": [
    "array1"
   ]
  },
  {
   "cell_type": "code",
   "execution_count": 71,
   "id": "24988d05",
   "metadata": {},
   "outputs": [
    {
     "data": {
      "text/plain": [
       "7"
      ]
     },
     "execution_count": 71,
     "metadata": {},
     "output_type": "execute_result"
    }
   ],
   "source": [
    "len(array1)"
   ]
  },
  {
   "cell_type": "code",
   "execution_count": 72,
   "id": "8d80ffc6",
   "metadata": {},
   "outputs": [
    {
     "data": {
      "text/plain": [
       "1"
      ]
     },
     "execution_count": 72,
     "metadata": {},
     "output_type": "execute_result"
    }
   ],
   "source": [
    "array1.ndim"
   ]
  },
  {
   "cell_type": "code",
   "execution_count": 73,
   "id": "5347da28",
   "metadata": {},
   "outputs": [],
   "source": [
    "array7 = np.array([[[1,2,3,4,5],[4,5,6,7,8]],[[1,3,5,7,9],[4,4,4,4,5]]])"
   ]
  },
  {
   "cell_type": "code",
   "execution_count": 74,
   "id": "f25f6b9b",
   "metadata": {},
   "outputs": [
    {
     "data": {
      "text/plain": [
       "array([[[1, 2, 3, 4, 5],\n",
       "        [4, 5, 6, 7, 8]],\n",
       "\n",
       "       [[1, 3, 5, 7, 9],\n",
       "        [4, 4, 4, 4, 5]]])"
      ]
     },
     "execution_count": 74,
     "metadata": {},
     "output_type": "execute_result"
    }
   ],
   "source": [
    "array7 "
   ]
  },
  {
   "cell_type": "code",
   "execution_count": 75,
   "id": "409bf774",
   "metadata": {},
   "outputs": [
    {
     "data": {
      "text/plain": [
       "5"
      ]
     },
     "execution_count": 75,
     "metadata": {},
     "output_type": "execute_result"
    }
   ],
   "source": [
    "len(array7[1][1])"
   ]
  },
  {
   "cell_type": "code",
   "execution_count": 76,
   "id": "5ca79662",
   "metadata": {},
   "outputs": [
    {
     "data": {
      "text/plain": [
       "(2, 2, 5)"
      ]
     },
     "execution_count": 76,
     "metadata": {},
     "output_type": "execute_result"
    }
   ],
   "source": [
    "array7.shape"
   ]
  },
  {
   "cell_type": "code",
   "execution_count": 77,
   "id": "24a3e270",
   "metadata": {},
   "outputs": [
    {
     "data": {
      "text/plain": [
       "3"
      ]
     },
     "execution_count": 77,
     "metadata": {},
     "output_type": "execute_result"
    }
   ],
   "source": [
    "array7.ndim"
   ]
  },
  {
   "cell_type": "code",
   "execution_count": 78,
   "id": "244e972f",
   "metadata": {},
   "outputs": [
    {
     "data": {
      "text/plain": [
       "5"
      ]
     },
     "execution_count": 78,
     "metadata": {},
     "output_type": "execute_result"
    }
   ],
   "source": [
    "len(array7[0][1])"
   ]
  },
  {
   "cell_type": "code",
   "execution_count": 79,
   "id": "aacf1f27",
   "metadata": {},
   "outputs": [],
   "source": [
    "array7 = np.array([[1,2,3,4,5],[4,5,6,7,8],[1,3,5,7,9],[4,4,4,4,5]])"
   ]
  },
  {
   "cell_type": "code",
   "execution_count": 80,
   "id": "718a8ce8",
   "metadata": {},
   "outputs": [
    {
     "data": {
      "text/plain": [
       "4"
      ]
     },
     "execution_count": 80,
     "metadata": {},
     "output_type": "execute_result"
    }
   ],
   "source": [
    "len(array7)"
   ]
  },
  {
   "cell_type": "code",
   "execution_count": 81,
   "id": "163fd5c2",
   "metadata": {},
   "outputs": [
    {
     "data": {
      "text/plain": [
       "5"
      ]
     },
     "execution_count": 81,
     "metadata": {},
     "output_type": "execute_result"
    }
   ],
   "source": [
    "len(array7[2])"
   ]
  },
  {
   "cell_type": "code",
   "execution_count": 82,
   "id": "b2100a2e",
   "metadata": {},
   "outputs": [
    {
     "data": {
      "text/plain": [
       "(4, 5)"
      ]
     },
     "execution_count": 82,
     "metadata": {},
     "output_type": "execute_result"
    }
   ],
   "source": [
    "array7.shape"
   ]
  },
  {
   "cell_type": "code",
   "execution_count": 83,
   "id": "52b0384e",
   "metadata": {},
   "outputs": [
    {
     "data": {
      "text/plain": [
       "2"
      ]
     },
     "execution_count": 83,
     "metadata": {},
     "output_type": "execute_result"
    }
   ],
   "source": [
    "array7.ndim"
   ]
  },
  {
   "cell_type": "code",
   "execution_count": 84,
   "id": "50d75279",
   "metadata": {},
   "outputs": [],
   "source": [
    "array7= np.array([[[1,3,4,5],[3,4,5,6],[3,4,5,6]],[[5,4,5,6],[3,4,5,6],[3,4,5,6]],[[5,4,5,6],[3,4,5,6],[3,4,5,6]]])"
   ]
  },
  {
   "cell_type": "code",
   "execution_count": 85,
   "id": "cec9905d",
   "metadata": {},
   "outputs": [
    {
     "data": {
      "text/plain": [
       "array([[[1, 3, 4, 5],\n",
       "        [3, 4, 5, 6],\n",
       "        [3, 4, 5, 6]],\n",
       "\n",
       "       [[5, 4, 5, 6],\n",
       "        [3, 4, 5, 6],\n",
       "        [3, 4, 5, 6]],\n",
       "\n",
       "       [[5, 4, 5, 6],\n",
       "        [3, 4, 5, 6],\n",
       "        [3, 4, 5, 6]]])"
      ]
     },
     "execution_count": 85,
     "metadata": {},
     "output_type": "execute_result"
    }
   ],
   "source": [
    "array7"
   ]
  },
  {
   "cell_type": "code",
   "execution_count": 86,
   "id": "bfbb3a50",
   "metadata": {},
   "outputs": [
    {
     "data": {
      "text/plain": [
       "3"
      ]
     },
     "execution_count": 86,
     "metadata": {},
     "output_type": "execute_result"
    }
   ],
   "source": [
    "array7.ndim"
   ]
  },
  {
   "cell_type": "code",
   "execution_count": 87,
   "id": "9dfb39ca",
   "metadata": {},
   "outputs": [
    {
     "data": {
      "text/plain": [
       "(3, 3, 4)"
      ]
     },
     "execution_count": 87,
     "metadata": {},
     "output_type": "execute_result"
    }
   ],
   "source": [
    "array7.shape"
   ]
  },
  {
   "cell_type": "markdown",
   "id": "d6354a81",
   "metadata": {},
   "source": [
    "# Integer indexing\n"
   ]
  },
  {
   "cell_type": "code",
   "execution_count": 88,
   "id": "f6441208",
   "metadata": {},
   "outputs": [],
   "source": [
    "a = np.array([[1,2],[3,4],[5,6]])\n",
    "b = a[[0,1,2],[0,1,0]]"
   ]
  },
  {
   "cell_type": "code",
   "execution_count": 89,
   "id": "5cb6099e",
   "metadata": {},
   "outputs": [
    {
     "data": {
      "text/plain": [
       "array([[1, 2],\n",
       "       [3, 4],\n",
       "       [5, 6]])"
      ]
     },
     "execution_count": 89,
     "metadata": {},
     "output_type": "execute_result"
    }
   ],
   "source": [
    "a"
   ]
  },
  {
   "cell_type": "code",
   "execution_count": 90,
   "id": "992802e4",
   "metadata": {},
   "outputs": [
    {
     "data": {
      "text/plain": [
       "array([1, 4, 5])"
      ]
     },
     "execution_count": 90,
     "metadata": {},
     "output_type": "execute_result"
    }
   ],
   "source": [
    "b"
   ]
  },
  {
   "cell_type": "code",
   "execution_count": 91,
   "id": "e7946e8d",
   "metadata": {},
   "outputs": [
    {
     "data": {
      "text/plain": [
       "3"
      ]
     },
     "execution_count": 91,
     "metadata": {},
     "output_type": "execute_result"
    }
   ],
   "source": [
    "a[1][0]"
   ]
  },
  {
   "cell_type": "code",
   "execution_count": 92,
   "id": "c5ade5f6",
   "metadata": {},
   "outputs": [],
   "source": [
    "a1 = np.array([[1,2,3,4],[11,22,33,44],[111,222,333,444],[1111,2222,3333,4444]])"
   ]
  },
  {
   "cell_type": "code",
   "execution_count": 93,
   "id": "56ab5ac1",
   "metadata": {},
   "outputs": [],
   "source": [
    "b1 = a1[1:,1:]"
   ]
  },
  {
   "cell_type": "code",
   "execution_count": 94,
   "id": "8c3c451d",
   "metadata": {},
   "outputs": [
    {
     "data": {
      "text/plain": [
       "array([[  22,   33,   44],\n",
       "       [ 222,  333,  444],\n",
       "       [2222, 3333, 4444]])"
      ]
     },
     "execution_count": 94,
     "metadata": {},
     "output_type": "execute_result"
    }
   ],
   "source": [
    "b1"
   ]
  },
  {
   "cell_type": "code",
   "execution_count": 95,
   "id": "5a130be6",
   "metadata": {},
   "outputs": [
    {
     "data": {
      "text/plain": [
       "array([[ 111,  222,  333,  444],\n",
       "       [1111, 2222, 3333, 4444]])"
      ]
     },
     "execution_count": 95,
     "metadata": {},
     "output_type": "execute_result"
    }
   ],
   "source": [
    "a1[1:][1:]   # don't use it"
   ]
  },
  {
   "cell_type": "code",
   "execution_count": 96,
   "id": "b5f9dbb5",
   "metadata": {},
   "outputs": [
    {
     "data": {
      "text/plain": [
       "array([[  22,   33],\n",
       "       [ 222,  333],\n",
       "       [2222, 3333]])"
      ]
     },
     "execution_count": 96,
     "metadata": {},
     "output_type": "execute_result"
    }
   ],
   "source": [
    "a1[1:4,1:3]"
   ]
  },
  {
   "cell_type": "code",
   "execution_count": 97,
   "id": "2bf539f4",
   "metadata": {},
   "outputs": [],
   "source": [
    "b = np.array([[1, 2, 3], [4, 5, 6], [7, 8, 9], [10, 11, 12]])"
   ]
  },
  {
   "cell_type": "code",
   "execution_count": 98,
   "id": "bcea354a",
   "metadata": {},
   "outputs": [
    {
     "data": {
      "text/plain": [
       "array([[ 1,  2,  3],\n",
       "       [ 4,  5,  6],\n",
       "       [ 7,  8,  9],\n",
       "       [10, 11, 12]])"
      ]
     },
     "execution_count": 98,
     "metadata": {},
     "output_type": "execute_result"
    }
   ],
   "source": [
    "b"
   ]
  },
  {
   "cell_type": "code",
   "execution_count": 99,
   "id": "535fdfb2",
   "metadata": {},
   "outputs": [],
   "source": [
    "b1 = b[1:4, [1,2]]"
   ]
  },
  {
   "cell_type": "code",
   "execution_count": 100,
   "id": "e30fd7a9",
   "metadata": {},
   "outputs": [
    {
     "data": {
      "text/plain": [
       "array([[ 5,  6],\n",
       "       [ 8,  9],\n",
       "       [11, 12]])"
      ]
     },
     "execution_count": 100,
     "metadata": {},
     "output_type": "execute_result"
    }
   ],
   "source": [
    "b1"
   ]
  },
  {
   "cell_type": "code",
   "execution_count": 101,
   "id": "c7ef001d",
   "metadata": {},
   "outputs": [],
   "source": [
    "b1 = b[:4, :3]"
   ]
  },
  {
   "cell_type": "code",
   "execution_count": 102,
   "id": "b59b2895",
   "metadata": {},
   "outputs": [
    {
     "data": {
      "text/plain": [
       "array([[ 1,  2,  3],\n",
       "       [ 4,  5,  6],\n",
       "       [ 7,  8,  9],\n",
       "       [10, 11, 12]])"
      ]
     },
     "execution_count": 102,
     "metadata": {},
     "output_type": "execute_result"
    }
   ],
   "source": [
    "b1"
   ]
  },
  {
   "cell_type": "code",
   "execution_count": 103,
   "id": "7b7cf334",
   "metadata": {},
   "outputs": [],
   "source": [
    "a1 = np.array([[1,2,3,4],[11,22,33,44],[111,222,333,444],[1111,2222,3333,4444]])"
   ]
  },
  {
   "cell_type": "code",
   "execution_count": 104,
   "id": "17048b24",
   "metadata": {},
   "outputs": [
    {
     "data": {
      "text/plain": [
       "array([[   1,    2,    3,    4],\n",
       "       [  11,   22,   33,   44],\n",
       "       [ 111,  222,  333,  444],\n",
       "       [1111, 2222, 3333, 4444]])"
      ]
     },
     "execution_count": 104,
     "metadata": {},
     "output_type": "execute_result"
    }
   ],
   "source": [
    "a1"
   ]
  },
  {
   "cell_type": "code",
   "execution_count": 105,
   "id": "aba8c321",
   "metadata": {},
   "outputs": [],
   "source": [
    "x = a1[1:5, [1,2,3]]"
   ]
  },
  {
   "cell_type": "code",
   "execution_count": 106,
   "id": "439b50a5",
   "metadata": {},
   "outputs": [
    {
     "data": {
      "text/plain": [
       "array([[  22,   33,   44],\n",
       "       [ 222,  333,  444],\n",
       "       [2222, 3333, 4444]])"
      ]
     },
     "execution_count": 106,
     "metadata": {},
     "output_type": "execute_result"
    }
   ],
   "source": [
    "x"
   ]
  },
  {
   "cell_type": "code",
   "execution_count": 107,
   "id": "a5060f4e",
   "metadata": {},
   "outputs": [
    {
     "data": {
      "text/plain": [
       "array([[   2,    3,    4],\n",
       "       [  22,   33,   44],\n",
       "       [ 222,  333,  444],\n",
       "       [2222, 3333, 4444]])"
      ]
     },
     "execution_count": 107,
     "metadata": {},
     "output_type": "execute_result"
    }
   ],
   "source": [
    "a1[0:, [1,2,3]]"
   ]
  },
  {
   "cell_type": "code",
   "execution_count": 108,
   "id": "c0066a22",
   "metadata": {},
   "outputs": [
    {
     "data": {
      "text/plain": [
       "array([[   2,    3],\n",
       "       [  22,   33],\n",
       "       [ 222,  333],\n",
       "       [2222, 3333]])"
      ]
     },
     "execution_count": 108,
     "metadata": {},
     "output_type": "execute_result"
    }
   ],
   "source": [
    "a1[0:, [1,2]]"
   ]
  },
  {
   "cell_type": "code",
   "execution_count": 109,
   "id": "76f209a7",
   "metadata": {},
   "outputs": [
    {
     "data": {
      "text/plain": [
       "array([[  22,   33],\n",
       "       [ 222,  333],\n",
       "       [2222, 3333]])"
      ]
     },
     "execution_count": 109,
     "metadata": {},
     "output_type": "execute_result"
    }
   ],
   "source": [
    "a1[1:,[1,2]]"
   ]
  },
  {
   "cell_type": "code",
   "execution_count": 110,
   "id": "11cf3363",
   "metadata": {},
   "outputs": [
    {
     "data": {
      "text/plain": [
       "array([[  22,   33],\n",
       "       [ 222,  333],\n",
       "       [2222, 3333]])"
      ]
     },
     "execution_count": 110,
     "metadata": {},
     "output_type": "execute_result"
    }
   ],
   "source": [
    "a1[[1,2,3],1:3]"
   ]
  },
  {
   "cell_type": "code",
   "execution_count": 111,
   "id": "ebb37438",
   "metadata": {},
   "outputs": [
    {
     "data": {
      "text/plain": [
       "array([[   1,    2,    3,    4],\n",
       "       [  11,   22,   33,   44],\n",
       "       [ 111,  222,  333,  444],\n",
       "       [1111, 2222, 3333, 4444]])"
      ]
     },
     "execution_count": 111,
     "metadata": {},
     "output_type": "execute_result"
    }
   ],
   "source": [
    "a1"
   ]
  },
  {
   "cell_type": "code",
   "execution_count": 112,
   "id": "79a4353b",
   "metadata": {},
   "outputs": [
    {
     "data": {
      "text/plain": [
       "array([1, 2, 3])"
      ]
     },
     "execution_count": 112,
     "metadata": {},
     "output_type": "execute_result"
    }
   ],
   "source": [
    "a1[a1<4]"
   ]
  },
  {
   "cell_type": "code",
   "execution_count": 113,
   "id": "6b40f556",
   "metadata": {},
   "outputs": [
    {
     "data": {
      "text/plain": [
       "array([   4,   11,   22,   33,   44,  111,  222,  333,  444, 1111, 2222,\n",
       "       3333, 4444])"
      ]
     },
     "execution_count": 113,
     "metadata": {},
     "output_type": "execute_result"
    }
   ],
   "source": [
    "a1[a1>=4]"
   ]
  },
  {
   "cell_type": "markdown",
   "id": "be4f600b",
   "metadata": {},
   "source": [
    "# nan example - null values"
   ]
  },
  {
   "cell_type": "code",
   "execution_count": 114,
   "id": "935a0ee2",
   "metadata": {},
   "outputs": [],
   "source": [
    "a2 = np.array([1, 5, np.nan, 8, np.nan, 52, 65, np.nan])   # nan means a null value"
   ]
  },
  {
   "cell_type": "code",
   "execution_count": 115,
   "id": "ece605a3",
   "metadata": {},
   "outputs": [
    {
     "data": {
      "text/plain": [
       "array([ 1.,  5., nan,  8., nan, 52., 65., nan])"
      ]
     },
     "execution_count": 115,
     "metadata": {},
     "output_type": "execute_result"
    }
   ],
   "source": [
    "a2"
   ]
  },
  {
   "cell_type": "code",
   "execution_count": 116,
   "id": "029808d2",
   "metadata": {},
   "outputs": [
    {
     "data": {
      "text/plain": [
       "array([nan, nan, nan])"
      ]
     },
     "execution_count": 116,
     "metadata": {},
     "output_type": "execute_result"
    }
   ],
   "source": [
    "a2[np.isnan(a2)]"
   ]
  },
  {
   "cell_type": "code",
   "execution_count": 117,
   "id": "0918a05c",
   "metadata": {},
   "outputs": [
    {
     "data": {
      "text/plain": [
       "array([ 1.,  5.,  8., 52., 65.])"
      ]
     },
     "execution_count": 117,
     "metadata": {},
     "output_type": "execute_result"
    }
   ],
   "source": [
    "a2[~np.isnan(a2)]"
   ]
  },
  {
   "cell_type": "code",
   "execution_count": 118,
   "id": "579a516b",
   "metadata": {},
   "outputs": [
    {
     "data": {
      "text/plain": [
       "array([[   1,    2,    3,    4],\n",
       "       [  11,   22,   33,   44],\n",
       "       [ 111,  222,  333,  444],\n",
       "       [1111, 2222, 3333, 4444]])"
      ]
     },
     "execution_count": 118,
     "metadata": {},
     "output_type": "execute_result"
    }
   ],
   "source": [
    "a1"
   ]
  },
  {
   "cell_type": "code",
   "execution_count": 119,
   "id": "09bcdb8d",
   "metadata": {},
   "outputs": [
    {
     "data": {
      "text/plain": [
       "array([], dtype=int32)"
      ]
     },
     "execution_count": 119,
     "metadata": {},
     "output_type": "execute_result"
    }
   ],
   "source": [
    "a1[np.isnan(a1)]"
   ]
  },
  {
   "cell_type": "code",
   "execution_count": 120,
   "id": "6cf5d515",
   "metadata": {},
   "outputs": [
    {
     "data": {
      "text/plain": [
       "444"
      ]
     },
     "execution_count": 120,
     "metadata": {},
     "output_type": "execute_result"
    }
   ],
   "source": [
    "a1[2,3]"
   ]
  },
  {
   "cell_type": "code",
   "execution_count": 121,
   "id": "0587d890",
   "metadata": {},
   "outputs": [
    {
     "ename": "ValueError",
     "evalue": "The truth value of an array with more than one element is ambiguous. Use a.any() or a.all()",
     "output_type": "error",
     "traceback": [
      "\u001b[1;31m---------------------------------------------------------------------------\u001b[0m",
      "\u001b[1;31mValueError\u001b[0m                                Traceback (most recent call last)",
      "\u001b[1;32m~\\AppData\\Local\\Temp/ipykernel_15680/4285666519.py\u001b[0m in \u001b[0;36m<module>\u001b[1;34m\u001b[0m\n\u001b[0;32m      1\u001b[0m \u001b[1;32mfor\u001b[0m \u001b[0ma\u001b[0m \u001b[1;32min\u001b[0m \u001b[0ma1\u001b[0m\u001b[1;33m:\u001b[0m\u001b[1;33m\u001b[0m\u001b[1;33m\u001b[0m\u001b[0m\n\u001b[1;32m----> 2\u001b[1;33m     \u001b[1;32mif\u001b[0m \u001b[0ma\u001b[0m \u001b[1;33m==\u001b[0m \u001b[1;36m222\u001b[0m\u001b[1;33m:\u001b[0m\u001b[1;33m\u001b[0m\u001b[1;33m\u001b[0m\u001b[0m\n\u001b[0m\u001b[0;32m      3\u001b[0m         \u001b[0mprint\u001b[0m\u001b[1;33m(\u001b[0m\u001b[0ma\u001b[0m\u001b[1;33m)\u001b[0m\u001b[1;33m\u001b[0m\u001b[1;33m\u001b[0m\u001b[0m\n",
      "\u001b[1;31mValueError\u001b[0m: The truth value of an array with more than one element is ambiguous. Use a.any() or a.all()"
     ]
    }
   ],
   "source": [
    "for a in a1:\n",
    "    if a == 222:\n",
    "        print(a)"
   ]
  },
  {
   "cell_type": "code",
   "execution_count": null,
   "id": "f0aed738",
   "metadata": {},
   "outputs": [],
   "source": []
  }
 ],
 "metadata": {
  "kernelspec": {
   "display_name": "Python 3 (ipykernel)",
   "language": "python",
   "name": "python3"
  },
  "language_info": {
   "codemirror_mode": {
    "name": "ipython",
    "version": 3
   },
   "file_extension": ".py",
   "mimetype": "text/x-python",
   "name": "python",
   "nbconvert_exporter": "python",
   "pygments_lexer": "ipython3",
   "version": "3.9.7"
  }
 },
 "nbformat": 4,
 "nbformat_minor": 5
}
