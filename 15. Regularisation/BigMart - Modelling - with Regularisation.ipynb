{
 "cells": [
  {
   "cell_type": "code",
   "execution_count": 82,
   "id": "2d391baa",
   "metadata": {},
   "outputs": [],
   "source": [
    "import numpy as np\n",
    "import pandas as pd\n",
    "import matplotlib.pyplot as plt\n",
    "from sklearn.linear_model import LinearRegression\n",
    "from sklearn.neighbors import KNeighborsRegressor\n",
    "\n",
    "from sklearn.metrics import mean_squared_error, r2_score\n",
    "\n",
    "from sklearn.model_selection import train_test_split\n"
   ]
  },
  {
   "cell_type": "code",
   "execution_count": 12,
   "id": "82f065fb",
   "metadata": {},
   "outputs": [],
   "source": [
    "train = pd.read_csv(\"train_preprocessed.csv\")\n",
    "test = pd.read_csv(\"test_preprocessed.csv\")\n",
    "sample = pd.read_csv(\"sample_submission_8RXa3c6.csv\")"
   ]
  },
  {
   "cell_type": "code",
   "execution_count": 32,
   "id": "5ee6ed93",
   "metadata": {},
   "outputs": [
    {
     "data": {
      "text/html": [
       "<div>\n",
       "<style scoped>\n",
       "    .dataframe tbody tr th:only-of-type {\n",
       "        vertical-align: middle;\n",
       "    }\n",
       "\n",
       "    .dataframe tbody tr th {\n",
       "        vertical-align: top;\n",
       "    }\n",
       "\n",
       "    .dataframe thead th {\n",
       "        text-align: right;\n",
       "    }\n",
       "</style>\n",
       "<table border=\"1\" class=\"dataframe\">\n",
       "  <thead>\n",
       "    <tr style=\"text-align: right;\">\n",
       "      <th></th>\n",
       "      <th>Item_Identifier</th>\n",
       "      <th>Outlet_Identifier</th>\n",
       "      <th>Item_Outlet_Sales</th>\n",
       "    </tr>\n",
       "  </thead>\n",
       "  <tbody>\n",
       "    <tr>\n",
       "      <th>0</th>\n",
       "      <td>FDW58</td>\n",
       "      <td>OUT049</td>\n",
       "      <td>1000</td>\n",
       "    </tr>\n",
       "    <tr>\n",
       "      <th>1</th>\n",
       "      <td>FDW14</td>\n",
       "      <td>OUT017</td>\n",
       "      <td>1000</td>\n",
       "    </tr>\n",
       "    <tr>\n",
       "      <th>2</th>\n",
       "      <td>NCN55</td>\n",
       "      <td>OUT010</td>\n",
       "      <td>1000</td>\n",
       "    </tr>\n",
       "    <tr>\n",
       "      <th>3</th>\n",
       "      <td>FDQ58</td>\n",
       "      <td>OUT017</td>\n",
       "      <td>1000</td>\n",
       "    </tr>\n",
       "    <tr>\n",
       "      <th>4</th>\n",
       "      <td>FDY38</td>\n",
       "      <td>OUT027</td>\n",
       "      <td>1000</td>\n",
       "    </tr>\n",
       "    <tr>\n",
       "      <th>...</th>\n",
       "      <td>...</td>\n",
       "      <td>...</td>\n",
       "      <td>...</td>\n",
       "    </tr>\n",
       "    <tr>\n",
       "      <th>5676</th>\n",
       "      <td>FDB58</td>\n",
       "      <td>OUT046</td>\n",
       "      <td>1000</td>\n",
       "    </tr>\n",
       "    <tr>\n",
       "      <th>5677</th>\n",
       "      <td>FDD47</td>\n",
       "      <td>OUT018</td>\n",
       "      <td>1000</td>\n",
       "    </tr>\n",
       "    <tr>\n",
       "      <th>5678</th>\n",
       "      <td>NCO17</td>\n",
       "      <td>OUT045</td>\n",
       "      <td>1000</td>\n",
       "    </tr>\n",
       "    <tr>\n",
       "      <th>5679</th>\n",
       "      <td>FDJ26</td>\n",
       "      <td>OUT017</td>\n",
       "      <td>1000</td>\n",
       "    </tr>\n",
       "    <tr>\n",
       "      <th>5680</th>\n",
       "      <td>FDU37</td>\n",
       "      <td>OUT045</td>\n",
       "      <td>1000</td>\n",
       "    </tr>\n",
       "  </tbody>\n",
       "</table>\n",
       "<p>5681 rows × 3 columns</p>\n",
       "</div>"
      ],
      "text/plain": [
       "     Item_Identifier Outlet_Identifier  Item_Outlet_Sales\n",
       "0              FDW58            OUT049               1000\n",
       "1              FDW14            OUT017               1000\n",
       "2              NCN55            OUT010               1000\n",
       "3              FDQ58            OUT017               1000\n",
       "4              FDY38            OUT027               1000\n",
       "...              ...               ...                ...\n",
       "5676           FDB58            OUT046               1000\n",
       "5677           FDD47            OUT018               1000\n",
       "5678           NCO17            OUT045               1000\n",
       "5679           FDJ26            OUT017               1000\n",
       "5680           FDU37            OUT045               1000\n",
       "\n",
       "[5681 rows x 3 columns]"
      ]
     },
     "execution_count": 32,
     "metadata": {},
     "output_type": "execute_result"
    }
   ],
   "source": [
    "sample"
   ]
  },
  {
   "cell_type": "code",
   "execution_count": 13,
   "id": "cdcb880f",
   "metadata": {},
   "outputs": [
    {
     "data": {
      "text/html": [
       "<div>\n",
       "<style scoped>\n",
       "    .dataframe tbody tr th:only-of-type {\n",
       "        vertical-align: middle;\n",
       "    }\n",
       "\n",
       "    .dataframe tbody tr th {\n",
       "        vertical-align: top;\n",
       "    }\n",
       "\n",
       "    .dataframe thead th {\n",
       "        text-align: right;\n",
       "    }\n",
       "</style>\n",
       "<table border=\"1\" class=\"dataframe\">\n",
       "  <thead>\n",
       "    <tr style=\"text-align: right;\">\n",
       "      <th></th>\n",
       "      <th>Item_Weight</th>\n",
       "      <th>Item_Visibility</th>\n",
       "      <th>Item_MRP</th>\n",
       "      <th>Outlet_Age</th>\n",
       "      <th>Item_Fat_Content_Low Fat</th>\n",
       "      <th>Item_Fat_Content_Regular</th>\n",
       "      <th>Item_Type_Baking Goods</th>\n",
       "      <th>Item_Type_Breads</th>\n",
       "      <th>Item_Type_Breakfast</th>\n",
       "      <th>Item_Type_Canned</th>\n",
       "      <th>...</th>\n",
       "      <th>Outlet_Type_Grocery Store</th>\n",
       "      <th>Outlet_Type_Supermarket Type1</th>\n",
       "      <th>Outlet_Type_Supermarket Type2</th>\n",
       "      <th>Outlet_Type_Supermarket Type3</th>\n",
       "      <th>Item_Identifer_code_DR</th>\n",
       "      <th>Item_Identifer_code_FD</th>\n",
       "      <th>Item_Identifer_code_NC</th>\n",
       "      <th>Item_Identifier</th>\n",
       "      <th>Outlet_Identifier</th>\n",
       "      <th>Item_Outlet_Sales</th>\n",
       "    </tr>\n",
       "  </thead>\n",
       "  <tbody>\n",
       "    <tr>\n",
       "      <th>0</th>\n",
       "      <td>-0.751014</td>\n",
       "      <td>-0.969852</td>\n",
       "      <td>1.752511</td>\n",
       "      <td>-0.139681</td>\n",
       "      <td>1</td>\n",
       "      <td>0</td>\n",
       "      <td>0</td>\n",
       "      <td>0</td>\n",
       "      <td>0</td>\n",
       "      <td>0</td>\n",
       "      <td>...</td>\n",
       "      <td>0</td>\n",
       "      <td>1</td>\n",
       "      <td>0</td>\n",
       "      <td>0</td>\n",
       "      <td>0</td>\n",
       "      <td>1</td>\n",
       "      <td>0</td>\n",
       "      <td>FDA15</td>\n",
       "      <td>OUT049</td>\n",
       "      <td>3735.1380</td>\n",
       "    </tr>\n",
       "    <tr>\n",
       "      <th>1</th>\n",
       "      <td>-1.477653</td>\n",
       "      <td>-0.907063</td>\n",
       "      <td>-1.493696</td>\n",
       "      <td>-1.334228</td>\n",
       "      <td>0</td>\n",
       "      <td>1</td>\n",
       "      <td>0</td>\n",
       "      <td>0</td>\n",
       "      <td>0</td>\n",
       "      <td>0</td>\n",
       "      <td>...</td>\n",
       "      <td>0</td>\n",
       "      <td>0</td>\n",
       "      <td>1</td>\n",
       "      <td>0</td>\n",
       "      <td>1</td>\n",
       "      <td>0</td>\n",
       "      <td>0</td>\n",
       "      <td>DRC01</td>\n",
       "      <td>OUT018</td>\n",
       "      <td>443.4228</td>\n",
       "    </tr>\n",
       "    <tr>\n",
       "      <th>2</th>\n",
       "      <td>1.011839</td>\n",
       "      <td>-0.956000</td>\n",
       "      <td>0.009874</td>\n",
       "      <td>-0.139681</td>\n",
       "      <td>1</td>\n",
       "      <td>0</td>\n",
       "      <td>0</td>\n",
       "      <td>0</td>\n",
       "      <td>0</td>\n",
       "      <td>0</td>\n",
       "      <td>...</td>\n",
       "      <td>0</td>\n",
       "      <td>1</td>\n",
       "      <td>0</td>\n",
       "      <td>0</td>\n",
       "      <td>0</td>\n",
       "      <td>1</td>\n",
       "      <td>0</td>\n",
       "      <td>FDN15</td>\n",
       "      <td>OUT049</td>\n",
       "      <td>2097.2700</td>\n",
       "    </tr>\n",
       "    <tr>\n",
       "      <th>3</th>\n",
       "      <td>1.377308</td>\n",
       "      <td>-1.281712</td>\n",
       "      <td>0.661838</td>\n",
       "      <td>-0.020226</td>\n",
       "      <td>0</td>\n",
       "      <td>1</td>\n",
       "      <td>0</td>\n",
       "      <td>0</td>\n",
       "      <td>0</td>\n",
       "      <td>0</td>\n",
       "      <td>...</td>\n",
       "      <td>1</td>\n",
       "      <td>0</td>\n",
       "      <td>0</td>\n",
       "      <td>0</td>\n",
       "      <td>0</td>\n",
       "      <td>1</td>\n",
       "      <td>0</td>\n",
       "      <td>FDX07</td>\n",
       "      <td>OUT010</td>\n",
       "      <td>732.3800</td>\n",
       "    </tr>\n",
       "    <tr>\n",
       "      <th>4</th>\n",
       "      <td>-0.830557</td>\n",
       "      <td>-1.281712</td>\n",
       "      <td>-1.403623</td>\n",
       "      <td>1.293777</td>\n",
       "      <td>1</td>\n",
       "      <td>0</td>\n",
       "      <td>0</td>\n",
       "      <td>0</td>\n",
       "      <td>0</td>\n",
       "      <td>0</td>\n",
       "      <td>...</td>\n",
       "      <td>0</td>\n",
       "      <td>1</td>\n",
       "      <td>0</td>\n",
       "      <td>0</td>\n",
       "      <td>0</td>\n",
       "      <td>0</td>\n",
       "      <td>1</td>\n",
       "      <td>NCD19</td>\n",
       "      <td>OUT013</td>\n",
       "      <td>994.7052</td>\n",
       "    </tr>\n",
       "  </tbody>\n",
       "</table>\n",
       "<p>5 rows × 48 columns</p>\n",
       "</div>"
      ],
      "text/plain": [
       "   Item_Weight  Item_Visibility  Item_MRP  Outlet_Age  \\\n",
       "0    -0.751014        -0.969852  1.752511   -0.139681   \n",
       "1    -1.477653        -0.907063 -1.493696   -1.334228   \n",
       "2     1.011839        -0.956000  0.009874   -0.139681   \n",
       "3     1.377308        -1.281712  0.661838   -0.020226   \n",
       "4    -0.830557        -1.281712 -1.403623    1.293777   \n",
       "\n",
       "   Item_Fat_Content_Low Fat  Item_Fat_Content_Regular  Item_Type_Baking Goods  \\\n",
       "0                         1                         0                       0   \n",
       "1                         0                         1                       0   \n",
       "2                         1                         0                       0   \n",
       "3                         0                         1                       0   \n",
       "4                         1                         0                       0   \n",
       "\n",
       "   Item_Type_Breads  Item_Type_Breakfast  Item_Type_Canned  ...  \\\n",
       "0                 0                    0                 0  ...   \n",
       "1                 0                    0                 0  ...   \n",
       "2                 0                    0                 0  ...   \n",
       "3                 0                    0                 0  ...   \n",
       "4                 0                    0                 0  ...   \n",
       "\n",
       "   Outlet_Type_Grocery Store  Outlet_Type_Supermarket Type1  \\\n",
       "0                          0                              1   \n",
       "1                          0                              0   \n",
       "2                          0                              1   \n",
       "3                          1                              0   \n",
       "4                          0                              1   \n",
       "\n",
       "   Outlet_Type_Supermarket Type2  Outlet_Type_Supermarket Type3  \\\n",
       "0                              0                              0   \n",
       "1                              1                              0   \n",
       "2                              0                              0   \n",
       "3                              0                              0   \n",
       "4                              0                              0   \n",
       "\n",
       "   Item_Identifer_code_DR  Item_Identifer_code_FD  Item_Identifer_code_NC  \\\n",
       "0                       0                       1                       0   \n",
       "1                       1                       0                       0   \n",
       "2                       0                       1                       0   \n",
       "3                       0                       1                       0   \n",
       "4                       0                       0                       1   \n",
       "\n",
       "   Item_Identifier  Outlet_Identifier  Item_Outlet_Sales  \n",
       "0            FDA15             OUT049          3735.1380  \n",
       "1            DRC01             OUT018           443.4228  \n",
       "2            FDN15             OUT049          2097.2700  \n",
       "3            FDX07             OUT010           732.3800  \n",
       "4            NCD19             OUT013           994.7052  \n",
       "\n",
       "[5 rows x 48 columns]"
      ]
     },
     "execution_count": 13,
     "metadata": {},
     "output_type": "execute_result"
    }
   ],
   "source": [
    "train.head()"
   ]
  },
  {
   "cell_type": "code",
   "execution_count": 16,
   "id": "4c29d4fc",
   "metadata": {},
   "outputs": [],
   "source": [
    "X = train.drop(columns = [\"Item_Outlet_Sales\", \"Item_Identifier\", \"Outlet_Identifier\"])\n",
    "y = train['Item_Outlet_Sales']"
   ]
  },
  {
   "cell_type": "code",
   "execution_count": 17,
   "id": "5d180258",
   "metadata": {},
   "outputs": [
    {
     "data": {
      "text/html": [
       "<div>\n",
       "<style scoped>\n",
       "    .dataframe tbody tr th:only-of-type {\n",
       "        vertical-align: middle;\n",
       "    }\n",
       "\n",
       "    .dataframe tbody tr th {\n",
       "        vertical-align: top;\n",
       "    }\n",
       "\n",
       "    .dataframe thead th {\n",
       "        text-align: right;\n",
       "    }\n",
       "</style>\n",
       "<table border=\"1\" class=\"dataframe\">\n",
       "  <thead>\n",
       "    <tr style=\"text-align: right;\">\n",
       "      <th></th>\n",
       "      <th>Item_Weight</th>\n",
       "      <th>Item_Visibility</th>\n",
       "      <th>Item_MRP</th>\n",
       "      <th>Outlet_Age</th>\n",
       "      <th>Item_Fat_Content_Low Fat</th>\n",
       "      <th>Item_Fat_Content_Regular</th>\n",
       "      <th>Item_Type_Baking Goods</th>\n",
       "      <th>Item_Type_Breads</th>\n",
       "      <th>Item_Type_Breakfast</th>\n",
       "      <th>Item_Type_Canned</th>\n",
       "      <th>...</th>\n",
       "      <th>Outlet_Location_Type_Tier 1</th>\n",
       "      <th>Outlet_Location_Type_Tier 2</th>\n",
       "      <th>Outlet_Location_Type_Tier 3</th>\n",
       "      <th>Outlet_Type_Grocery Store</th>\n",
       "      <th>Outlet_Type_Supermarket Type1</th>\n",
       "      <th>Outlet_Type_Supermarket Type2</th>\n",
       "      <th>Outlet_Type_Supermarket Type3</th>\n",
       "      <th>Item_Identifer_code_DR</th>\n",
       "      <th>Item_Identifer_code_FD</th>\n",
       "      <th>Item_Identifer_code_NC</th>\n",
       "    </tr>\n",
       "  </thead>\n",
       "  <tbody>\n",
       "    <tr>\n",
       "      <th>0</th>\n",
       "      <td>-0.751014</td>\n",
       "      <td>-0.969852</td>\n",
       "      <td>1.752511</td>\n",
       "      <td>-0.139681</td>\n",
       "      <td>1</td>\n",
       "      <td>0</td>\n",
       "      <td>0</td>\n",
       "      <td>0</td>\n",
       "      <td>0</td>\n",
       "      <td>0</td>\n",
       "      <td>...</td>\n",
       "      <td>1</td>\n",
       "      <td>0</td>\n",
       "      <td>0</td>\n",
       "      <td>0</td>\n",
       "      <td>1</td>\n",
       "      <td>0</td>\n",
       "      <td>0</td>\n",
       "      <td>0</td>\n",
       "      <td>1</td>\n",
       "      <td>0</td>\n",
       "    </tr>\n",
       "    <tr>\n",
       "      <th>1</th>\n",
       "      <td>-1.477653</td>\n",
       "      <td>-0.907063</td>\n",
       "      <td>-1.493696</td>\n",
       "      <td>-1.334228</td>\n",
       "      <td>0</td>\n",
       "      <td>1</td>\n",
       "      <td>0</td>\n",
       "      <td>0</td>\n",
       "      <td>0</td>\n",
       "      <td>0</td>\n",
       "      <td>...</td>\n",
       "      <td>0</td>\n",
       "      <td>0</td>\n",
       "      <td>1</td>\n",
       "      <td>0</td>\n",
       "      <td>0</td>\n",
       "      <td>1</td>\n",
       "      <td>0</td>\n",
       "      <td>1</td>\n",
       "      <td>0</td>\n",
       "      <td>0</td>\n",
       "    </tr>\n",
       "    <tr>\n",
       "      <th>2</th>\n",
       "      <td>1.011839</td>\n",
       "      <td>-0.956000</td>\n",
       "      <td>0.009874</td>\n",
       "      <td>-0.139681</td>\n",
       "      <td>1</td>\n",
       "      <td>0</td>\n",
       "      <td>0</td>\n",
       "      <td>0</td>\n",
       "      <td>0</td>\n",
       "      <td>0</td>\n",
       "      <td>...</td>\n",
       "      <td>1</td>\n",
       "      <td>0</td>\n",
       "      <td>0</td>\n",
       "      <td>0</td>\n",
       "      <td>1</td>\n",
       "      <td>0</td>\n",
       "      <td>0</td>\n",
       "      <td>0</td>\n",
       "      <td>1</td>\n",
       "      <td>0</td>\n",
       "    </tr>\n",
       "    <tr>\n",
       "      <th>3</th>\n",
       "      <td>1.377308</td>\n",
       "      <td>-1.281712</td>\n",
       "      <td>0.661838</td>\n",
       "      <td>-0.020226</td>\n",
       "      <td>0</td>\n",
       "      <td>1</td>\n",
       "      <td>0</td>\n",
       "      <td>0</td>\n",
       "      <td>0</td>\n",
       "      <td>0</td>\n",
       "      <td>...</td>\n",
       "      <td>0</td>\n",
       "      <td>0</td>\n",
       "      <td>1</td>\n",
       "      <td>1</td>\n",
       "      <td>0</td>\n",
       "      <td>0</td>\n",
       "      <td>0</td>\n",
       "      <td>0</td>\n",
       "      <td>1</td>\n",
       "      <td>0</td>\n",
       "    </tr>\n",
       "    <tr>\n",
       "      <th>4</th>\n",
       "      <td>-0.830557</td>\n",
       "      <td>-1.281712</td>\n",
       "      <td>-1.403623</td>\n",
       "      <td>1.293777</td>\n",
       "      <td>1</td>\n",
       "      <td>0</td>\n",
       "      <td>0</td>\n",
       "      <td>0</td>\n",
       "      <td>0</td>\n",
       "      <td>0</td>\n",
       "      <td>...</td>\n",
       "      <td>0</td>\n",
       "      <td>0</td>\n",
       "      <td>1</td>\n",
       "      <td>0</td>\n",
       "      <td>1</td>\n",
       "      <td>0</td>\n",
       "      <td>0</td>\n",
       "      <td>0</td>\n",
       "      <td>0</td>\n",
       "      <td>1</td>\n",
       "    </tr>\n",
       "  </tbody>\n",
       "</table>\n",
       "<p>5 rows × 45 columns</p>\n",
       "</div>"
      ],
      "text/plain": [
       "   Item_Weight  Item_Visibility  Item_MRP  Outlet_Age  \\\n",
       "0    -0.751014        -0.969852  1.752511   -0.139681   \n",
       "1    -1.477653        -0.907063 -1.493696   -1.334228   \n",
       "2     1.011839        -0.956000  0.009874   -0.139681   \n",
       "3     1.377308        -1.281712  0.661838   -0.020226   \n",
       "4    -0.830557        -1.281712 -1.403623    1.293777   \n",
       "\n",
       "   Item_Fat_Content_Low Fat  Item_Fat_Content_Regular  Item_Type_Baking Goods  \\\n",
       "0                         1                         0                       0   \n",
       "1                         0                         1                       0   \n",
       "2                         1                         0                       0   \n",
       "3                         0                         1                       0   \n",
       "4                         1                         0                       0   \n",
       "\n",
       "   Item_Type_Breads  Item_Type_Breakfast  Item_Type_Canned  ...  \\\n",
       "0                 0                    0                 0  ...   \n",
       "1                 0                    0                 0  ...   \n",
       "2                 0                    0                 0  ...   \n",
       "3                 0                    0                 0  ...   \n",
       "4                 0                    0                 0  ...   \n",
       "\n",
       "   Outlet_Location_Type_Tier 1  Outlet_Location_Type_Tier 2  \\\n",
       "0                            1                            0   \n",
       "1                            0                            0   \n",
       "2                            1                            0   \n",
       "3                            0                            0   \n",
       "4                            0                            0   \n",
       "\n",
       "   Outlet_Location_Type_Tier 3  Outlet_Type_Grocery Store  \\\n",
       "0                            0                          0   \n",
       "1                            1                          0   \n",
       "2                            0                          0   \n",
       "3                            1                          1   \n",
       "4                            1                          0   \n",
       "\n",
       "   Outlet_Type_Supermarket Type1  Outlet_Type_Supermarket Type2  \\\n",
       "0                              1                              0   \n",
       "1                              0                              1   \n",
       "2                              1                              0   \n",
       "3                              0                              0   \n",
       "4                              1                              0   \n",
       "\n",
       "   Outlet_Type_Supermarket Type3  Item_Identifer_code_DR  \\\n",
       "0                              0                       0   \n",
       "1                              0                       1   \n",
       "2                              0                       0   \n",
       "3                              0                       0   \n",
       "4                              0                       0   \n",
       "\n",
       "   Item_Identifer_code_FD  Item_Identifer_code_NC  \n",
       "0                       1                       0  \n",
       "1                       0                       0  \n",
       "2                       1                       0  \n",
       "3                       1                       0  \n",
       "4                       0                       1  \n",
       "\n",
       "[5 rows x 45 columns]"
      ]
     },
     "execution_count": 17,
     "metadata": {},
     "output_type": "execute_result"
    }
   ],
   "source": [
    "X.head()"
   ]
  },
  {
   "cell_type": "code",
   "execution_count": 18,
   "id": "1fe75bef",
   "metadata": {},
   "outputs": [
    {
     "data": {
      "text/plain": [
       "0    3735.1380\n",
       "1     443.4228\n",
       "2    2097.2700\n",
       "3     732.3800\n",
       "4     994.7052\n",
       "Name: Item_Outlet_Sales, dtype: float64"
      ]
     },
     "execution_count": 18,
     "metadata": {},
     "output_type": "execute_result"
    }
   ],
   "source": [
    "y.head()"
   ]
  },
  {
   "cell_type": "code",
   "execution_count": 20,
   "id": "56160b43",
   "metadata": {},
   "outputs": [],
   "source": [
    "train_X, test_X, train_y, test_y = train_test_split(X,y, test_size = 0.2, random_state=32)"
   ]
  },
  {
   "cell_type": "code",
   "execution_count": 22,
   "id": "ff249237",
   "metadata": {},
   "outputs": [
    {
     "data": {
      "text/plain": [
       "LinearRegression()"
      ]
     },
     "execution_count": 22,
     "metadata": {},
     "output_type": "execute_result"
    }
   ],
   "source": [
    "model = LinearRegression()\n",
    "model.fit(train_X, train_y)"
   ]
  },
  {
   "cell_type": "code",
   "execution_count": 23,
   "id": "639d11ed",
   "metadata": {},
   "outputs": [
    {
     "data": {
      "text/plain": [
       "array([ 5.75271882e+00, -8.08003430e+00,  9.78764109e+02,  5.06812501e+13,\n",
       "        3.56924554e+14,  3.56924554e+14,  4.53359695e+14,  4.53359695e+14,\n",
       "        4.53359695e+14,  4.53359695e+14,  4.53359695e+14,  4.53359695e+14,\n",
       "        4.53359695e+14,  4.53359695e+14, -2.09898896e+15, -2.09898896e+15,\n",
       "        4.53359695e+14, -2.09898896e+15,  4.53359695e+14,  4.53359695e+14,\n",
       "        4.53359695e+14,  4.53359695e+14, -3.34616724e+13,  1.17108015e+14,\n",
       "       -1.07422797e+14,  1.23495669e+14, -9.53592580e+13,  2.77456828e+14,\n",
       "       -1.25585149e+14, -1.37693383e+14, -5.90474981e+13,  7.66890108e+13,\n",
       "        1.33378581e+14,  2.63252930e+14,  3.86881204e+14,  9.15673793e+13,\n",
       "        2.00483851e+14,  1.08373317e+14, -5.43990952e+13, -1.80614486e+13,\n",
       "       -2.11328725e+13, -3.20392845e+14, -3.42436227e+15, -3.42436227e+15,\n",
       "       -8.72013619e+14])"
      ]
     },
     "execution_count": 23,
     "metadata": {},
     "output_type": "execute_result"
    }
   ],
   "source": [
    "model.coef_"
   ]
  },
  {
   "cell_type": "code",
   "execution_count": 24,
   "id": "5fa1dfe4",
   "metadata": {},
   "outputs": [
    {
     "data": {
      "text/plain": [
       "2207709344419342.0"
      ]
     },
     "execution_count": 24,
     "metadata": {},
     "output_type": "execute_result"
    }
   ],
   "source": [
    "model.intercept_"
   ]
  },
  {
   "cell_type": "code",
   "execution_count": 27,
   "id": "91b63cc2",
   "metadata": {},
   "outputs": [],
   "source": [
    "train_X_pred = model.predict(train_X)\n",
    "test_X_pred = model.predict(test_X)\n",
    "\n",
    "#actual test data from hackathon\n",
    "test_pred = model.predict(test.drop(columns = [\"Item_Identifier\", \"Outlet_Identifier\"]))"
   ]
  },
  {
   "cell_type": "code",
   "execution_count": 28,
   "id": "22adfff1",
   "metadata": {},
   "outputs": [],
   "source": [
    "train_X_RMSE = np.sqrt(mean_squared_error(train_y, train_X_pred))\n",
    "test_X_RMSE = np.sqrt(mean_squared_error(test_y, test_X_pred))"
   ]
  },
  {
   "cell_type": "code",
   "execution_count": 29,
   "id": "9e6a6643",
   "metadata": {},
   "outputs": [
    {
     "name": "stdout",
     "output_type": "stream",
     "text": [
      "Train RMSE :  1125.2226933045113\n",
      "Test RMSE :  1136.398236618232\n"
     ]
    }
   ],
   "source": [
    "print(\"Train RMSE : \",train_X_RMSE)\n",
    "print(\"Test RMSE : \",test_X_RMSE)"
   ]
  },
  {
   "cell_type": "code",
   "execution_count": 30,
   "id": "a5c86681",
   "metadata": {},
   "outputs": [],
   "source": [
    "train_X_R2 = r2_score(train_y, train_X_pred)\n",
    "test_X_R2 = r2_score(test_y, test_X_pred)"
   ]
  },
  {
   "cell_type": "code",
   "execution_count": 31,
   "id": "e6bb178f",
   "metadata": {},
   "outputs": [
    {
     "name": "stdout",
     "output_type": "stream",
     "text": [
      "Train R2 :  0.5643997270986956\n",
      "Test R2 :  0.5594981851164198\n"
     ]
    }
   ],
   "source": [
    "print(\"Train R2 : \",train_X_R2)\n",
    "print(\"Test R2 : \",test_X_R2)"
   ]
  },
  {
   "cell_type": "code",
   "execution_count": 42,
   "id": "f76d8003",
   "metadata": {},
   "outputs": [],
   "source": [
    "test_pred_modified = np.where(test_pred<0,0,test_pred)"
   ]
  },
  {
   "cell_type": "code",
   "execution_count": 46,
   "id": "e3a52101",
   "metadata": {},
   "outputs": [],
   "source": [
    "#test_pred_modified = np.abs(test_pred)"
   ]
  },
  {
   "cell_type": "code",
   "execution_count": 47,
   "id": "c045d4fa",
   "metadata": {},
   "outputs": [],
   "source": [
    "test['Item_Outlet_Sales'] = test_pred_modified"
   ]
  },
  {
   "cell_type": "code",
   "execution_count": 48,
   "id": "acb0ad27",
   "metadata": {},
   "outputs": [],
   "source": [
    "Output = test[[ \"Item_Identifier\", \"Outlet_Identifier\",\"Item_Outlet_Sales\"]]"
   ]
  },
  {
   "cell_type": "code",
   "execution_count": 49,
   "id": "3e1a41ce",
   "metadata": {},
   "outputs": [],
   "source": [
    "Output.to_csv(\"Result_Linear_Regression_with_80percent_traindata_abs.csv\", index = False)"
   ]
  },
  {
   "cell_type": "code",
   "execution_count": 58,
   "id": "03c147e6",
   "metadata": {},
   "outputs": [
    {
     "data": {
      "text/html": [
       "<div>\n",
       "<style scoped>\n",
       "    .dataframe tbody tr th:only-of-type {\n",
       "        vertical-align: middle;\n",
       "    }\n",
       "\n",
       "    .dataframe tbody tr th {\n",
       "        vertical-align: top;\n",
       "    }\n",
       "\n",
       "    .dataframe thead th {\n",
       "        text-align: right;\n",
       "    }\n",
       "</style>\n",
       "<table border=\"1\" class=\"dataframe\">\n",
       "  <thead>\n",
       "    <tr style=\"text-align: right;\">\n",
       "      <th></th>\n",
       "      <th>Item_Weight</th>\n",
       "      <th>Item_Visibility</th>\n",
       "      <th>Item_MRP</th>\n",
       "      <th>Outlet_Age</th>\n",
       "      <th>Item_Fat_Content_Low Fat</th>\n",
       "      <th>Item_Fat_Content_Regular</th>\n",
       "      <th>Item_Type_Baking Goods</th>\n",
       "      <th>Item_Type_Breads</th>\n",
       "      <th>Item_Type_Breakfast</th>\n",
       "      <th>Item_Type_Canned</th>\n",
       "      <th>...</th>\n",
       "      <th>Outlet_Location_Type_Tier 1</th>\n",
       "      <th>Outlet_Location_Type_Tier 2</th>\n",
       "      <th>Outlet_Location_Type_Tier 3</th>\n",
       "      <th>Outlet_Type_Grocery Store</th>\n",
       "      <th>Outlet_Type_Supermarket Type1</th>\n",
       "      <th>Outlet_Type_Supermarket Type2</th>\n",
       "      <th>Outlet_Type_Supermarket Type3</th>\n",
       "      <th>Item_Identifer_code_DR</th>\n",
       "      <th>Item_Identifer_code_FD</th>\n",
       "      <th>Item_Identifer_code_NC</th>\n",
       "    </tr>\n",
       "  </thead>\n",
       "  <tbody>\n",
       "    <tr>\n",
       "      <th>0</th>\n",
       "      <td>1.710530</td>\n",
       "      <td>-1.134699</td>\n",
       "      <td>-0.533831</td>\n",
       "      <td>-0.139681</td>\n",
       "      <td>1</td>\n",
       "      <td>0</td>\n",
       "      <td>0</td>\n",
       "      <td>0</td>\n",
       "      <td>0</td>\n",
       "      <td>0</td>\n",
       "      <td>...</td>\n",
       "      <td>1</td>\n",
       "      <td>0</td>\n",
       "      <td>0</td>\n",
       "      <td>0</td>\n",
       "      <td>1</td>\n",
       "      <td>0</td>\n",
       "      <td>0</td>\n",
       "      <td>0</td>\n",
       "      <td>1</td>\n",
       "      <td>0</td>\n",
       "    </tr>\n",
       "    <tr>\n",
       "      <th>1</th>\n",
       "      <td>-0.965996</td>\n",
       "      <td>-0.534917</td>\n",
       "      <td>-0.864708</td>\n",
       "      <td>-1.095319</td>\n",
       "      <td>0</td>\n",
       "      <td>1</td>\n",
       "      <td>0</td>\n",
       "      <td>0</td>\n",
       "      <td>0</td>\n",
       "      <td>0</td>\n",
       "      <td>...</td>\n",
       "      <td>0</td>\n",
       "      <td>1</td>\n",
       "      <td>0</td>\n",
       "      <td>0</td>\n",
       "      <td>1</td>\n",
       "      <td>0</td>\n",
       "      <td>0</td>\n",
       "      <td>0</td>\n",
       "      <td>1</td>\n",
       "      <td>0</td>\n",
       "    </tr>\n",
       "    <tr>\n",
       "      <th>2</th>\n",
       "      <td>0.388391</td>\n",
       "      <td>0.653405</td>\n",
       "      <td>1.622763</td>\n",
       "      <td>-0.020226</td>\n",
       "      <td>1</td>\n",
       "      <td>0</td>\n",
       "      <td>0</td>\n",
       "      <td>0</td>\n",
       "      <td>0</td>\n",
       "      <td>0</td>\n",
       "      <td>...</td>\n",
       "      <td>0</td>\n",
       "      <td>0</td>\n",
       "      <td>1</td>\n",
       "      <td>1</td>\n",
       "      <td>0</td>\n",
       "      <td>0</td>\n",
       "      <td>0</td>\n",
       "      <td>0</td>\n",
       "      <td>0</td>\n",
       "      <td>1</td>\n",
       "    </tr>\n",
       "    <tr>\n",
       "      <th>3</th>\n",
       "      <td>-1.177753</td>\n",
       "      <td>-0.982657</td>\n",
       "      <td>0.225966</td>\n",
       "      <td>-1.095319</td>\n",
       "      <td>1</td>\n",
       "      <td>0</td>\n",
       "      <td>0</td>\n",
       "      <td>0</td>\n",
       "      <td>0</td>\n",
       "      <td>0</td>\n",
       "      <td>...</td>\n",
       "      <td>0</td>\n",
       "      <td>1</td>\n",
       "      <td>0</td>\n",
       "      <td>0</td>\n",
       "      <td>1</td>\n",
       "      <td>0</td>\n",
       "      <td>0</td>\n",
       "      <td>0</td>\n",
       "      <td>1</td>\n",
       "      <td>0</td>\n",
       "    </tr>\n",
       "    <tr>\n",
       "      <th>4</th>\n",
       "      <td>0.173409</td>\n",
       "      <td>1.023121</td>\n",
       "      <td>1.501577</td>\n",
       "      <td>1.532686</td>\n",
       "      <td>0</td>\n",
       "      <td>1</td>\n",
       "      <td>0</td>\n",
       "      <td>0</td>\n",
       "      <td>0</td>\n",
       "      <td>0</td>\n",
       "      <td>...</td>\n",
       "      <td>0</td>\n",
       "      <td>0</td>\n",
       "      <td>1</td>\n",
       "      <td>0</td>\n",
       "      <td>0</td>\n",
       "      <td>0</td>\n",
       "      <td>1</td>\n",
       "      <td>0</td>\n",
       "      <td>1</td>\n",
       "      <td>0</td>\n",
       "    </tr>\n",
       "    <tr>\n",
       "      <th>...</th>\n",
       "      <td>...</td>\n",
       "      <td>...</td>\n",
       "      <td>...</td>\n",
       "      <td>...</td>\n",
       "      <td>...</td>\n",
       "      <td>...</td>\n",
       "      <td>...</td>\n",
       "      <td>...</td>\n",
       "      <td>...</td>\n",
       "      <td>...</td>\n",
       "      <td>...</td>\n",
       "      <td>...</td>\n",
       "      <td>...</td>\n",
       "      <td>...</td>\n",
       "      <td>...</td>\n",
       "      <td>...</td>\n",
       "      <td>...</td>\n",
       "      <td>...</td>\n",
       "      <td>...</td>\n",
       "      <td>...</td>\n",
       "      <td>...</td>\n",
       "    </tr>\n",
       "    <tr>\n",
       "      <th>5676</th>\n",
       "      <td>-0.493036</td>\n",
       "      <td>-1.019425</td>\n",
       "      <td>0.005000</td>\n",
       "      <td>0.099229</td>\n",
       "      <td>0</td>\n",
       "      <td>1</td>\n",
       "      <td>0</td>\n",
       "      <td>0</td>\n",
       "      <td>0</td>\n",
       "      <td>0</td>\n",
       "      <td>...</td>\n",
       "      <td>1</td>\n",
       "      <td>0</td>\n",
       "      <td>0</td>\n",
       "      <td>0</td>\n",
       "      <td>1</td>\n",
       "      <td>0</td>\n",
       "      <td>0</td>\n",
       "      <td>0</td>\n",
       "      <td>1</td>\n",
       "      <td>0</td>\n",
       "    </tr>\n",
       "    <tr>\n",
       "      <th>5677</th>\n",
       "      <td>-1.116483</td>\n",
       "      <td>1.497142</td>\n",
       "      <td>0.453249</td>\n",
       "      <td>-1.334228</td>\n",
       "      <td>0</td>\n",
       "      <td>1</td>\n",
       "      <td>0</td>\n",
       "      <td>0</td>\n",
       "      <td>0</td>\n",
       "      <td>0</td>\n",
       "      <td>...</td>\n",
       "      <td>0</td>\n",
       "      <td>0</td>\n",
       "      <td>1</td>\n",
       "      <td>0</td>\n",
       "      <td>0</td>\n",
       "      <td>1</td>\n",
       "      <td>0</td>\n",
       "      <td>0</td>\n",
       "      <td>1</td>\n",
       "      <td>0</td>\n",
       "    </tr>\n",
       "    <tr>\n",
       "      <th>5678</th>\n",
       "      <td>-0.600527</td>\n",
       "      <td>0.147226</td>\n",
       "      <td>-0.358558</td>\n",
       "      <td>-0.498045</td>\n",
       "      <td>1</td>\n",
       "      <td>0</td>\n",
       "      <td>0</td>\n",
       "      <td>0</td>\n",
       "      <td>0</td>\n",
       "      <td>0</td>\n",
       "      <td>...</td>\n",
       "      <td>0</td>\n",
       "      <td>1</td>\n",
       "      <td>0</td>\n",
       "      <td>0</td>\n",
       "      <td>1</td>\n",
       "      <td>0</td>\n",
       "      <td>0</td>\n",
       "      <td>0</td>\n",
       "      <td>0</td>\n",
       "      <td>1</td>\n",
       "    </tr>\n",
       "    <tr>\n",
       "      <th>5679</th>\n",
       "      <td>0.538878</td>\n",
       "      <td>-1.281712</td>\n",
       "      <td>1.185747</td>\n",
       "      <td>-1.095319</td>\n",
       "      <td>0</td>\n",
       "      <td>1</td>\n",
       "      <td>0</td>\n",
       "      <td>0</td>\n",
       "      <td>0</td>\n",
       "      <td>1</td>\n",
       "      <td>...</td>\n",
       "      <td>0</td>\n",
       "      <td>1</td>\n",
       "      <td>0</td>\n",
       "      <td>0</td>\n",
       "      <td>1</td>\n",
       "      <td>0</td>\n",
       "      <td>0</td>\n",
       "      <td>0</td>\n",
       "      <td>1</td>\n",
       "      <td>0</td>\n",
       "    </tr>\n",
       "    <tr>\n",
       "      <th>5680</th>\n",
       "      <td>-0.708018</td>\n",
       "      <td>0.753397</td>\n",
       "      <td>-0.985894</td>\n",
       "      <td>-0.498045</td>\n",
       "      <td>0</td>\n",
       "      <td>1</td>\n",
       "      <td>0</td>\n",
       "      <td>0</td>\n",
       "      <td>0</td>\n",
       "      <td>1</td>\n",
       "      <td>...</td>\n",
       "      <td>0</td>\n",
       "      <td>1</td>\n",
       "      <td>0</td>\n",
       "      <td>0</td>\n",
       "      <td>1</td>\n",
       "      <td>0</td>\n",
       "      <td>0</td>\n",
       "      <td>0</td>\n",
       "      <td>1</td>\n",
       "      <td>0</td>\n",
       "    </tr>\n",
       "  </tbody>\n",
       "</table>\n",
       "<p>5681 rows × 45 columns</p>\n",
       "</div>"
      ],
      "text/plain": [
       "      Item_Weight  Item_Visibility  Item_MRP  Outlet_Age  \\\n",
       "0        1.710530        -1.134699 -0.533831   -0.139681   \n",
       "1       -0.965996        -0.534917 -0.864708   -1.095319   \n",
       "2        0.388391         0.653405  1.622763   -0.020226   \n",
       "3       -1.177753        -0.982657  0.225966   -1.095319   \n",
       "4        0.173409         1.023121  1.501577    1.532686   \n",
       "...           ...              ...       ...         ...   \n",
       "5676    -0.493036        -1.019425  0.005000    0.099229   \n",
       "5677    -1.116483         1.497142  0.453249   -1.334228   \n",
       "5678    -0.600527         0.147226 -0.358558   -0.498045   \n",
       "5679     0.538878        -1.281712  1.185747   -1.095319   \n",
       "5680    -0.708018         0.753397 -0.985894   -0.498045   \n",
       "\n",
       "      Item_Fat_Content_Low Fat  Item_Fat_Content_Regular  \\\n",
       "0                            1                         0   \n",
       "1                            0                         1   \n",
       "2                            1                         0   \n",
       "3                            1                         0   \n",
       "4                            0                         1   \n",
       "...                        ...                       ...   \n",
       "5676                         0                         1   \n",
       "5677                         0                         1   \n",
       "5678                         1                         0   \n",
       "5679                         0                         1   \n",
       "5680                         0                         1   \n",
       "\n",
       "      Item_Type_Baking Goods  Item_Type_Breads  Item_Type_Breakfast  \\\n",
       "0                          0                 0                    0   \n",
       "1                          0                 0                    0   \n",
       "2                          0                 0                    0   \n",
       "3                          0                 0                    0   \n",
       "4                          0                 0                    0   \n",
       "...                      ...               ...                  ...   \n",
       "5676                       0                 0                    0   \n",
       "5677                       0                 0                    0   \n",
       "5678                       0                 0                    0   \n",
       "5679                       0                 0                    0   \n",
       "5680                       0                 0                    0   \n",
       "\n",
       "      Item_Type_Canned  ...  Outlet_Location_Type_Tier 1  \\\n",
       "0                    0  ...                            1   \n",
       "1                    0  ...                            0   \n",
       "2                    0  ...                            0   \n",
       "3                    0  ...                            0   \n",
       "4                    0  ...                            0   \n",
       "...                ...  ...                          ...   \n",
       "5676                 0  ...                            1   \n",
       "5677                 0  ...                            0   \n",
       "5678                 0  ...                            0   \n",
       "5679                 1  ...                            0   \n",
       "5680                 1  ...                            0   \n",
       "\n",
       "      Outlet_Location_Type_Tier 2  Outlet_Location_Type_Tier 3  \\\n",
       "0                               0                            0   \n",
       "1                               1                            0   \n",
       "2                               0                            1   \n",
       "3                               1                            0   \n",
       "4                               0                            1   \n",
       "...                           ...                          ...   \n",
       "5676                            0                            0   \n",
       "5677                            0                            1   \n",
       "5678                            1                            0   \n",
       "5679                            1                            0   \n",
       "5680                            1                            0   \n",
       "\n",
       "      Outlet_Type_Grocery Store  Outlet_Type_Supermarket Type1  \\\n",
       "0                             0                              1   \n",
       "1                             0                              1   \n",
       "2                             1                              0   \n",
       "3                             0                              1   \n",
       "4                             0                              0   \n",
       "...                         ...                            ...   \n",
       "5676                          0                              1   \n",
       "5677                          0                              0   \n",
       "5678                          0                              1   \n",
       "5679                          0                              1   \n",
       "5680                          0                              1   \n",
       "\n",
       "      Outlet_Type_Supermarket Type2  Outlet_Type_Supermarket Type3  \\\n",
       "0                                 0                              0   \n",
       "1                                 0                              0   \n",
       "2                                 0                              0   \n",
       "3                                 0                              0   \n",
       "4                                 0                              1   \n",
       "...                             ...                            ...   \n",
       "5676                              0                              0   \n",
       "5677                              1                              0   \n",
       "5678                              0                              0   \n",
       "5679                              0                              0   \n",
       "5680                              0                              0   \n",
       "\n",
       "      Item_Identifer_code_DR  Item_Identifer_code_FD  Item_Identifer_code_NC  \n",
       "0                          0                       1                       0  \n",
       "1                          0                       1                       0  \n",
       "2                          0                       0                       1  \n",
       "3                          0                       1                       0  \n",
       "4                          0                       1                       0  \n",
       "...                      ...                     ...                     ...  \n",
       "5676                       0                       1                       0  \n",
       "5677                       0                       1                       0  \n",
       "5678                       0                       0                       1  \n",
       "5679                       0                       1                       0  \n",
       "5680                       0                       1                       0  \n",
       "\n",
       "[5681 rows x 45 columns]"
      ]
     },
     "execution_count": 58,
     "metadata": {},
     "output_type": "execute_result"
    }
   ],
   "source": []
  },
  {
   "cell_type": "code",
   "execution_count": 69,
   "id": "c56481b1",
   "metadata": {},
   "outputs": [],
   "source": [
    "def model_predict(model, train_X,train_y,test,filename):\n",
    "\n",
    "    train_pred = model.predict(train_X)\n",
    "    test_pred = model.predict(test.drop(columns = [\"Item_Identifier\", \"Outlet_Identifier\",\"Item_Outlet_Sales\"]))\n",
    "    train_RMSE = np.sqrt(mean_squared_error(train_y, train_pred))\n",
    "    print(\"Train RMSE : \",train_RMSE)\n",
    "    train_R2 = r2_score(train_y, train_pred)\n",
    "    print(\"Train R2 : \",train_R2)\n",
    "    test_pred_modified = np.where(test_pred<0,0,test_pred)\n",
    "    test['Item_Outlet_Sales'] = test_pred_modified\n",
    "    Output = test[[ \"Item_Identifier\", \"Outlet_Identifier\",\"Item_Outlet_Sales\"]]\n",
    "    Output.to_csv(filename, index = False)"
   ]
  },
  {
   "cell_type": "code",
   "execution_count": 104,
   "id": "28cb4116",
   "metadata": {},
   "outputs": [
    {
     "data": {
      "text/plain": [
       "LinearRegression()"
      ]
     },
     "execution_count": 104,
     "metadata": {},
     "output_type": "execute_result"
    }
   ],
   "source": [
    "model = LinearRegression()\n",
    "model.fit(X, y)"
   ]
  },
  {
   "cell_type": "code",
   "execution_count": 71,
   "id": "8f102d64",
   "metadata": {},
   "outputs": [
    {
     "name": "stdout",
     "output_type": "stream",
     "text": [
      "Train RMSE :  1127.0350680139338\n",
      "Train R2 :  0.5637721106827676\n"
     ]
    }
   ],
   "source": [
    "model_predict(model, X,y,test,\"Result_LR_fulltrain_model.csv\")"
   ]
  },
  {
   "cell_type": "code",
   "execution_count": null,
   "id": "78ee4cfd",
   "metadata": {},
   "outputs": [],
   "source": [
    "\n"
   ]
  },
  {
   "cell_type": "code",
   "execution_count": 80,
   "id": "40c8ac2d",
   "metadata": {},
   "outputs": [
    {
     "name": "stderr",
     "output_type": "stream",
     "text": [
      "100%|███████████████████████████████████████████| 49/49 [00:08<00:00,  5.65it/s]\n"
     ]
    }
   ],
   "source": [
    "from tqdm import tqdm\n",
    "res_rmse = []\n",
    "for i in tqdm(range(1,50)):\n",
    "    model = KNeighborsRegressor(n_neighbors=i)\n",
    "    model.fit(train_X, train_y)\n",
    "    test_pred = model.predict(test_X)\n",
    "    test_X_RMSE = np.sqrt(mean_squared_error(test_y, test_pred))\n",
    "    res_rmse.append(test_X_RMSE)\n"
   ]
  },
  {
   "cell_type": "code",
   "execution_count": 83,
   "id": "269736e5",
   "metadata": {},
   "outputs": [
    {
     "data": {
      "text/plain": [
       "<matplotlib.collections.PathCollection at 0x7fb8349c7b50>"
      ]
     },
     "execution_count": 83,
     "metadata": {},
     "output_type": "execute_result"
    },
    {
     "data": {
      "image/png": "[encoded data removed]",
      "text/plain": [
       "<Figure size 432x288 with 1 Axes>"
      ]
     },
     "metadata": {
      "needs_background": "light"
     },
     "output_type": "display_data"
    }
   ],
   "source": [
    "plt.scatter(range(1,50),res_rmse)"
   ]
  },
  {
   "cell_type": "code",
   "execution_count": null,
   "id": "f9d60894",
   "metadata": {},
   "outputs": [],
   "source": []
  },
  {
   "cell_type": "code",
   "execution_count": null,
   "id": "faac1059",
   "metadata": {},
   "outputs": [],
   "source": []
  },
  {
   "cell_type": "code",
   "execution_count": null,
   "id": "f4db5122",
   "metadata": {},
   "outputs": [],
   "source": []
  },
  {
   "cell_type": "code",
   "execution_count": 84,
   "id": "da421bde",
   "metadata": {},
   "outputs": [
    {
     "data": {
      "text/plain": [
       "KNeighborsRegressor(n_neighbors=17)"
      ]
     },
     "execution_count": 84,
     "metadata": {},
     "output_type": "execute_result"
    }
   ],
   "source": [
    "model = KNeighborsRegressor(n_neighbors=17)\n",
    "model.fit(X, y)"
   ]
  },
  {
   "cell_type": "code",
   "execution_count": 85,
   "id": "1211fad9",
   "metadata": {
    "scrolled": true
   },
   "outputs": [
    {
     "name": "stdout",
     "output_type": "stream",
     "text": [
      "Train RMSE :  1069.6142399316077\n",
      "Train R2 :  0.6070901457128928\n"
     ]
    }
   ],
   "source": [
    "model_predict(model, X,y,test,\"Result_KNN_fulltrain_model.csv\")"
   ]
  },
  {
   "cell_type": "code",
   "execution_count": null,
   "id": "64689f22",
   "metadata": {},
   "outputs": [],
   "source": []
  },
  {
   "cell_type": "code",
   "execution_count": 87,
   "id": "05b07463",
   "metadata": {},
   "outputs": [],
   "source": [
    "from sklearn.preprocessing import PolynomialFeatures\n"
   ]
  },
  {
   "cell_type": "code",
   "execution_count": 101,
   "id": "b9868e87",
   "metadata": {},
   "outputs": [],
   "source": [
    "poly= PolynomialFeatures(degree=3, include_bias=False)\n",
    "poly_train_x = poly.fit_transform(X)\n",
    "poly_test_x = poly.fit_transform(test.drop(columns = [\"Item_Identifier\", \"Outlet_Identifier\",\"Item_Outlet_Sales\"]))\n"
   ]
  },
  {
   "cell_type": "code",
   "execution_count": 102,
   "id": "669a9f8e",
   "metadata": {},
   "outputs": [],
   "source": [
    "def model_predict_poly(model, train_X,train_y,test,test_actual,filename):\n",
    "\n",
    "    train_pred = model.predict(train_X)\n",
    "    test_pred = model.predict(test)\n",
    "    train_RMSE = np.sqrt(mean_squared_error(train_y, train_pred))\n",
    "    print(\"Train RMSE : \",train_RMSE)\n",
    "    train_R2 = r2_score(train_y, train_pred)\n",
    "    print(\"Train R2 : \",train_R2)\n",
    "    test_pred_modified = np.where(test_pred<0,0,test_pred)\n",
    "    test_actual['Item_Outlet_Sales'] = test_pred_modified\n",
    "    Output = test_actual[[ \"Item_Identifier\", \"Outlet_Identifier\",\"Item_Outlet_Sales\"]]\n",
    "    Output.to_csv(filename, index = False)"
   ]
  },
  {
   "cell_type": "code",
   "execution_count": 103,
   "id": "0cc227ec",
   "metadata": {},
   "outputs": [
    {
     "name": "stdout",
     "output_type": "stream",
     "text": [
      "Train RMSE :  1010.1791687321435\n",
      "Train R2 :  0.6495424778833616\n"
     ]
    }
   ],
   "source": [
    "model = LinearRegression()\n",
    "model.fit(poly_train_x, y)\n",
    "model_predict_poly(model, poly_train_x,y,poly_test_x,test,\"Res_poly_fulltrain_degree_3.csv\")"
   ]
  },
  {
   "cell_type": "code",
   "execution_count": null,
   "id": "b189132b",
   "metadata": {},
   "outputs": [],
   "source": []
  },
  {
   "cell_type": "code",
   "execution_count": 112,
   "id": "d1933816",
   "metadata": {},
   "outputs": [],
   "source": [
    "from sklearn.linear_model import Lasso, Ridge, ElasticNet"
   ]
  },
  {
   "cell_type": "code",
   "execution_count": null,
   "id": "42f4d531",
   "metadata": {},
   "outputs": [],
   "source": [
    "model = LinearRegression()\n",
    "model.fit(X, y)"
   ]
  },
  {
   "cell_type": "code",
   "execution_count": 110,
   "id": "bc30004c",
   "metadata": {},
   "outputs": [
    {
     "data": {
      "text/plain": [
       "<AxesSubplot:>"
      ]
     },
     "execution_count": 110,
     "metadata": {},
     "output_type": "execute_result"
    },
    {
     "data": {
      "image/png": "[encoded data removed]",
      "text/plain": [
       "<Figure size 432x288 with 1 Axes>"
      ]
     },
     "metadata": {
      "needs_background": "light"
     },
     "output_type": "display_data"
    }
   ],
   "source": [
    "pd.Series(model.coef_, index=X.columns).plot(kind = 'bar')"
   ]
  },
  {
   "cell_type": "code",
   "execution_count": 116,
   "id": "bedc1d5e",
   "metadata": {},
   "outputs": [
    {
     "data": {
      "text/plain": [
       "<AxesSubplot:>"
      ]
     },
     "execution_count": 116,
     "metadata": {},
     "output_type": "execute_result"
    },
    {
     "data": {
      "image/png": "[encoded data removed]",
      "text/plain": [
       "<Figure size 432x288 with 1 Axes>"
      ]
     },
     "metadata": {
      "needs_background": "light"
     },
     "output_type": "display_data"
    }
   ],
   "source": [
    "model = Ridge(alpha=500)\n",
    "model.fit(X, y)\n",
    "\n",
    "pd.Series(model.coef_, index=X.columns).plot(kind = 'bar')"
   ]
  },
  {
   "cell_type": "code",
   "execution_count": 120,
   "id": "d1ea55bf",
   "metadata": {},
   "outputs": [
    {
     "name": "stderr",
     "output_type": "stream",
     "text": [
      "/Users/noordeen/opt/anaconda3/lib/python3.9/site-packages/sklearn/linear_model/_coordinate_descent.py:647: ConvergenceWarning: Objective did not converge. You might want to increase the number of iterations, check the scale of the features or consider increasing regularisation. Duality gap: 2.371e+08, tolerance: 2.482e+06\n",
      "  model = cd_fast.enet_coordinate_descent(\n"
     ]
    },
    {
     "data": {
      "text/plain": [
       "<AxesSubplot:>"
      ]
     },
     "execution_count": 120,
     "metadata": {},
     "output_type": "execute_result"
    },
    {
     "data": {
      "image/png": "[encoded data removed]",
      "text/plain": [
       "<Figure size 432x288 with 1 Axes>"
      ]
     },
     "metadata": {
      "needs_background": "light"
     },
     "output_type": "display_data"
    }
   ],
   "source": [
    "model = Lasso(alpha=0.02)\n",
    "model.fit(X, y)\n",
    "\n",
    "pd.Series(model.coef_, index=X.columns).plot(kind = 'bar')"
   ]
  },
  {
   "cell_type": "code",
   "execution_count": 121,
   "id": "2cfe598a",
   "metadata": {},
   "outputs": [
    {
     "data": {
      "text/plain": [
       "array([ 3.61955511e-01, -1.54180272e+01,  9.66589590e+02,  7.45600673e+01,\n",
       "       -4.20826385e+01,  4.16143555e-14,  1.53697687e-01,  5.35500162e+00,\n",
       "        5.83255572e+00,  2.56374029e+01, -4.85940830e+01, -2.76887053e+01,\n",
       "        2.95505444e+01, -3.71142280e+01,  1.93489634e-01, -2.81701247e+01,\n",
       "       -6.15701153e-02, -9.81835842e+00,  1.82491250e+02, -1.11673259e+01,\n",
       "       -6.54013161e+01,  1.99502825e+01, -1.79571778e+03, -3.72645782e+01,\n",
       "        1.50007561e+02, -1.83117810e+02, -1.91414387e+03,  1.31495455e+03,\n",
       "        1.62877733e+02, -6.82636182e+01,  0.00000000e+00,  8.11886910e+01,\n",
       "       -0.00000000e+00,  3.33046452e+01, -0.00000000e+00,  0.00000000e+00,\n",
       "        4.31486356e+01, -2.08678130e+01, -8.09105496e+01,  0.00000000e+00,\n",
       "       -0.00000000e+00,  1.49210961e+01,  3.91502093e+01,  0.00000000e+00,\n",
       "       -1.03897969e+01])"
      ]
     },
     "execution_count": 121,
     "metadata": {},
     "output_type": "execute_result"
    }
   ],
   "source": [
    "model.coef_"
   ]
  },
  {
   "cell_type": "code",
   "execution_count": 127,
   "id": "29c016d0",
   "metadata": {},
   "outputs": [
    {
     "name": "stderr",
     "output_type": "stream",
     "text": [
      "/var/folders/02/n950_yc963qdyzpwj00gmdm40000gn/T/ipykernel_6859/1247042409.py:5: UserWarning: With alpha=0, this algorithm does not converge well. You are advised to use the LinearRegression estimator\n",
      "  model.fit(train_X,train_y)\n",
      "/Users/noordeen/opt/anaconda3/lib/python3.9/site-packages/sklearn/linear_model/_coordinate_descent.py:647: UserWarning: Coordinate descent with no regularization may lead to unexpected results and is discouraged.\n",
      "  model = cd_fast.enet_coordinate_descent(\n",
      "/Users/noordeen/opt/anaconda3/lib/python3.9/site-packages/sklearn/linear_model/_coordinate_descent.py:647: ConvergenceWarning: Objective did not converge. You might want to increase the number of iterations, check the scale of the features or consider increasing regularisation. Duality gap: 4.315e+09, tolerance: 1.982e+06 Linear regression models with null weight for the l1 regularization term are more efficiently fitted using one of the solvers implemented in sklearn.linear_model.Ridge/RidgeCV instead.\n",
      "  model = cd_fast.enet_coordinate_descent(\n",
      "/Users/noordeen/opt/anaconda3/lib/python3.9/site-packages/sklearn/linear_model/_coordinate_descent.py:647: ConvergenceWarning: Objective did not converge. You might want to increase the number of iterations, check the scale of the features or consider increasing regularisation. Duality gap: 8.768e+07, tolerance: 1.982e+06\n",
      "  model = cd_fast.enet_coordinate_descent(\n",
      "/Users/noordeen/opt/anaconda3/lib/python3.9/site-packages/sklearn/linear_model/_coordinate_descent.py:647: ConvergenceWarning: Objective did not converge. You might want to increase the number of iterations, check the scale of the features or consider increasing regularisation. Duality gap: 5.579e+07, tolerance: 1.982e+06\n",
      "  model = cd_fast.enet_coordinate_descent(\n"
     ]
    }
   ],
   "source": [
    "trainres = []\n",
    "testres = []\n",
    "for i in list(np.arange(0,100,0.1)):\n",
    "    model = Lasso(alpha = i)\n",
    "    model.fit(train_X,train_y)\n",
    "    train_pred = model.predict(train_X)\n",
    "    test_pred = model.predict(test_X)\n",
    "    train_score = r2_score(train_y, train_pred)\n",
    "    test_score = r2_score(test_y, test_pred)\n",
    "    trainres.append(train_score)\n",
    "    testres.append(test_score)\n",
    "   "
   ]
  },
  {
   "cell_type": "code",
   "execution_count": 135,
   "id": "9a1818db",
   "metadata": {},
   "outputs": [],
   "source": [
    "lamba_value = list(np.arange(0,100,0.1))"
   ]
  },
  {
   "cell_type": "code",
   "execution_count": 137,
   "id": "c23a44fa",
   "metadata": {},
   "outputs": [
    {
     "data": {
      "text/plain": [
       "1000"
      ]
     },
     "execution_count": 137,
     "metadata": {},
     "output_type": "execute_result"
    }
   ],
   "source": [
    "len(lamba_value)"
   ]
  },
  {
   "cell_type": "code",
   "execution_count": 139,
   "id": "9bc9dc8b",
   "metadata": {},
   "outputs": [
    {
     "data": {
      "text/plain": [
       "1000"
      ]
     },
     "execution_count": 139,
     "metadata": {},
     "output_type": "execute_result"
    }
   ],
   "source": [
    "len(trainres)"
   ]
  },
  {
   "cell_type": "code",
   "execution_count": 142,
   "id": "3c2f783f",
   "metadata": {
    "scrolled": true
   },
   "outputs": [
    {
     "data": {
      "text/plain": [
       "Text(0, 0.5, 'R2 Score')"
      ]
     },
     "execution_count": 142,
     "metadata": {},
     "output_type": "execute_result"
    },
    {
     "data": {
      "image/png": "[encoded data removed]",
      "text/plain": [
       "<Figure size 432x288 with 1 Axes>"
      ]
     },
     "metadata": {
      "needs_background": "light"
     },
     "output_type": "display_data"
    }
   ],
   "source": [
    "plt.scatter(lamba_value,trainres)\n",
    "plt.scatter(lamba_value,testres)\n",
    "plt.xlabel(\"Lasso Lambda Value\")\n",
    "plt.ylabel(\"R2 Score\")"
   ]
  },
  {
   "cell_type": "code",
   "execution_count": 146,
   "id": "3845d978",
   "metadata": {},
   "outputs": [],
   "source": [
    "trainres = []\n",
    "testres = []\n",
    "for i in list(np.arange(0,100,0.1)):\n",
    "    model = Ridge(alpha = i)\n",
    "    model.fit(train_X,train_y)\n",
    "    train_pred = model.predict(train_X)\n",
    "    test_pred = model.predict(test_X)\n",
    "    train_score = r2_score(train_y, train_pred)\n",
    "    test_score = r2_score(test_y, test_pred)\n",
    "    trainres.append(train_score)\n",
    "    testres.append(test_score)\n",
    "   "
   ]
  },
  {
   "cell_type": "code",
   "execution_count": 147,
   "id": "6615460d",
   "metadata": {},
   "outputs": [],
   "source": [
    "lamba_value = list(np.arange(0,100,0.1))"
   ]
  },
  {
   "cell_type": "code",
   "execution_count": 148,
   "id": "58384c55",
   "metadata": {},
   "outputs": [
    {
     "data": {
      "text/plain": [
       "1000"
      ]
     },
     "execution_count": 148,
     "metadata": {},
     "output_type": "execute_result"
    }
   ],
   "source": [
    "len(lamba_value)"
   ]
  },
  {
   "cell_type": "code",
   "execution_count": 149,
   "id": "1b5dbce0",
   "metadata": {},
   "outputs": [
    {
     "data": {
      "text/plain": [
       "1000"
      ]
     },
     "execution_count": 149,
     "metadata": {},
     "output_type": "execute_result"
    }
   ],
   "source": [
    "len(trainres)"
   ]
  },
  {
   "cell_type": "code",
   "execution_count": 150,
   "id": "737f0bdc",
   "metadata": {},
   "outputs": [
    {
     "data": {
      "text/plain": [
       "Text(0, 0.5, 'R2 Score')"
      ]
     },
     "execution_count": 150,
     "metadata": {},
     "output_type": "execute_result"
    },
    {
     "data": {
      "image/png": "[encoded data removed]",
      "text/plain": [
       "<Figure size 432x288 with 1 Axes>"
      ]
     },
     "metadata": {
      "needs_background": "light"
     },
     "output_type": "display_data"
    }
   ],
   "source": [
    "plt.scatter(lamba_value,trainres)\n",
    "plt.scatter(lamba_value,testres)\n",
    "plt.xlabel(\"Lasso Lambda Value\")\n",
    "plt.ylabel(\"R2 Score\")"
   ]
  },
  {
   "cell_type": "code",
   "execution_count": null,
   "id": "aa13791a",
   "metadata": {},
   "outputs": [],
   "source": []
  },
  {
   "cell_type": "code",
   "execution_count": 143,
   "id": "2e09c390",
   "metadata": {},
   "outputs": [],
   "source": [
    "model = LinearRegression()\n",
    "model.fit(train_X,train_y)\n",
    "train_pred = model.predict(train_X)\n",
    "test_pred = model.predict(test_X)\n",
    "train_score = r2_score(train_y, train_pred)\n",
    "test_score = r2_score(test_y, test_pred)\n"
   ]
  },
  {
   "cell_type": "code",
   "execution_count": 144,
   "id": "62cd4921",
   "metadata": {},
   "outputs": [
    {
     "data": {
      "text/plain": [
       "0.5643997270986956"
      ]
     },
     "execution_count": 144,
     "metadata": {},
     "output_type": "execute_result"
    }
   ],
   "source": [
    "train_score"
   ]
  },
  {
   "cell_type": "code",
   "execution_count": 145,
   "id": "b2c9416d",
   "metadata": {},
   "outputs": [
    {
     "data": {
      "text/plain": [
       "0.5594981851164198"
      ]
     },
     "execution_count": 145,
     "metadata": {},
     "output_type": "execute_result"
    }
   ],
   "source": [
    "test_score"
   ]
  },
  {
   "cell_type": "code",
   "execution_count": null,
   "id": "683255d2",
   "metadata": {},
   "outputs": [],
   "source": []
  }
 ],
 "metadata": {
  "kernelspec": {
   "display_name": "Python 3 (ipykernel)",
   "language": "python",
   "name": "python3"
  },
  "language_info": {
   "codemirror_mode": {
    "name": "ipython",
    "version": 3
   },
   "file_extension": ".py",
   "mimetype": "text/x-python",
   "name": "python",
   "nbconvert_exporter": "python",
   "pygments_lexer": "ipython3",
   "version": "3.9.12"
  }
 },
 "nbformat": 4,
 "nbformat_minor": 5
}
