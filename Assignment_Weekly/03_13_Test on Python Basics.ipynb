{
 "cells": [
  {
   "cell_type": "markdown",
   "id": "6ec0e9a1",
   "metadata": {},
   "source": [
    "# Test on python basics(list, tuple) , numpy, pandas operations - 13th March, 2022\n"
   ]
  },
  {
   "cell_type": "code",
   "execution_count": 1,
   "id": "b63d63e9",
   "metadata": {},
   "outputs": [],
   "source": [
    "import numpy as np\n",
    "import pandas as pd"
   ]
  },
  {
   "cell_type": "markdown",
   "id": "18f2b330",
   "metadata": {},
   "source": [
    "# 1. Create a program that asks the user to enter their name and their age. Print out a message that tells them the year that they will turn 100 years old"
   ]
  },
  {
   "cell_type": "code",
   "execution_count": 3,
   "id": "df310a9d",
   "metadata": {},
   "outputs": [
    {
     "name": "stdout",
     "output_type": "stream",
     "text": [
      "Enter the name of the employee :Mahammad Rafi\n",
      "Enter the age of the employee :84\n",
      "Employee  Mahammad Rafi will be completing 100 years in the year of :  2038\n"
     ]
    }
   ],
   "source": [
    "def age_cal(age):\n",
    "    age_diff = 0\n",
    "    age_to_100y = 0\n",
    "    Curr_year = 2022\n",
    "    age_diff  = 100 - age\n",
    "    age_to_100y = Curr_year + age_diff\n",
    "    return age_to_100y\n",
    "\n",
    "name = input('Enter the name of the employee :')\n",
    "age  = int(input('Enter the age of the employee :'))\n",
    "\n",
    "if age <= 100:\n",
    "    age100 = age_cal(age)\n",
    "    print('Employee ', name,'will be completing 100 years in the year of : ', age100)\n",
    "else:\n",
    "    print('Employee ', name, 'already crossed age of 100 years')"
   ]
  },
  {
   "cell_type": "markdown",
   "id": "488103a4",
   "metadata": {},
   "source": [
    "# 2. What is pandas groupby? Demonstrate with your own example"
   ]
  },
  {
   "cell_type": "code",
   "execution_count": 4,
   "id": "3ce22f45",
   "metadata": {},
   "outputs": [
    {
     "name": "stdout",
     "output_type": "stream",
     "text": [
      "Dataframe :          state       city  const  No_of_school\n",
      "0   Tamilnadu    Chennai     10           100\n",
      "1   telangana  Hyderabad     20           200\n",
      "2  karanataka   Banglore     10           300\n",
      "3         goa     panaji     40           105\n",
      "\n",
      "\n",
      "Mean :  20.0 \n",
      "\n",
      "Median :  15.0 \n",
      "\n",
      "Mode :  0    10\n",
      "dtype: int64 \n",
      "\n",
      "sum :  state           Tamilnadutelanganakaranatakagoa\n",
      "city             ChennaiHyderabadBanglorepanaji\n",
      "const                                        80\n",
      "No_of_school                                705\n",
      "dtype: object\n"
     ]
    }
   ],
   "source": [
    "df = pd.DataFrame({'state': ['Tamilnadu','telangana','karanataka','goa'], \n",
    "        'city': ['Chennai','Hyderabad','Banglore','panaji'], \n",
    "         'const': [10,20,10,40], \n",
    "         'No_of_school': [100,200,300,105]})\n",
    "\n",
    "print('Dataframe : ', df)\n",
    "print('\\n')\n",
    "print('Mean : ', df['const'].mean(),'\\n')\n",
    "\n",
    "print('Median : ', df['const'].median(),'\\n')\n",
    "\n",
    "print('Mode : ', df['const'].mode(),'\\n')\n",
    "\n",
    "print('sum : ', df.sum())"
   ]
  },
  {
   "cell_type": "markdown",
   "id": "f67f22af",
   "metadata": {},
   "source": [
    "# 3. How to create a dataframe from list?"
   ]
  },
  {
   "cell_type": "code",
   "execution_count": 7,
   "id": "1e9e1b3f",
   "metadata": {},
   "outputs": [
    {
     "data": {
      "text/html": [
       "<div>\n",
       "<style scoped>\n",
       "    .dataframe tbody tr th:only-of-type {\n",
       "        vertical-align: middle;\n",
       "    }\n",
       "\n",
       "    .dataframe tbody tr th {\n",
       "        vertical-align: top;\n",
       "    }\n",
       "\n",
       "    .dataframe thead th {\n",
       "        text-align: right;\n",
       "    }\n",
       "</style>\n",
       "<table border=\"1\" class=\"dataframe\">\n",
       "  <thead>\n",
       "    <tr style=\"text-align: right;\">\n",
       "      <th></th>\n",
       "      <th>Age</th>\n",
       "      <th>Name</th>\n",
       "      <th>Rating</th>\n",
       "    </tr>\n",
       "  </thead>\n",
       "  <tbody>\n",
       "    <tr>\n",
       "      <th>0</th>\n",
       "      <td>25</td>\n",
       "      <td>Tom</td>\n",
       "      <td>4.23</td>\n",
       "    </tr>\n",
       "    <tr>\n",
       "      <th>1</th>\n",
       "      <td>26</td>\n",
       "      <td>Jams</td>\n",
       "      <td>3.24</td>\n",
       "    </tr>\n",
       "    <tr>\n",
       "      <th>2</th>\n",
       "      <td>25</td>\n",
       "      <td>Ricky</td>\n",
       "      <td>3.98</td>\n",
       "    </tr>\n",
       "    <tr>\n",
       "      <th>3</th>\n",
       "      <td>23</td>\n",
       "      <td>Vin</td>\n",
       "      <td>2.56</td>\n",
       "    </tr>\n",
       "    <tr>\n",
       "      <th>4</th>\n",
       "      <td>30</td>\n",
       "      <td>Steve</td>\n",
       "      <td>3.20</td>\n",
       "    </tr>\n",
       "    <tr>\n",
       "      <th>5</th>\n",
       "      <td>29</td>\n",
       "      <td>Smith</td>\n",
       "      <td>4.60</td>\n",
       "    </tr>\n",
       "    <tr>\n",
       "      <th>6</th>\n",
       "      <td>23</td>\n",
       "      <td>Jeak</td>\n",
       "      <td>3.80</td>\n",
       "    </tr>\n",
       "  </tbody>\n",
       "</table>\n",
       "</div>"
      ],
      "text/plain": [
       "   Age   Name  Rating\n",
       "0   25    Tom    4.23\n",
       "1   26   Jams    3.24\n",
       "2   25  Ricky    3.98\n",
       "3   23    Vin    2.56\n",
       "4   30  Steve    3.20\n",
       "5   29  Smith    4.60\n",
       "6   23   Jeak    3.80"
      ]
     },
     "execution_count": 7,
     "metadata": {},
     "output_type": "execute_result"
    }
   ],
   "source": [
    "list1 = [[25, 'Tom', 4.23], \n",
    "         [26, 'Jams', 3.24], \n",
    "         [25, 'Ricky', 3.98], \n",
    "         [23, 'Vin', 2.56], \n",
    "         [30, 'Steve', 3.20], \n",
    "         [29, 'Smith', 4.60], \n",
    "         [23, 'Jeak', 3.80]]\n",
    "\n",
    "df = pd.DataFrame(list1, columns = ['Age', 'Name','Rating'])\n",
    "\n",
    "df"
   ]
  },
  {
   "cell_type": "markdown",
   "id": "3f64a4a7",
   "metadata": {},
   "source": [
    "# 4. What are the ways to combine the dataframe in pandas. Give an example for each"
   ]
  },
  {
   "cell_type": "code",
   "execution_count": 10,
   "id": "a4731bf7",
   "metadata": {},
   "outputs": [
    {
     "name": "stdout",
     "output_type": "stream",
     "text": [
      "Combining the dataframe with row wise \n",
      "\n",
      "   Age   Name  Rating\n",
      "0   25    Tom    4.23\n",
      "1   26   Jams    3.24\n",
      "2   25  Ricky    3.98\n",
      "3   23    Vin    2.56\n",
      "4   30  Steve    3.20\n",
      "5   29  Smith    4.60\n",
      "6   23   Jeak    3.80\n",
      "0   35    Tom    4.23\n",
      "1   36   Jams    3.24\n",
      "2   35  Ricky    3.98\n",
      "3   33    Vin    2.56\n",
      "4   31  Steve    3.20\n",
      "5   39  Smith    4.60\n",
      "6   33   Jeak    3.80\n"
     ]
    }
   ],
   "source": [
    "list1 = [[25, 'Tom', 4.23], \n",
    "         [26, 'Jams', 3.24], \n",
    "         [25, 'Ricky', 3.98], \n",
    "         [23, 'Vin', 2.56], \n",
    "         [30, 'Steve', 3.20], \n",
    "         [29, 'Smith', 4.60], \n",
    "         [23, 'Jeak', 3.80]]\n",
    "\n",
    "list2 = [[35, 'Tom', 4.23], \n",
    "         [36, 'Jams', 3.24], \n",
    "         [35, 'Ricky', 3.98], \n",
    "         [33, 'Vin', 2.56], \n",
    "         [31, 'Steve', 3.20], \n",
    "         [39, 'Smith', 4.60], \n",
    "         [33, 'Jeak', 3.80]]\n",
    "\n",
    "df1 = pd.DataFrame(list1,  columns = ['Age', 'Name','Rating'])\n",
    "df2 = pd.DataFrame(list2,  columns = ['Age', 'Name','Rating'])\n",
    "\n",
    "df3 = pd.concat([df1, df2], axis = 0)\n",
    "\n",
    "df4 = pd.concat([df1, df2], axis = 1)\n",
    "\n",
    "print('Combining the dataframe with row wise \\n')\n",
    "print(df3)\n"
   ]
  },
  {
   "cell_type": "code",
   "execution_count": 11,
   "id": "bc2921f1",
   "metadata": {},
   "outputs": [
    {
     "name": "stdout",
     "output_type": "stream",
     "text": [
      " \n"
     ]
    }
   ],
   "source": [
    "print(' ')\n"
   ]
  },
  {
   "cell_type": "code",
   "execution_count": 12,
   "id": "413725e1",
   "metadata": {},
   "outputs": [
    {
     "name": "stdout",
     "output_type": "stream",
     "text": [
      "Combining the dataframe with column wise \n",
      "\n",
      "   Age   Name  Rating  Age   Name  Rating\n",
      "0   25    Tom    4.23   35    Tom    4.23\n",
      "1   26   Jams    3.24   36   Jams    3.24\n",
      "2   25  Ricky    3.98   35  Ricky    3.98\n",
      "3   23    Vin    2.56   33    Vin    2.56\n",
      "4   30  Steve    3.20   31  Steve    3.20\n",
      "5   29  Smith    4.60   39  Smith    4.60\n",
      "6   23   Jeak    3.80   33   Jeak    3.80\n"
     ]
    }
   ],
   "source": [
    "print('Combining the dataframe with column wise \\n')\n",
    "print(df4)"
   ]
  },
  {
   "cell_type": "markdown",
   "id": "9af8e46a",
   "metadata": {},
   "source": [
    "# 5. What is the difference between list and tuples in Python?"
   ]
  },
  {
   "cell_type": "code",
   "execution_count": 13,
   "id": "508c2e17",
   "metadata": {},
   "outputs": [],
   "source": [
    "list1 = [10, 20, 30, 40, 50]"
   ]
  },
  {
   "cell_type": "code",
   "execution_count": 14,
   "id": "cde75dcd",
   "metadata": {},
   "outputs": [],
   "source": [
    "tuple1 = (100, 200, 800, 300, 400, 500)"
   ]
  },
  {
   "cell_type": "code",
   "execution_count": 15,
   "id": "e2af9918",
   "metadata": {},
   "outputs": [
    {
     "data": {
      "text/plain": [
       "10"
      ]
     },
     "execution_count": 15,
     "metadata": {},
     "output_type": "execute_result"
    }
   ],
   "source": [
    "list1[0]"
   ]
  },
  {
   "cell_type": "code",
   "execution_count": 16,
   "id": "e819c879",
   "metadata": {},
   "outputs": [
    {
     "data": {
      "text/plain": [
       "100"
      ]
     },
     "execution_count": 16,
     "metadata": {},
     "output_type": "execute_result"
    }
   ],
   "source": [
    "tuple1[0]"
   ]
  },
  {
   "cell_type": "code",
   "execution_count": 17,
   "id": "661153fc",
   "metadata": {},
   "outputs": [],
   "source": [
    "list1[0] = '11'    ## we can replace the value in list(mutable)"
   ]
  },
  {
   "cell_type": "code",
   "execution_count": 18,
   "id": "102ca5e4",
   "metadata": {},
   "outputs": [
    {
     "data": {
      "text/plain": [
       "'11'"
      ]
     },
     "execution_count": 18,
     "metadata": {},
     "output_type": "execute_result"
    }
   ],
   "source": [
    "list1[0]"
   ]
  },
  {
   "cell_type": "code",
   "execution_count": 19,
   "id": "27a95ea9",
   "metadata": {},
   "outputs": [
    {
     "ename": "TypeError",
     "evalue": "'tuple' object does not support item assignment",
     "output_type": "error",
     "traceback": [
      "\u001b[1;31m---------------------------------------------------------------------------\u001b[0m",
      "\u001b[1;31mTypeError\u001b[0m                                 Traceback (most recent call last)",
      "\u001b[1;32m~\\AppData\\Local\\Temp/ipykernel_17476/2667936802.py\u001b[0m in \u001b[0;36m<module>\u001b[1;34m\u001b[0m\n\u001b[1;32m----> 1\u001b[1;33m \u001b[0mtuple1\u001b[0m\u001b[1;33m[\u001b[0m\u001b[1;36m0\u001b[0m\u001b[1;33m]\u001b[0m \u001b[1;33m=\u001b[0m \u001b[1;34m'111'\u001b[0m   \u001b[1;31m## we can't replace the values in tuple(immutable)\u001b[0m\u001b[1;33m\u001b[0m\u001b[1;33m\u001b[0m\u001b[0m\n\u001b[0m",
      "\u001b[1;31mTypeError\u001b[0m: 'tuple' object does not support item assignment"
     ]
    }
   ],
   "source": [
    "tuple1[0] = '111'   ## we can't replace the values in tuple(immutable)"
   ]
  },
  {
   "cell_type": "code",
   "execution_count": 20,
   "id": "d09dd453",
   "metadata": {},
   "outputs": [
    {
     "name": "stdout",
     "output_type": "stream",
     "text": [
      "['11', 20, 30, 40, 50]\n",
      "(100, 200, 800, 300, 400, 500)\n"
     ]
    }
   ],
   "source": [
    "print(list1)\n",
    "\n",
    "print(tuple1)"
   ]
  },
  {
   "cell_type": "code",
   "execution_count": 21,
   "id": "03bdf222",
   "metadata": {},
   "outputs": [],
   "source": [
    "# 6. Find out the mean, median and standard deviation of this numpy array -> np.array([1,5,3,100,4,48])"
   ]
  },
  {
   "cell_type": "code",
   "execution_count": 22,
   "id": "65582458",
   "metadata": {},
   "outputs": [
    {
     "name": "stdout",
     "output_type": "stream",
     "text": [
      "Average values of each row in list: 26.833333333333332\n",
      "Median values of each row in list : 4.5\n",
      "Standard deviation values of each row in list : 36.59424666377065\n"
     ]
    }
   ],
   "source": [
    "np1 = np.array([1,5,3,100,4,48])\n",
    "\n",
    "print('Average values of each row in list:', np.mean(np1))\n",
    "print('Median values of each row in list :', np.median(np1))\n",
    "print('Standard deviation values of each row in list :', np.std(np1))"
   ]
  },
  {
   "cell_type": "markdown",
   "id": "ca8856b1",
   "metadata": {},
   "source": [
    "# 7. How will you remove duplicate elements from a list?\n",
    "## Method 1"
   ]
  },
  {
   "cell_type": "code",
   "execution_count": 23,
   "id": "545fc49b",
   "metadata": {},
   "outputs": [
    {
     "name": "stdout",
     "output_type": "stream",
     "text": [
      "[10, 20, 30, 40, 30] \n",
      "\n",
      "[10, 20, 30, 40]\n"
     ]
    }
   ],
   "source": [
    "list1 = [10,20,30,40,30]\n",
    "print(list1, '\\n')\n",
    "mylist= list(dict.fromkeys(list1))\n",
    "print(mylist)"
   ]
  },
  {
   "cell_type": "markdown",
   "id": "d48f8534",
   "metadata": {},
   "source": [
    "## Method 2"
   ]
  },
  {
   "cell_type": "code",
   "execution_count": 24,
   "id": "2dca10f5",
   "metadata": {},
   "outputs": [
    {
     "name": "stdout",
     "output_type": "stream",
     "text": [
      "[10, 20, 30, 30, 40] \n",
      "\n",
      "30\n"
     ]
    },
    {
     "data": {
      "text/plain": [
       "[10, 20, 30, 40]"
      ]
     },
     "execution_count": 24,
     "metadata": {},
     "output_type": "execute_result"
    }
   ],
   "source": [
    "list1 = [10,20,30,40,30]\n",
    "\n",
    "list1.sort()\n",
    "print(list1, '\\n')\n",
    "j = 0\n",
    "for i in list1:\n",
    "    if i == j:\n",
    "        print(i)\n",
    "        list1.remove(i)\n",
    "    else:\n",
    "        j = i\n",
    "list1"
   ]
  },
  {
   "cell_type": "markdown",
   "id": "df30fda2",
   "metadata": {},
   "source": [
    "# 8. What is a map() function in Python? Give an example"
   ]
  },
  {
   "cell_type": "code",
   "execution_count": 25,
   "id": "cd353aed",
   "metadata": {},
   "outputs": [
    {
     "name": "stdout",
     "output_type": "stream",
     "text": [
      "[1, 5, 4, 6, 8, 11, 3, 12] \n",
      "\n",
      "[2, 10, 8, 12, 16, 22, 6, 24]\n"
     ]
    }
   ],
   "source": [
    "my_list1 = [1, 5, 4, 6, 8, 11, 3, 12]\n",
    "\n",
    "print(my_list1, '\\n')\n",
    "\n",
    "new_list1 = list(map(lambda x: x*2, my_list1))\n",
    "\n",
    "print(new_list1)"
   ]
  },
  {
   "cell_type": "markdown",
   "id": "b195f376",
   "metadata": {},
   "source": [
    "# 9. What is pass in Python?"
   ]
  },
  {
   "cell_type": "code",
   "execution_count": 26,
   "id": "9dbcd532",
   "metadata": {},
   "outputs": [
    {
     "name": "stdout",
     "output_type": "stream",
     "text": [
      "0\n",
      "1\n",
      "2\n",
      "3\n",
      "4\n",
      "6\n",
      "7\n",
      "8\n",
      "9\n"
     ]
    }
   ],
   "source": [
    "for i in range(10):\n",
    "    if i == 5:\n",
    "        pass\n",
    "    else:\n",
    "        print(i)"
   ]
  },
  {
   "cell_type": "markdown",
   "id": "c46e3ca8",
   "metadata": {},
   "source": [
    "# 10. What is vstack() in numpy? Give an example"
   ]
  },
  {
   "cell_type": "code",
   "execution_count": 27,
   "id": "435c050f",
   "metadata": {},
   "outputs": [
    {
     "data": {
      "text/plain": [
       "array([[ 1,  2],\n",
       "       [ 3,  4],\n",
       "       [ 5,  6],\n",
       "       [11, 12],\n",
       "       [14, 15],\n",
       "       [16, 17]])"
      ]
     },
     "execution_count": 27,
     "metadata": {},
     "output_type": "execute_result"
    }
   ],
   "source": [
    "x = np.array([[1,2],[3,4],[5,6]])\n",
    "y = np.array([[11,12],[14,15],[16,17]])\n",
    "\n",
    "np.vstack((x,y))"
   ]
  },
  {
   "cell_type": "code",
   "execution_count": null,
   "id": "f3608fb8",
   "metadata": {},
   "outputs": [],
   "source": []
  },
  {
   "cell_type": "code",
   "execution_count": null,
   "id": "a8e98f9d",
   "metadata": {},
   "outputs": [],
   "source": []
  }
 ],
 "metadata": {
  "kernelspec": {
   "display_name": "Python 3 (ipykernel)",
   "language": "python",
   "name": "python3"
  },
  "language_info": {
   "codemirror_mode": {
    "name": "ipython",
    "version": 3
   },
   "file_extension": ".py",
   "mimetype": "text/x-python",
   "name": "python",
   "nbconvert_exporter": "python",
   "pygments_lexer": "ipython3",
   "version": "3.9.7"
  }
 },
 "nbformat": 4,
 "nbformat_minor": 5
}
