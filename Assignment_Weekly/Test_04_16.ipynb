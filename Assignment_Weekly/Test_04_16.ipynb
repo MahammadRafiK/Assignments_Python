{
 "cells": [
  {
   "cell_type": "code",
   "execution_count": 13,
   "id": "5fd041fe",
   "metadata": {},
   "outputs": [],
   "source": [
    "import os"
   ]
  },
  {
   "cell_type": "code",
   "execution_count": 3,
   "id": "431c6546",
   "metadata": {},
   "outputs": [
    {
     "name": "stdout",
     "output_type": "stream",
     "text": [
      "The given list :  ['6', '7', '8', '9', '5', '6']\n",
      "There are duplicates.\n",
      "The given list :  ['1', '2', '3', '4', '5']\n",
      "No duplicates.\n"
     ]
    }
   ],
   "source": [
    "list1 = ['6', '7', '8', '9', '5', '6']\n",
    "list2 = ['1', '2', '3', '4', '5']\n",
    "\n",
    "\n",
    "def dupcheck(x):\n",
    "   for elem in x:\n",
    "      if x.count(elem) > 1:\n",
    "         return True\n",
    "      return False\n",
    "\n",
    "if dupcheck(list1):\n",
    "   print(\"The given list : \", list1)\n",
    "   print(\"There are duplicates.\")\n",
    "else:\n",
    "   print(\"The given list : \", list1)\n",
    "   print(\"No duplicates.\")\n",
    "\n",
    "if dupcheck(list2):\n",
    "   print(\"The given list : \", list2)\n",
    "   print(\"There are duplicates.\")\n",
    "else:\n",
    "   print(\"The given list : \", list2)\n",
    "   print(\"No duplicates.\")"
   ]
  },
  {
   "cell_type": "markdown",
   "id": "5291b670",
   "metadata": {},
   "source": [
    "# 1. python program to find out the average of a set of integers"
   ]
  },
  {
   "cell_type": "code",
   "execution_count": 17,
   "id": "9c5bbdbd",
   "metadata": {},
   "outputs": [
    {
     "name": "stdout",
     "output_type": "stream",
     "text": [
      "enter the numbers: 5\n",
      "Enter number : 1\n",
      "Enter number : 2\n",
      "Enter number : 3\n",
      "Enter number : 4\n",
      "Enter number : 5\n",
      "Average of  5  numbers is : 3.0\n"
     ]
    }
   ],
   "source": [
    "num = int(input('enter the numbers: '))\n",
    "total_sum = 0\n",
    "\n",
    "for n in range(num):\n",
    "    numbers = float(input('Enter number : '))\n",
    "    total_sum += numbers\n",
    "\n",
    "avg = total_sum/num\n",
    "print('Average of ', num, ' numbers is :', avg)"
   ]
  },
  {
   "cell_type": "code",
   "execution_count": null,
   "id": "6d092b79",
   "metadata": {},
   "outputs": [],
   "source": []
  },
  {
   "cell_type": "markdown",
   "id": "ea501933",
   "metadata": {},
   "source": [
    "# 4. Python program to display the given integer in reverse manner\n",
    "### a. Ex: input 852, output should be 258"
   ]
  },
  {
   "cell_type": "code",
   "execution_count": 4,
   "id": "9ce975c9",
   "metadata": {},
   "outputs": [
    {
     "name": "stdout",
     "output_type": "stream",
     "text": [
      "Reverse manner: 258\n"
     ]
    }
   ],
   "source": [
    "num = 852\n",
    "reversed_num = 0\n",
    "\n",
    "while num != 0:\n",
    "    digit = num % 10\n",
    "    reversed_num = reversed_num * 10 + digit\n",
    "    num //= 10\n",
    "\n",
    "print(\"Reverse manner: \" + str(reversed_num))"
   ]
  },
  {
   "cell_type": "markdown",
   "id": "bb7062e4",
   "metadata": {},
   "source": [
    "# 5. Create an inner function to calculate the addition in the following way"
   ]
  },
  {
   "cell_type": "markdown",
   "id": "e680316b",
   "metadata": {},
   "source": [
    "## a. Create an outer function that will accept two parameters, a and b\n"
   ]
  },
  {
   "cell_type": "code",
   "execution_count": 9,
   "id": "ed25080c",
   "metadata": {},
   "outputs": [
    {
     "name": "stdout",
     "output_type": "stream",
     "text": [
      "shop=  Mens saloon\n",
      "place=  Hyderabad\n"
     ]
    }
   ],
   "source": [
    "def function(shop, place):\n",
    "    print('shop= ',shop)\n",
    "    print('place= ',place)\n",
    "function('Mens saloon',  \"Hyderabad\")"
   ]
  },
  {
   "cell_type": "markdown",
   "id": "218980be",
   "metadata": {},
   "source": [
    "## b. Create an inner function inside an outer function that will calculate the addition of a and b\n"
   ]
  },
  {
   "cell_type": "code",
   "execution_count": null,
   "id": "9ff29bc2",
   "metadata": {},
   "outputs": [],
   "source": []
  },
  {
   "cell_type": "markdown",
   "id": "857b1bca",
   "metadata": {},
   "source": [
    "## c. At last, an outer function will add 5 into addition and return it"
   ]
  },
  {
   "cell_type": "code",
   "execution_count": 11,
   "id": "ee495a1a",
   "metadata": {},
   "outputs": [
    {
     "data": {
      "text/plain": [
       "13"
      ]
     },
     "execution_count": 11,
     "metadata": {},
     "output_type": "execute_result"
    }
   ],
   "source": [
    "def add(a, b):\n",
    "    def calculate(a,b):\n",
    "        return a+b\n",
    "    res = calculate(a,b) + 5\n",
    "    return res\n",
    "add(4,4) "
   ]
  },
  {
   "cell_type": "markdown",
   "id": "a57e0191",
   "metadata": {},
   "source": [
    "# 6. Python Program to Check Leap Year"
   ]
  },
  {
   "cell_type": "code",
   "execution_count": 20,
   "id": "7c596b62",
   "metadata": {},
   "outputs": [
    {
     "name": "stdout",
     "output_type": "stream",
     "text": [
      "Enter the number: 2017\n"
     ]
    }
   ],
   "source": [
    "def CheckLeap(Year):   \n",
    "  if((Year % 400 == 0) or  \n",
    "     (Year % 100 != 0) and  \n",
    "     (Year % 4 == 0)):   \n",
    "    print(\"Given Year is a leap Year\");\n",
    "   \n",
    "  else:  \n",
    "    print (\"Given Year is not a leap Year\")  \n",
    "Year = int(input(\"Enter the number: \")) "
   ]
  },
  {
   "cell_type": "code",
   "execution_count": 21,
   "id": "1fa1acd7",
   "metadata": {},
   "outputs": [
    {
     "name": "stdout",
     "output_type": "stream",
     "text": [
      "Given Year is not a leap Year\n"
     ]
    }
   ],
   "source": [
    "CheckLeap(Year)  "
   ]
  },
  {
   "cell_type": "code",
   "execution_count": 22,
   "id": "0663010a",
   "metadata": {},
   "outputs": [
    {
     "name": "stdout",
     "output_type": "stream",
     "text": [
      "Enter the number: 1900\n",
      "Given Year is not a leap Year\n"
     ]
    }
   ],
   "source": [
    "def CheckLeap(Year):   \n",
    "  if((Year % 400 == 0) or  \n",
    "     (Year % 100 != 0) and  \n",
    "     (Year % 4 == 0)):   \n",
    "    print(\"Given Year is a leap Year\");\n",
    "   \n",
    "  else:  \n",
    "    print (\"Given Year is not a leap Year\")  \n",
    "Year = int(input(\"Enter the number: \")) \n",
    "CheckLeap(Year) "
   ]
  },
  {
   "cell_type": "code",
   "execution_count": 23,
   "id": "dec1487f",
   "metadata": {},
   "outputs": [
    {
     "name": "stdout",
     "output_type": "stream",
     "text": [
      "Enter the number: 2012\n",
      "Given Year is a leap Year\n"
     ]
    }
   ],
   "source": [
    "def CheckLeap(Year):   \n",
    "  if((Year % 400 == 0) or  \n",
    "     (Year % 100 != 0) and  \n",
    "     (Year % 4 == 0)):   \n",
    "    print(\"Given Year is a leap Year\");\n",
    "   \n",
    "  else:  \n",
    "    print (\"Given Year is not a leap Year\")  \n",
    "Year = int(input(\"Enter the number: \")) \n",
    "CheckLeap(Year) "
   ]
  },
  {
   "cell_type": "code",
   "execution_count": 24,
   "id": "a724a113",
   "metadata": {},
   "outputs": [
    {
     "name": "stdout",
     "output_type": "stream",
     "text": [
      "Enter the number: 2000\n",
      "Given Year is a leap Year\n"
     ]
    }
   ],
   "source": [
    "def CheckLeap(Year):   \n",
    "  if((Year % 400 == 0) or  \n",
    "     (Year % 100 != 0) and  \n",
    "     (Year % 4 == 0)):   \n",
    "    print(\"Given Year is a leap Year\");\n",
    "   \n",
    "  else:  \n",
    "    print (\"Given Year is not a leap Year\")  \n",
    "Year = int(input(\"Enter the number: \")) \n",
    "CheckLeap(Year) "
   ]
  },
  {
   "cell_type": "code",
   "execution_count": null,
   "id": "73609696",
   "metadata": {},
   "outputs": [],
   "source": []
  }
 ],
 "metadata": {
  "kernelspec": {
   "display_name": "Python 3 (ipykernel)",
   "language": "python",
   "name": "python3"
  },
  "language_info": {
   "codemirror_mode": {
    "name": "ipython",
    "version": 3
   },
   "file_extension": ".py",
   "mimetype": "text/x-python",
   "name": "python",
   "nbconvert_exporter": "python",
   "pygments_lexer": "ipython3",
   "version": "3.9.7"
  }
 },
 "nbformat": 4,
 "nbformat_minor": 5
}
