{
 "cells": [
  {
   "cell_type": "markdown",
   "id": "e0d57089",
   "metadata": {},
   "source": [
    "# Day-6 session - 20th February 2022 on python\n",
    "\n",
    "1.Tables\n",
    "\n",
    "2.Generators - yield keyword\n",
    "\n",
    "3.Generator expressions\n",
    "\n",
    "4.Nested Functions\n",
    "\n",
    "5.Closures for Functions\n",
    "\n",
    "6.Decorators"
   ]
  },
  {
   "cell_type": "code",
   "execution_count": 1,
   "id": "2ca9afe4",
   "metadata": {},
   "outputs": [
    {
     "name": "stdout",
     "output_type": "stream",
     "text": [
      "1 2 3 2\n",
      "[1, 2, 3, 2]\n"
     ]
    }
   ],
   "source": [
    "l = [1, 2, 3, 2]\n",
    "print(*l)\n",
    "print(l)"
   ]
  },
  {
   "cell_type": "code",
   "execution_count": 2,
   "id": "528b6f5f",
   "metadata": {},
   "outputs": [],
   "source": [
    "def function1(*var):\n",
    "    for i in var:\n",
    "        print(\"I am in : \", i)"
   ]
  },
  {
   "cell_type": "code",
   "execution_count": 3,
   "id": "118331eb",
   "metadata": {},
   "outputs": [
    {
     "name": "stdout",
     "output_type": "stream",
     "text": [
      "I am in :  Chennai\n",
      "I am in :  Hyderabad\n",
      "I am in :  Mumbai\n"
     ]
    }
   ],
   "source": [
    "function1('Chennai', 'Hyderabad', 'Mumbai')"
   ]
  },
  {
   "cell_type": "markdown",
   "id": "0610853b",
   "metadata": {},
   "source": [
    "# Tables"
   ]
  },
  {
   "cell_type": "code",
   "execution_count": 5,
   "id": "56ae1ce8",
   "metadata": {},
   "outputs": [
    {
     "name": "stdout",
     "output_type": "stream",
     "text": [
      "2\n",
      "9\n",
      "8\n",
      "3\n"
     ]
    }
   ],
   "source": [
    "my_list = [2, 9, 8, 3]\n",
    "\n",
    "my_iter = iter(my_list)  ## iter will remember the previous value and will get the next value\n",
    "\n",
    "for i in range(len(my_list)):\n",
    "    print(next(my_iter))"
   ]
  },
  {
   "cell_type": "code",
   "execution_count": 6,
   "id": "2baab990",
   "metadata": {},
   "outputs": [
    {
     "ename": "StopIteration",
     "evalue": "",
     "output_type": "error",
     "traceback": [
      "\u001b[1;31m---------------------------------------------------------------------------\u001b[0m",
      "\u001b[1;31mStopIteration\u001b[0m                             Traceback (most recent call last)",
      "\u001b[1;32m~\\AppData\\Local\\Temp/ipykernel_9332/1757294138.py\u001b[0m in \u001b[0;36m<module>\u001b[1;34m\u001b[0m\n\u001b[1;32m----> 1\u001b[1;33m \u001b[0mprint\u001b[0m\u001b[1;33m(\u001b[0m\u001b[0mnext\u001b[0m\u001b[1;33m(\u001b[0m\u001b[0mmy_iter\u001b[0m\u001b[1;33m)\u001b[0m\u001b[1;33m)\u001b[0m\u001b[1;33m\u001b[0m\u001b[1;33m\u001b[0m\u001b[0m\n\u001b[0m",
      "\u001b[1;31mStopIteration\u001b[0m: "
     ]
    }
   ],
   "source": [
    "print(next(my_iter))"
   ]
  },
  {
   "cell_type": "code",
   "execution_count": 7,
   "id": "1e5cc5be",
   "metadata": {},
   "outputs": [],
   "source": [
    "my_iter1 = iter(my_list)"
   ]
  },
  {
   "cell_type": "code",
   "execution_count": 8,
   "id": "4938fd59",
   "metadata": {},
   "outputs": [
    {
     "name": "stdout",
     "output_type": "stream",
     "text": [
      "2\n"
     ]
    }
   ],
   "source": [
    "print(next(my_iter1))"
   ]
  },
  {
   "cell_type": "markdown",
   "id": "9d596199",
   "metadata": {},
   "source": [
    "# Generators - yield keyword"
   ]
  },
  {
   "cell_type": "code",
   "execution_count": 9,
   "id": "d6eda88b",
   "metadata": {},
   "outputs": [],
   "source": [
    "def generator_func():\n",
    "    num = 1\n",
    "    print(\"The first number : \")\n",
    "    yield num\n",
    "    num += 1   ## n = n + 1\n",
    "    print(\"The second number : \")\n",
    "    yield num\n",
    "    num += 1\n",
    "    print(\"The third number : \")\n",
    "    yield num"
   ]
  },
  {
   "cell_type": "code",
   "execution_count": 10,
   "id": "aef699e3",
   "metadata": {},
   "outputs": [
    {
     "data": {
      "text/plain": [
       "<generator object generator_func at 0x000002D12F25C200>"
      ]
     },
     "execution_count": 10,
     "metadata": {},
     "output_type": "execute_result"
    }
   ],
   "source": [
    "generator_func()"
   ]
  },
  {
   "cell_type": "code",
   "execution_count": 11,
   "id": "9727b6b3",
   "metadata": {},
   "outputs": [],
   "source": [
    "var1 = generator_func()"
   ]
  },
  {
   "cell_type": "code",
   "execution_count": 12,
   "id": "a2d98e1d",
   "metadata": {},
   "outputs": [
    {
     "name": "stdout",
     "output_type": "stream",
     "text": [
      "The first number : \n"
     ]
    },
    {
     "data": {
      "text/plain": [
       "1"
      ]
     },
     "execution_count": 12,
     "metadata": {},
     "output_type": "execute_result"
    }
   ],
   "source": [
    "next(var1)"
   ]
  },
  {
   "cell_type": "code",
   "execution_count": 13,
   "id": "cf8df357",
   "metadata": {},
   "outputs": [
    {
     "name": "stdout",
     "output_type": "stream",
     "text": [
      "The second number : \n"
     ]
    },
    {
     "data": {
      "text/plain": [
       "2"
      ]
     },
     "execution_count": 13,
     "metadata": {},
     "output_type": "execute_result"
    }
   ],
   "source": [
    "next(var1)"
   ]
  },
  {
   "cell_type": "code",
   "execution_count": 14,
   "id": "66bb6233",
   "metadata": {},
   "outputs": [
    {
     "name": "stdout",
     "output_type": "stream",
     "text": [
      "The third number : \n"
     ]
    },
    {
     "data": {
      "text/plain": [
       "3"
      ]
     },
     "execution_count": 14,
     "metadata": {},
     "output_type": "execute_result"
    }
   ],
   "source": [
    "next(var1)"
   ]
  },
  {
   "cell_type": "code",
   "execution_count": 15,
   "id": "e441fbe7",
   "metadata": {},
   "outputs": [
    {
     "ename": "StopIteration",
     "evalue": "",
     "output_type": "error",
     "traceback": [
      "\u001b[1;31m---------------------------------------------------------------------------\u001b[0m",
      "\u001b[1;31mStopIteration\u001b[0m                             Traceback (most recent call last)",
      "\u001b[1;32m~\\AppData\\Local\\Temp/ipykernel_9332/1695450877.py\u001b[0m in \u001b[0;36m<module>\u001b[1;34m\u001b[0m\n\u001b[1;32m----> 1\u001b[1;33m \u001b[0mnext\u001b[0m\u001b[1;33m(\u001b[0m\u001b[0mvar1\u001b[0m\u001b[1;33m)\u001b[0m\u001b[1;33m\u001b[0m\u001b[1;33m\u001b[0m\u001b[0m\n\u001b[0m",
      "\u001b[1;31mStopIteration\u001b[0m: "
     ]
    }
   ],
   "source": [
    "next(var1)"
   ]
  },
  {
   "cell_type": "code",
   "execution_count": 16,
   "id": "7ce798cc",
   "metadata": {},
   "outputs": [],
   "source": [
    "var2 = generator_func()"
   ]
  },
  {
   "cell_type": "code",
   "execution_count": 17,
   "id": "13d83484",
   "metadata": {},
   "outputs": [
    {
     "name": "stdout",
     "output_type": "stream",
     "text": [
      "The first number : \n"
     ]
    },
    {
     "data": {
      "text/plain": [
       "1"
      ]
     },
     "execution_count": 17,
     "metadata": {},
     "output_type": "execute_result"
    }
   ],
   "source": [
    "next(var2)"
   ]
  },
  {
   "cell_type": "code",
   "execution_count": 18,
   "id": "e7112167",
   "metadata": {},
   "outputs": [],
   "source": [
    "def generator_func1():\n",
    "    for i in range(10):\n",
    "        print(\"hi\")\n",
    "        yield i     "
   ]
  },
  {
   "cell_type": "code",
   "execution_count": 19,
   "id": "cd38e0bd",
   "metadata": {},
   "outputs": [],
   "source": [
    "var3 = generator_func1()"
   ]
  },
  {
   "cell_type": "code",
   "execution_count": 20,
   "id": "240cfef5",
   "metadata": {},
   "outputs": [
    {
     "name": "stdout",
     "output_type": "stream",
     "text": [
      "hi\n"
     ]
    },
    {
     "data": {
      "text/plain": [
       "0"
      ]
     },
     "execution_count": 20,
     "metadata": {},
     "output_type": "execute_result"
    }
   ],
   "source": [
    "next(var3)"
   ]
  },
  {
   "cell_type": "code",
   "execution_count": 21,
   "id": "6ef0e358",
   "metadata": {},
   "outputs": [
    {
     "name": "stdout",
     "output_type": "stream",
     "text": [
      "hi\n"
     ]
    },
    {
     "data": {
      "text/plain": [
       "1"
      ]
     },
     "execution_count": 21,
     "metadata": {},
     "output_type": "execute_result"
    }
   ],
   "source": [
    "next(var3)"
   ]
  },
  {
   "cell_type": "code",
   "execution_count": 22,
   "id": "a0bda7c6",
   "metadata": {},
   "outputs": [
    {
     "data": {
      "text/plain": [
       "'e'"
      ]
     },
     "execution_count": 22,
     "metadata": {},
     "output_type": "execute_result"
    }
   ],
   "source": [
    "def gen_func(arg1):\n",
    "    list1 = list(arg1)\n",
    "    list1.reverse()\n",
    "    for i in list1:\n",
    "        yield i\n",
    "var4 = gen_func('Data Science')\n",
    "next(var4)"
   ]
  },
  {
   "cell_type": "code",
   "execution_count": 23,
   "id": "1597b5f6",
   "metadata": {},
   "outputs": [
    {
     "data": {
      "text/plain": [
       "'c'"
      ]
     },
     "execution_count": 23,
     "metadata": {},
     "output_type": "execute_result"
    }
   ],
   "source": [
    "next(var4)"
   ]
  },
  {
   "cell_type": "code",
   "execution_count": 24,
   "id": "d985a9e3",
   "metadata": {},
   "outputs": [
    {
     "data": {
      "text/plain": [
       "'e'"
      ]
     },
     "execution_count": 24,
     "metadata": {},
     "output_type": "execute_result"
    }
   ],
   "source": [
    "def gen_func(arg1):\n",
    "    for i in arg1[-1]:\n",
    "        yield i\n",
    "var4 = gen_func('Data Science')\n",
    "next(var4)"
   ]
  },
  {
   "cell_type": "code",
   "execution_count": 25,
   "id": "6f61a05a",
   "metadata": {},
   "outputs": [],
   "source": [
    "def gen_rev(arg1):\n",
    "    for i in range(len(arg1)-1,0,-1):\n",
    "        yield arg1[i]"
   ]
  },
  {
   "cell_type": "code",
   "execution_count": 26,
   "id": "9b9a7317",
   "metadata": {},
   "outputs": [],
   "source": [
    "var5 = gen_rev('Data science')"
   ]
  },
  {
   "cell_type": "code",
   "execution_count": 27,
   "id": "8b18efc0",
   "metadata": {},
   "outputs": [
    {
     "name": "stdout",
     "output_type": "stream",
     "text": [
      "e\n",
      "c\n",
      "n\n",
      "e\n"
     ]
    }
   ],
   "source": [
    "print(next(var5))\n",
    "print(next(var5))\n",
    "print(next(var5))\n",
    "print(next(var5))"
   ]
  },
  {
   "cell_type": "code",
   "execution_count": 28,
   "id": "7563bd38",
   "metadata": {},
   "outputs": [],
   "source": [
    "def gen_rev(arg1):\n",
    "    for i in range(len(arg1)-1, 0, -1):\n",
    "        yield arg1[i]"
   ]
  },
  {
   "cell_type": "code",
   "execution_count": 29,
   "id": "0bffad46",
   "metadata": {},
   "outputs": [],
   "source": [
    "var5 = gen_rev('Data science')"
   ]
  },
  {
   "cell_type": "code",
   "execution_count": 30,
   "id": "1c9eea0d",
   "metadata": {},
   "outputs": [
    {
     "name": "stdout",
     "output_type": "stream",
     "text": [
      "e\n",
      "c\n",
      "n\n"
     ]
    }
   ],
   "source": [
    "print(next(var5))\n",
    "print(next(var5))\n",
    "print(next(var5))\n"
   ]
  },
  {
   "cell_type": "markdown",
   "id": "2a7c9519",
   "metadata": {},
   "source": [
    "# Generator expression"
   ]
  },
  {
   "cell_type": "code",
   "execution_count": 31,
   "id": "45daa58d",
   "metadata": {},
   "outputs": [],
   "source": [
    "list1 = [2, 4, 5, 10]"
   ]
  },
  {
   "cell_type": "code",
   "execution_count": 32,
   "id": "a5069e75",
   "metadata": {},
   "outputs": [
    {
     "data": {
      "text/plain": [
       "[4, 16, 25, 100]"
      ]
     },
     "execution_count": 32,
     "metadata": {},
     "output_type": "execute_result"
    }
   ],
   "source": [
    "[i*i for i in list1]"
   ]
  },
  {
   "cell_type": "code",
   "execution_count": 33,
   "id": "15ea0707",
   "metadata": {},
   "outputs": [
    {
     "data": {
      "text/plain": [
       "[4, 16, 25, 100]"
      ]
     },
     "execution_count": 33,
     "metadata": {},
     "output_type": "execute_result"
    }
   ],
   "source": [
    "[i**2 for i in list1]"
   ]
  },
  {
   "cell_type": "code",
   "execution_count": 34,
   "id": "b930b623",
   "metadata": {},
   "outputs": [
    {
     "data": {
      "text/plain": [
       "[8, 64, 125, 1000]"
      ]
     },
     "execution_count": 34,
     "metadata": {},
     "output_type": "execute_result"
    }
   ],
   "source": [
    "[i**3 for i in list1]"
   ]
  },
  {
   "cell_type": "code",
   "execution_count": 35,
   "id": "64c5f678",
   "metadata": {},
   "outputs": [
    {
     "name": "stdout",
     "output_type": "stream",
     "text": [
      "<class 'list'>\n",
      "<class 'generator'>\n"
     ]
    }
   ],
   "source": [
    "var1 = [i**2 for i in list1]\n",
    "print(type(var1))\n",
    "\n",
    "var1 = (i**2 for i in list1)\n",
    "print(type(var1))"
   ]
  },
  {
   "cell_type": "code",
   "execution_count": 36,
   "id": "ac10790d",
   "metadata": {},
   "outputs": [
    {
     "name": "stdout",
     "output_type": "stream",
     "text": [
      "4\n",
      "16\n",
      "25\n",
      "100\n"
     ]
    }
   ],
   "source": [
    "print(next(var1))\n",
    "print(next(var1))\n",
    "print(next(var1))\n",
    "print(next(var1))"
   ]
  },
  {
   "cell_type": "code",
   "execution_count": 37,
   "id": "3fb10ed3",
   "metadata": {},
   "outputs": [
    {
     "data": {
      "text/plain": [
       "8"
      ]
     },
     "execution_count": 37,
     "metadata": {},
     "output_type": "execute_result"
    }
   ],
   "source": [
    "min(i**3 for i in list1)"
   ]
  },
  {
   "cell_type": "code",
   "execution_count": 38,
   "id": "e5e89456",
   "metadata": {},
   "outputs": [
    {
     "data": {
      "text/plain": [
       "1000"
      ]
     },
     "execution_count": 38,
     "metadata": {},
     "output_type": "execute_result"
    }
   ],
   "source": [
    "max(i**3 for i in list1)"
   ]
  },
  {
   "cell_type": "code",
   "execution_count": 39,
   "id": "1cd63d3e",
   "metadata": {},
   "outputs": [],
   "source": [
    "def rev(s):\n",
    "    for i in s:\n",
    "        global st\n",
    "        st = i + st\n",
    "        yield st\n",
    "    print(st)"
   ]
  },
  {
   "cell_type": "code",
   "execution_count": 40,
   "id": "86a7f083",
   "metadata": {},
   "outputs": [
    {
     "name": "stdout",
     "output_type": "stream",
     "text": [
      " \n",
      " \n",
      " \n",
      " \n",
      " \n",
      " \n",
      "gnirtSString\n"
     ]
    }
   ],
   "source": [
    "st = 'String'\n",
    "for i in rev(st):\n",
    "    print(' ')\n",
    "#    int = 10\n",
    "#print(i)"
   ]
  },
  {
   "cell_type": "markdown",
   "id": "140a3425",
   "metadata": {},
   "source": [
    "# Nested functions - a function inside another function\n"
   ]
  },
  {
   "cell_type": "code",
   "execution_count": 41,
   "id": "88c531f6",
   "metadata": {},
   "outputs": [],
   "source": [
    "def outer_fun(arg):\n",
    "    var3 = 35\n",
    "    def inner_fun():\n",
    "        var1 = arg * 5 + var3\n",
    "        return var1\n",
    "    return inner_fun()"
   ]
  },
  {
   "cell_type": "code",
   "execution_count": 42,
   "id": "8c55d5a1",
   "metadata": {},
   "outputs": [
    {
     "name": "stdout",
     "output_type": "stream",
     "text": [
      "1085\n"
     ]
    }
   ],
   "source": [
    "b = outer_fun(210)\n",
    "print(b)"
   ]
  },
  {
   "cell_type": "markdown",
   "id": "d71a9c5a",
   "metadata": {},
   "source": [
    "# Closures in fuctions\n"
   ]
  },
  {
   "cell_type": "code",
   "execution_count": 43,
   "id": "51eaff20",
   "metadata": {},
   "outputs": [],
   "source": [
    "def outer_fun(arg):\n",
    "    def inner_fun():\n",
    "        var1 = arg * 5 \n",
    "        print(var1)\n",
    "    return inner_fun    ## closure"
   ]
  },
  {
   "cell_type": "code",
   "execution_count": 44,
   "id": "1497b2fd",
   "metadata": {},
   "outputs": [],
   "source": [
    "a = outer_fun(10)"
   ]
  },
  {
   "cell_type": "code",
   "execution_count": 45,
   "id": "92fddd99",
   "metadata": {},
   "outputs": [
    {
     "name": "stdout",
     "output_type": "stream",
     "text": [
      "50\n"
     ]
    }
   ],
   "source": [
    "a()"
   ]
  },
  {
   "cell_type": "code",
   "execution_count": 46,
   "id": "55b12573",
   "metadata": {},
   "outputs": [
    {
     "name": "stdout",
     "output_type": "stream",
     "text": [
      "50\n"
     ]
    }
   ],
   "source": [
    "b = a\n",
    "b()"
   ]
  },
  {
   "cell_type": "markdown",
   "id": "690e577d",
   "metadata": {},
   "source": [
    "# Decorators"
   ]
  },
  {
   "cell_type": "code",
   "execution_count": 48,
   "id": "320c7269",
   "metadata": {},
   "outputs": [
    {
     "name": "stdout",
     "output_type": "stream",
     "text": [
      "Print function 1\n"
     ]
    }
   ],
   "source": [
    "def func1():\n",
    "    print('Print function 1')\n",
    "func1()"
   ]
  },
  {
   "cell_type": "code",
   "execution_count": 49,
   "id": "ffb0f985",
   "metadata": {},
   "outputs": [
    {
     "name": "stdout",
     "output_type": "stream",
     "text": [
      "Print function 1\n"
     ]
    }
   ],
   "source": [
    "func2 = func1\n",
    "func2()"
   ]
  },
  {
   "cell_type": "code",
   "execution_count": 50,
   "id": "1557267f",
   "metadata": {},
   "outputs": [
    {
     "name": "stdout",
     "output_type": "stream",
     "text": [
      "4\n",
      "27\n"
     ]
    }
   ],
   "source": [
    "def square_fun(arg1):\n",
    "    return arg1**2\n",
    "\n",
    "def cube_fun(arg1):\n",
    "    return arg1**3\n",
    "\n",
    "def func3(func_arg1,arg2):    ## decorated function\n",
    "    res = func_arg1(arg2)\n",
    "    return res\n",
    "\n",
    "print(func3(square_fun, 2))\n",
    "\n",
    "print(func3(cube_fun, 3))\n",
    "    "
   ]
  },
  {
   "cell_type": "code",
   "execution_count": 51,
   "id": "f0b0c057",
   "metadata": {},
   "outputs": [],
   "source": [
    "def is_called():     ## normal nested function\n",
    "    def is_returned():\n",
    "        print(\"Nested function is returned\")\n",
    "    return is_returned"
   ]
  },
  {
   "cell_type": "code",
   "execution_count": 52,
   "id": "9fbbd11d",
   "metadata": {},
   "outputs": [
    {
     "name": "stdout",
     "output_type": "stream",
     "text": [
      "Nested function is returned\n"
     ]
    }
   ],
   "source": [
    "fn = is_called()\n",
    "fn()"
   ]
  },
  {
   "cell_type": "code",
   "execution_count": 53,
   "id": "e3e894ec",
   "metadata": {},
   "outputs": [
    {
     "name": "stdout",
     "output_type": "stream",
     "text": [
      "This is an ordinary function\n",
      "This is decorated now\n"
     ]
    }
   ],
   "source": [
    "def decorating_fun(fn):                    ##  #---> 3\n",
    "    def nested_fn():\n",
    "        fn()                               ##  #---> 5\n",
    "        print(\"This is decorated now\")     ##  #---> 8\n",
    "    return nested_fn                       ##  #---> 4\n",
    "\n",
    "def ordinary_fn():                         ##  #---> 6\n",
    "    print(\"This is an ordinary function\")  ##  #---> 7\n",
    "    \n",
    "dec = decorating_fun(ordinary_fn)          ##  #---> 2\n",
    "dec()                                      ##  #---> 1"
   ]
  },
  {
   "cell_type": "code",
   "execution_count": 54,
   "id": "099144ae",
   "metadata": {},
   "outputs": [],
   "source": [
    "def decorating_fn(fn):\n",
    "    def nested_fn(a,b):   ## decorating function\n",
    "        print(\"Dividing\", a, 'and', b)\n",
    "        if b == 0:\n",
    "            print('Cannot divide')\n",
    "            return\n",
    "        return fn(a,b)\n",
    "    return nested_fn"
   ]
  },
  {
   "cell_type": "code",
   "execution_count": 55,
   "id": "8fd32103",
   "metadata": {},
   "outputs": [],
   "source": [
    "@decorating_fn   ### place the decorating function on top of the fn that needs to be decorated\n",
    "def ordinary_fn(a,b):\n",
    "    return a/b"
   ]
  },
  {
   "cell_type": "code",
   "execution_count": 56,
   "id": "a0d5791b",
   "metadata": {},
   "outputs": [
    {
     "name": "stdout",
     "output_type": "stream",
     "text": [
      "Dividing 44 and 3\n"
     ]
    },
    {
     "data": {
      "text/plain": [
       "14.666666666666666"
      ]
     },
     "execution_count": 56,
     "metadata": {},
     "output_type": "execute_result"
    }
   ],
   "source": [
    "ordinary_fn(44,3)"
   ]
  },
  {
   "cell_type": "code",
   "execution_count": null,
   "id": "7272b9ad",
   "metadata": {},
   "outputs": [],
   "source": []
  },
  {
   "cell_type": "code",
   "execution_count": null,
   "id": "146924ec",
   "metadata": {},
   "outputs": [],
   "source": []
  }
 ],
 "metadata": {
  "kernelspec": {
   "display_name": "Python 3 (ipykernel)",
   "language": "python",
   "name": "python3"
  },
  "language_info": {
   "codemirror_mode": {
    "name": "ipython",
    "version": 3
   },
   "file_extension": ".py",
   "mimetype": "text/x-python",
   "name": "python",
   "nbconvert_exporter": "python",
   "pygments_lexer": "ipython3",
   "version": "3.9.7"
  }
 },
 "nbformat": 4,
 "nbformat_minor": 5
}
