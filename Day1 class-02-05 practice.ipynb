{
 "cells": [
  {
   "cell_type": "markdown",
   "id": "56bfaa29",
   "metadata": {},
   "source": [
    "# Day-1 session - 5th February 2022 on python\n",
    "\n",
    "1.Multi line logic statements with \\ and paranthesis()\n",
    "\n",
    "2.Range - Indendation\n",
    "\n",
    "3.For loop\n",
    "\n",
    "4.Single line comments\n",
    "\n",
    "5.Multi line comments\n",
    "\n",
    "6.Functions\n",
    "\n",
    "# first code in python"
   ]
  },
  {
   "cell_type": "code",
   "execution_count": 2,
   "id": "13720238",
   "metadata": {},
   "outputs": [
    {
     "name": "stdout",
     "output_type": "stream",
     "text": [
      "10a\n"
     ]
    }
   ],
   "source": [
    "a = '10a'\n",
    "print(a)"
   ]
  },
  {
   "cell_type": "code",
   "execution_count": 3,
   "id": "44fa776b",
   "metadata": {},
   "outputs": [
    {
     "data": {
      "text/plain": [
       "False"
      ]
     },
     "execution_count": 3,
     "metadata": {},
     "output_type": "execute_result"
    }
   ],
   "source": [
    "5 < 4"
   ]
  },
  {
   "cell_type": "code",
   "execution_count": 4,
   "id": "cb532a42",
   "metadata": {},
   "outputs": [],
   "source": [
    "var = 10 # assigning a varaible to a value"
   ]
  },
  {
   "cell_type": "code",
   "execution_count": 6,
   "id": "e75e58d3",
   "metadata": {},
   "outputs": [
    {
     "name": "stdout",
     "output_type": "stream",
     "text": [
      "45\n"
     ]
    }
   ],
   "source": [
    "digit = 1 + 2 + 3 + 4 + \\\n",
    "5 + 6  \\\n",
    "+7 + 8 \\\n",
    "+ 9\n",
    "print(digit)      ## multi line statement with \\"
   ]
  },
  {
   "cell_type": "code",
   "execution_count": 7,
   "id": "b9601359",
   "metadata": {},
   "outputs": [
    {
     "name": "stdout",
     "output_type": "stream",
     "text": [
      "58\n"
     ]
    }
   ],
   "source": [
    "digit1=(1+32+3 +4+ \\\n",
    "5+6\n",
    "+7)             ## multi line statement with open close paranthesis()\n",
    "print(digit1)"
   ]
  },
  {
   "cell_type": "code",
   "execution_count": 8,
   "id": "e7479c2d",
   "metadata": {},
   "outputs": [
    {
     "name": "stdout",
     "output_type": "stream",
     "text": [
      "1 \n",
      " 2 \n",
      " 3\n"
     ]
    }
   ],
   "source": [
    "a=1; b=2; c=3;\n",
    "print(a,'\\n',b,'\\n',c)  # when we include # it will print in next line"
   ]
  },
  {
   "cell_type": "code",
   "execution_count": 9,
   "id": "c3d9504f",
   "metadata": {},
   "outputs": [
    {
     "name": "stdout",
     "output_type": "stream",
     "text": [
      "[1, 2, 3, 4, 5, 6, 7, 8, 9, 10, 11, 12, 13, 14, 15, 16, 17, 18, 19]\n"
     ]
    }
   ],
   "source": [
    "x=list(range(1,20))   ## indendation\n",
    "print(x)"
   ]
  },
  {
   "cell_type": "code",
   "execution_count": 10,
   "id": "3c62d9c2",
   "metadata": {},
   "outputs": [
    {
     "name": "stdout",
     "output_type": "stream",
     "text": [
      "[1, 5, 9, 13, 17]\n"
     ]
    }
   ],
   "source": [
    "x=list(range(1,20,4))   ## indendation\n",
    "print(x)"
   ]
  },
  {
   "cell_type": "code",
   "execution_count": 11,
   "id": "e767a9cb",
   "metadata": {},
   "outputs": [
    {
     "name": "stdout",
     "output_type": "stream",
     "text": [
      "1\n",
      "2\n",
      "3\n",
      "4\n"
     ]
    }
   ],
   "source": [
    "for p in range(1,10):   ## for loop\n",
    "    if (p<5):\n",
    "        print(p)"
   ]
  },
  {
   "cell_type": "code",
   "execution_count": 12,
   "id": "5cca275f",
   "metadata": {},
   "outputs": [
    {
     "name": "stdout",
     "output_type": "stream",
     "text": [
      "1\n",
      "2\n",
      "3\n",
      "4\n",
      "5\n"
     ]
    }
   ],
   "source": [
    "for q in range(1,8):   ## for loop\n",
    "    print(q)\n",
    "    if (q==5):\n",
    "        break"
   ]
  },
  {
   "cell_type": "code",
   "execution_count": 13,
   "id": "e3e8a0ba",
   "metadata": {},
   "outputs": [
    {
     "name": "stdout",
     "output_type": "stream",
     "text": [
      "1\n",
      "2\n"
     ]
    }
   ],
   "source": [
    "for i in range(1, 3): print(i)"
   ]
  },
  {
   "cell_type": "code",
   "execution_count": 14,
   "id": "a72b582a",
   "metadata": {},
   "outputs": [
    {
     "name": "stdout",
     "output_type": "stream",
     "text": [
      "True\n"
     ]
    }
   ],
   "source": [
    "if True: print('True')"
   ]
  },
  {
   "cell_type": "code",
   "execution_count": 15,
   "id": "81952347",
   "metadata": {},
   "outputs": [
    {
     "name": "stdout",
     "output_type": "stream",
     "text": [
      "False\n"
     ]
    }
   ],
   "source": [
    "if 5>6: print('True')\n",
    "else:\n",
    "    print('False')"
   ]
  },
  {
   "cell_type": "markdown",
   "id": "e66754b0",
   "metadata": {},
   "source": [
    "# Single line comments using '#'"
   ]
  },
  {
   "cell_type": "code",
   "execution_count": null,
   "id": "dd6d4c2d",
   "metadata": {},
   "outputs": [],
   "source": [
    "# --># comment section on short cut keys\n",
    "# print('i am a software engineer')   -> ctrl+/ to comment set of lines and to uncomment the lines\n",
    "# print('i am marrier')"
   ]
  },
  {
   "cell_type": "markdown",
   "id": "d892c396",
   "metadata": {},
   "source": [
    "# Multi line comments - these comments mainly we will use in the functions"
   ]
  },
  {
   "cell_type": "code",
   "execution_count": 22,
   "id": "713239a5",
   "metadata": {},
   "outputs": [
    {
     "data": {
      "text/plain": [
       "' this is my first class\\nstarted on 05-02-2022\\nimran is my tutor'"
      ]
     },
     "execution_count": 22,
     "metadata": {},
     "output_type": "execute_result"
    }
   ],
   "source": [
    "\"\"\" this is my first class\n",
    "started on 05-02-2022\n",
    "imran is my tutor\"\"\""
   ]
  },
  {
   "cell_type": "markdown",
   "id": "b225b93a",
   "metadata": {},
   "source": [
    "# Functions\n",
    "## doc string"
   ]
  },
  {
   "cell_type": "code",
   "execution_count": 24,
   "id": "359711c3",
   "metadata": {},
   "outputs": [],
   "source": [
    "def function1():\n",
    "    \"\"\"this is my first function in the python program\"\"\"    ## doc string\n",
    "    print('first function pgm')"
   ]
  },
  {
   "cell_type": "code",
   "execution_count": 25,
   "id": "4562ec95",
   "metadata": {},
   "outputs": [
    {
     "name": "stdout",
     "output_type": "stream",
     "text": [
      "this is my first function in the python program\n"
     ]
    }
   ],
   "source": [
    "print(function1.__doc__)    ## doc string from function1, it is used to get only the description from function in a way it mentioned"
   ]
  },
  {
   "cell_type": "code",
   "execution_count": 26,
   "id": "5fe13db8",
   "metadata": {},
   "outputs": [
    {
     "name": "stdout",
     "output_type": "stream",
     "text": [
      "first function pgm\n"
     ]
    }
   ],
   "source": [
    "function1()     ## function calling"
   ]
  },
  {
   "cell_type": "code",
   "execution_count": 27,
   "id": "4dabd645",
   "metadata": {},
   "outputs": [],
   "source": [
    "def add_fun(a,b):\n",
    "    \"\"\"function to add two values\"\"\"\n",
    "    return a+b"
   ]
  },
  {
   "cell_type": "code",
   "execution_count": 28,
   "id": "ac3490be",
   "metadata": {},
   "outputs": [
    {
     "name": "stdout",
     "output_type": "stream",
     "text": [
      "function to add two values\n",
      "11\n"
     ]
    }
   ],
   "source": [
    "print(add_fun.__doc__)\n",
    "print(add_fun(5,6))"
   ]
  },
  {
   "cell_type": "code",
   "execution_count": 29,
   "id": "5571250f",
   "metadata": {},
   "outputs": [
    {
     "name": "stdout",
     "output_type": "stream",
     "text": [
      "11\n"
     ]
    }
   ],
   "source": [
    "a1=add_fun(5,6)\n",
    "if (a1>10):\n",
    "    print(a1)"
   ]
  },
  {
   "cell_type": "code",
   "execution_count": null,
   "id": "587bad08",
   "metadata": {},
   "outputs": [],
   "source": []
  }
 ],
 "metadata": {
  "kernelspec": {
   "display_name": "Python 3 (ipykernel)",
   "language": "python",
   "name": "python3"
  },
  "language_info": {
   "codemirror_mode": {
    "name": "ipython",
    "version": 3
   },
   "file_extension": ".py",
   "mimetype": "text/x-python",
   "name": "python",
   "nbconvert_exporter": "python",
   "pygments_lexer": "ipython3",
   "version": "3.9.7"
  }
 },
 "nbformat": 4,
 "nbformat_minor": 5
}
