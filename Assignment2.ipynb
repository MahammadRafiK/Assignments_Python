{
 "cells": [
  {
   "cell_type": "markdown",
   "id": "4fa30ab6",
   "metadata": {},
   "source": [
    "# 1. Get the input for 2 variables though “input” function and pass them to a function to return the addition of two variables"
   ]
  },
  {
   "cell_type": "code",
   "execution_count": 1,
   "id": "cb24a92c",
   "metadata": {},
   "outputs": [],
   "source": [
    "def add_function(num1,num2):\n",
    "    \"\"\"This function will add given two numbers and return the Sum\"\"\"\n",
    "    Sum= num1 + num2\n",
    "    return Sum"
   ]
  },
  {
   "cell_type": "code",
   "execution_count": 9,
   "id": "fc58f852",
   "metadata": {},
   "outputs": [
    {
     "name": "stdout",
     "output_type": "stream",
     "text": [
      "Enter the first number25\n",
      "Enter the second number35\n",
      "the addition of the two given two numbers is :  60\n"
     ]
    }
   ],
   "source": [
    "number1 = int(input('Enter the first number'))\n",
    "number2 = int(input('Enter the second number'))\n",
    "addition_func = add_function(number1, number2)\n",
    "print(\"the addition of the two given two numbers is : \", addition_func)"
   ]
  },
  {
   "cell_type": "markdown",
   "id": "df6606dd",
   "metadata": {},
   "source": [
    "# 2. What happens if we try to add an int with str and vice versa. Please print out the error\n"
   ]
  },
  {
   "cell_type": "code",
   "execution_count": 12,
   "id": "2cefe587",
   "metadata": {},
   "outputs": [
    {
     "name": "stdout",
     "output_type": "stream",
     "text": [
      "Enter the first number11\n",
      "Enter the second numberMango\n"
     ]
    },
    {
     "ename": "ValueError",
     "evalue": "invalid literal for int() with base 10: 'Mango'",
     "output_type": "error",
     "traceback": [
      "\u001b[1;31m---------------------------------------------------------------------------\u001b[0m",
      "\u001b[1;31mValueError\u001b[0m                                Traceback (most recent call last)",
      "\u001b[1;32m~\\AppData\\Local\\Temp/ipykernel_2660/1732381483.py\u001b[0m in \u001b[0;36m<module>\u001b[1;34m\u001b[0m\n\u001b[0;32m      1\u001b[0m \u001b[0mnumber1\u001b[0m \u001b[1;33m=\u001b[0m \u001b[0mint\u001b[0m\u001b[1;33m(\u001b[0m\u001b[0minput\u001b[0m\u001b[1;33m(\u001b[0m\u001b[1;34m'Enter the first number'\u001b[0m\u001b[1;33m)\u001b[0m\u001b[1;33m)\u001b[0m\u001b[1;33m\u001b[0m\u001b[1;33m\u001b[0m\u001b[0m\n\u001b[1;32m----> 2\u001b[1;33m \u001b[0mnumber2\u001b[0m \u001b[1;33m=\u001b[0m \u001b[0mint\u001b[0m\u001b[1;33m(\u001b[0m\u001b[0minput\u001b[0m\u001b[1;33m(\u001b[0m\u001b[1;34m'Enter the second number'\u001b[0m\u001b[1;33m)\u001b[0m\u001b[1;33m)\u001b[0m\u001b[1;33m\u001b[0m\u001b[1;33m\u001b[0m\u001b[0m\n\u001b[0m\u001b[0;32m      3\u001b[0m \u001b[0maddition_func\u001b[0m \u001b[1;33m=\u001b[0m \u001b[0madd_function\u001b[0m\u001b[1;33m(\u001b[0m\u001b[0mnumber1\u001b[0m\u001b[1;33m,\u001b[0m \u001b[0mnumber2\u001b[0m\u001b[1;33m)\u001b[0m\u001b[1;33m\u001b[0m\u001b[1;33m\u001b[0m\u001b[0m\n\u001b[0;32m      4\u001b[0m \u001b[0mprint\u001b[0m\u001b[1;33m(\u001b[0m\u001b[1;34m\"the addition of the two given two numbers is : \"\u001b[0m\u001b[1;33m,\u001b[0m \u001b[0maddition_func\u001b[0m\u001b[1;33m)\u001b[0m\u001b[1;33m\u001b[0m\u001b[1;33m\u001b[0m\u001b[0m\n",
      "\u001b[1;31mValueError\u001b[0m: invalid literal for int() with base 10: 'Mango'"
     ]
    }
   ],
   "source": [
    "number1 = int(input('Enter the first number'))\n",
    "number2 = int(input('Enter the second number'))\n",
    "addition_func = add_function(number1, number2)\n",
    "print(\"the addition of the two given two numbers is : \", addition_func)"
   ]
  },
  {
   "cell_type": "code",
   "execution_count": 13,
   "id": "9f459d55",
   "metadata": {},
   "outputs": [
    {
     "name": "stdout",
     "output_type": "stream",
     "text": [
      "Enter the first numberElephant\n"
     ]
    },
    {
     "ename": "ValueError",
     "evalue": "invalid literal for int() with base 10: 'Elephant'",
     "output_type": "error",
     "traceback": [
      "\u001b[1;31m---------------------------------------------------------------------------\u001b[0m",
      "\u001b[1;31mValueError\u001b[0m                                Traceback (most recent call last)",
      "\u001b[1;32m~\\AppData\\Local\\Temp/ipykernel_2660/1732381483.py\u001b[0m in \u001b[0;36m<module>\u001b[1;34m\u001b[0m\n\u001b[1;32m----> 1\u001b[1;33m \u001b[0mnumber1\u001b[0m \u001b[1;33m=\u001b[0m \u001b[0mint\u001b[0m\u001b[1;33m(\u001b[0m\u001b[0minput\u001b[0m\u001b[1;33m(\u001b[0m\u001b[1;34m'Enter the first number'\u001b[0m\u001b[1;33m)\u001b[0m\u001b[1;33m)\u001b[0m\u001b[1;33m\u001b[0m\u001b[1;33m\u001b[0m\u001b[0m\n\u001b[0m\u001b[0;32m      2\u001b[0m \u001b[0mnumber2\u001b[0m \u001b[1;33m=\u001b[0m \u001b[0mint\u001b[0m\u001b[1;33m(\u001b[0m\u001b[0minput\u001b[0m\u001b[1;33m(\u001b[0m\u001b[1;34m'Enter the second number'\u001b[0m\u001b[1;33m)\u001b[0m\u001b[1;33m)\u001b[0m\u001b[1;33m\u001b[0m\u001b[1;33m\u001b[0m\u001b[0m\n\u001b[0;32m      3\u001b[0m \u001b[0maddition_func\u001b[0m \u001b[1;33m=\u001b[0m \u001b[0madd_function\u001b[0m\u001b[1;33m(\u001b[0m\u001b[0mnumber1\u001b[0m\u001b[1;33m,\u001b[0m \u001b[0mnumber2\u001b[0m\u001b[1;33m)\u001b[0m\u001b[1;33m\u001b[0m\u001b[1;33m\u001b[0m\u001b[0m\n\u001b[0;32m      4\u001b[0m \u001b[0mprint\u001b[0m\u001b[1;33m(\u001b[0m\u001b[1;34m\"the addition of the two given two numbers is : \"\u001b[0m\u001b[1;33m,\u001b[0m \u001b[0maddition_func\u001b[0m\u001b[1;33m)\u001b[0m\u001b[1;33m\u001b[0m\u001b[1;33m\u001b[0m\u001b[0m\n",
      "\u001b[1;31mValueError\u001b[0m: invalid literal for int() with base 10: 'Elephant'"
     ]
    }
   ],
   "source": [
    "number1 = int(input('Enter the first number'))\n",
    "number2 = int(input('Enter the second number'))\n",
    "addition_func = add_function(number1, number2)\n",
    "print(\"the addition of the two given two numbers is : \", addition_func)"
   ]
  },
  {
   "cell_type": "markdown",
   "id": "93baebc5",
   "metadata": {},
   "source": [
    "# 3. Create a string variable for the word “Data Science” and see if the letter “s” is present in it using membership operators"
   ]
  },
  {
   "cell_type": "code",
   "execution_count": 20,
   "id": "4dfa044d",
   "metadata": {},
   "outputs": [
    {
     "name": "stdout",
     "output_type": "stream",
     "text": [
      "Enter the letter you want to check : s\n",
      "the given letter is not present\n"
     ]
    }
   ],
   "source": [
    "a = \"Data Science\"\n",
    "b = input(\"Enter the letter you want to check : \")\n",
    "if b in a:\n",
    "    print(\"the letter is present\")\n",
    "else:\n",
    "    print(\"the given letter is not present\")"
   ]
  },
  {
   "cell_type": "code",
   "execution_count": 21,
   "id": "6fd17ce0",
   "metadata": {},
   "outputs": [
    {
     "name": "stdout",
     "output_type": "stream",
     "text": [
      "Enter the letter you want to check : S\n",
      "the letter is present\n"
     ]
    }
   ],
   "source": [
    "a = \"Data Science\"\n",
    "b = input(\"Enter the letter you want to check : \")\n",
    "if b in a:\n",
    "    print(\"the letter is present\")\n",
    "else:\n",
    "    print(\"the given letter is not present\")"
   ]
  },
  {
   "cell_type": "markdown",
   "id": "9ac8b277",
   "metadata": {},
   "source": [
    "# 4. Write a function and pass a number list as an argument to the function. And return True if the first and last number of a given list is same. If numbers are different then return False"
   ]
  },
  {
   "cell_type": "code",
   "execution_count": 41,
   "id": "497ae4e9",
   "metadata": {},
   "outputs": [
    {
     "name": "stdout",
     "output_type": "stream",
     "text": [
      "True\n"
     ]
    }
   ],
   "source": [
    "list1=[1,3,4,5,1]\n",
    "def func(abc):\n",
    "    print(list1[0]is list1[4])\n",
    "func(list1)\n",
    "    "
   ]
  },
  {
   "cell_type": "code",
   "execution_count": null,
   "id": "18c3353e",
   "metadata": {},
   "outputs": [],
   "source": []
  },
  {
   "cell_type": "code",
   "execution_count": 42,
   "id": "d90202eb",
   "metadata": {},
   "outputs": [
    {
     "name": "stdout",
     "output_type": "stream",
     "text": [
      "False\n"
     ]
    }
   ],
   "source": [
    "def func(abc):\n",
    "    list1=[1,3,4,2]\n",
    "    print(list1[0]is list1[3])\n",
    "func(list1)"
   ]
  },
  {
   "cell_type": "code",
   "execution_count": null,
   "id": "71f0d04a",
   "metadata": {},
   "outputs": [],
   "source": []
  },
  {
   "cell_type": "markdown",
   "id": "f66294e1",
   "metadata": {},
   "source": [
    "# 5. Iterate the given list of numbers (l1) and print only those numbers which are divisible by 5. (l1 = [10, 20, 33, 46, 55])"
   ]
  },
  {
   "cell_type": "code",
   "execution_count": 24,
   "id": "e66d4dfd",
   "metadata": {},
   "outputs": [
    {
     "name": "stdout",
     "output_type": "stream",
     "text": [
      "The numbers which are divisible by 5 are : [10, 20, 55]\n"
     ]
    }
   ],
   "source": [
    "l1 = [10,20,33,46,55]\n",
    "list_iter = [i for i in l1 if i%5 == 0]\n",
    "print(\"The numbers which are divisible by 5 are :\", list_iter)"
   ]
  },
  {
   "cell_type": "code",
   "execution_count": 25,
   "id": "6da7af11",
   "metadata": {},
   "outputs": [
    {
     "name": "stdout",
     "output_type": "stream",
     "text": [
      "10\n",
      "20\n",
      "55\n"
     ]
    }
   ],
   "source": [
    "for i in l1:    \n",
    "    if i%5 == 0:\n",
    "        print(i)"
   ]
  },
  {
   "cell_type": "markdown",
   "id": "5951cae2",
   "metadata": {},
   "source": [
    "# 6. Write a program to create function calculation() such that it can accept two variables and calculate addition and subtraction. Also, it must return both addition and subtraction in a single return call."
   ]
  },
  {
   "cell_type": "markdown",
   "id": "b9fa57f6",
   "metadata": {},
   "source": [
    "# a. Hint: Separate return values with a comma"
   ]
  },
  {
   "cell_type": "code",
   "execution_count": 28,
   "id": "8668dacd",
   "metadata": {},
   "outputs": [],
   "source": [
    "def arithmetic_cal(var1,var2):\n",
    "    \"\"\"Performing Arithmetic operions(addition and subtraction)\"\"\"\n",
    "    add = var1 + var2\n",
    "    if var1 >= var2:\n",
    "        sub = var1 - var2\n",
    "    else:\n",
    "        sub = var2 - var1\n",
    "    return add, sub"
   ]
  },
  {
   "cell_type": "code",
   "execution_count": 30,
   "id": "0c3ce4e4",
   "metadata": {},
   "outputs": [
    {
     "name": "stdout",
     "output_type": "stream",
     "text": [
      "Enter value for num1 :8\n",
      "Enter value for num2 :5\n",
      "Performing Arithmetic operions(addition and subtraction)\n",
      "addition of two values is :  13\n",
      "substraction of two values is :  3\n"
     ]
    }
   ],
   "source": [
    "num1 = int(input('Enter value for num1 :'))\n",
    "num2 = int(input('Enter value for num2 :'))\n",
    "\n",
    "add1, sub1 = arithmetic_cal(num1,num2)\n",
    "\n",
    "print(arithmetic_cal.__doc__)\n",
    "print('addition of two values is : ', add1)\n",
    "print('substraction of two values is : ', sub1)"
   ]
  },
  {
   "cell_type": "markdown",
   "id": "10b2d522",
   "metadata": {},
   "source": [
    "# 7. Write a program to demonstrate the following Syntax error\n",
    "# a. SyntaxError: non-default argument follows default argument"
   ]
  },
  {
   "cell_type": "code",
   "execution_count": 32,
   "id": "512d9202",
   "metadata": {},
   "outputs": [
    {
     "ename": "SyntaxError",
     "evalue": "non-default argument follows default argument (Temp/ipykernel_2660/595062337.py, line 1)",
     "output_type": "error",
     "traceback": [
      "\u001b[1;36m  File \u001b[1;32m\"C:\\Users\\maham\\AppData\\Local\\Temp/ipykernel_2660/595062337.py\"\u001b[1;36m, line \u001b[1;32m1\u001b[0m\n\u001b[1;33m    def func_arg_check(var1='Mahammad',var2):\u001b[0m\n\u001b[1;37m                                           ^\u001b[0m\n\u001b[1;31mSyntaxError\u001b[0m\u001b[1;31m:\u001b[0m non-default argument follows default argument\n"
     ]
    }
   ],
   "source": [
    "def func_arg_check(var1='Mahammad',var2):\n",
    "    print(var1, var2)\n",
    "    \n",
    "func_arg_check('Mahammad','Rafi')"
   ]
  },
  {
   "cell_type": "markdown",
   "id": "5ed1967f",
   "metadata": {},
   "source": [
    "# 8. What’s recursion? Explain in your own words and write a program to create a recursive function to calculate the sum of numbers from 0 to 10"
   ]
  },
  {
   "cell_type": "markdown",
   "id": "3e7d93db",
   "metadata": {},
   "source": [
    "#### Recursion is a function that call itself"
   ]
  },
  {
   "cell_type": "code",
   "execution_count": 35,
   "id": "f10894dd",
   "metadata": {},
   "outputs": [],
   "source": [
    "def add_func_rec(n):\n",
    "    \"\"\"addition of numbers from 0 to entered value\"\"\"\n",
    "    if n == 1:\n",
    "        return n\n",
    "    else:\n",
    "        return (n + add_func_rec(n-1))"
   ]
  },
  {
   "cell_type": "code",
   "execution_count": 36,
   "id": "80e038e8",
   "metadata": {},
   "outputs": [
    {
     "name": "stdout",
     "output_type": "stream",
     "text": [
      "addition of numbers from 0 to entered value\n",
      "enter the number : 10\n",
      "sum of numbers from 0 to 10 is 55\n"
     ]
    }
   ],
   "source": [
    "print(add_func_rec.__doc__)\n",
    "\n",
    "num = int(input('enter the number : '))\n",
    "\n",
    "print(\"sum of numbers from 0 to\", num, 'is', add_func_rec(num))"
   ]
  },
  {
   "cell_type": "markdown",
   "id": "4e197901",
   "metadata": {},
   "source": [
    "# 9. Use filter and lambda function to calculate square for below numbers only if they are odd number\n",
    "# a. [12, 11, 53, 22, 21, 77, 87, 88, 98]"
   ]
  },
  {
   "cell_type": "code",
   "execution_count": 38,
   "id": "0dac896a",
   "metadata": {},
   "outputs": [
    {
     "name": "stdout",
     "output_type": "stream",
     "text": [
      "Square for the odd numbers in the list : [121, 2809, 441, 5929, 7569]\n"
     ]
    }
   ],
   "source": [
    "list1 = [12, 11, 53, 22, 21, 77, 87, 88, 98]\n",
    "filt1 = list(map(lambda y:y*y,(list(filter(lambda x:x%2 != 0, list1)))))\n",
    "print('Square for the odd numbers in the list :', filt1)"
   ]
  },
  {
   "cell_type": "markdown",
   "id": "cc762f92",
   "metadata": {},
   "source": [
    "# 10. Write a function (not a lambda function) and use it to demonstrate an example for map function (any logical function of your choice)"
   ]
  },
  {
   "cell_type": "code",
   "execution_count": 40,
   "id": "ee3f9e37",
   "metadata": {},
   "outputs": [
    {
     "name": "stdout",
     "output_type": "stream",
     "text": [
      "[6, 8, 10, 12]\n"
     ]
    }
   ],
   "source": [
    "def add(x,y):\n",
    "    return x+y\n",
    "\n",
    "list1=[1,2,3,4]\n",
    "list2=[5,6,7,8]\n",
    "abc=list(map(add,list1,list2))\n",
    "print(abc)"
   ]
  },
  {
   "cell_type": "code",
   "execution_count": null,
   "id": "ff3b9ad1",
   "metadata": {},
   "outputs": [],
   "source": []
  }
 ],
 "metadata": {
  "kernelspec": {
   "display_name": "Python 3 (ipykernel)",
   "language": "python",
   "name": "python3"
  },
  "language_info": {
   "codemirror_mode": {
    "name": "ipython",
    "version": 3
   },
   "file_extension": ".py",
   "mimetype": "text/x-python",
   "name": "python",
   "nbconvert_exporter": "python",
   "pygments_lexer": "ipython3",
   "version": "3.9.7"
  }
 },
 "nbformat": 4,
 "nbformat_minor": 5
}
