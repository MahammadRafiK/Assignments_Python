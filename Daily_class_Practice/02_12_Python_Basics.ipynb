{
 "cells": [
  {
   "cell_type": "markdown",
   "id": "af480b43",
   "metadata": {},
   "source": [
    "# Day-3 session - 12th February 2022 on python\n",
    "Data type Conversion\n",
    "\n",
    "Conversion of sequence from one to another(example : list to tuple, tuple to set, list to set)\n",
    "\n",
    "Type Conversion\n",
    "\n",
    "Input\n",
    "\n",
    "Operators addition, multiplication, subtraction, Division\n",
    "\n",
    "Logical operators\n",
    "\n",
    "Assignment operators\n",
    "\n",
    "Membership operators\n",
    "\n",
    "IF Statements\n",
    "\n",
    "IF and ELSE Statements\n",
    "\n",
    "Nested IF statements\n",
    "\n",
    "For loop"
   ]
  },
  {
   "cell_type": "markdown",
   "id": "efa5cf37",
   "metadata": {},
   "source": [
    "# Data type conversion"
   ]
  },
  {
   "cell_type": "code",
   "execution_count": 2,
   "id": "463a54e7",
   "metadata": {},
   "outputs": [
    {
     "data": {
      "text/plain": [
       "10.0"
      ]
     },
     "execution_count": 2,
     "metadata": {},
     "output_type": "execute_result"
    }
   ],
   "source": [
    "i=10;\n",
    "float(i)"
   ]
  },
  {
   "cell_type": "code",
   "execution_count": 4,
   "id": "7798faca",
   "metadata": {},
   "outputs": [
    {
     "data": {
      "text/plain": [
       "int"
      ]
     },
     "execution_count": 4,
     "metadata": {},
     "output_type": "execute_result"
    }
   ],
   "source": [
    "i=10;\n",
    "type (i)"
   ]
  },
  {
   "cell_type": "code",
   "execution_count": 5,
   "id": "4548a21e",
   "metadata": {},
   "outputs": [
    {
     "data": {
      "text/plain": [
       "10"
      ]
     },
     "execution_count": 5,
     "metadata": {},
     "output_type": "execute_result"
    }
   ],
   "source": [
    "i=10;\n",
    "int (i)"
   ]
  },
  {
   "cell_type": "code",
   "execution_count": 6,
   "id": "0fa18f9b",
   "metadata": {},
   "outputs": [
    {
     "data": {
      "text/plain": [
       "10"
      ]
     },
     "execution_count": 6,
     "metadata": {},
     "output_type": "execute_result"
    }
   ],
   "source": [
    "    int(10.5)"
   ]
  },
  {
   "cell_type": "code",
   "execution_count": 9,
   "id": "b262693a",
   "metadata": {},
   "outputs": [
    {
     "data": {
      "text/plain": [
       "5.5"
      ]
     },
     "execution_count": 9,
     "metadata": {},
     "output_type": "execute_result"
    }
   ],
   "source": [
    "float('5.5') \n"
   ]
  },
  {
   "cell_type": "code",
   "execution_count": 10,
   "id": "ecb78cae",
   "metadata": {},
   "outputs": [
    {
     "ename": "ValueError",
     "evalue": "invalid literal for int() with base 10: '5.5'",
     "output_type": "error",
     "traceback": [
      "\u001b[1;31m---------------------------------------------------------------------------\u001b[0m",
      "\u001b[1;31mValueError\u001b[0m                                Traceback (most recent call last)",
      "\u001b[1;32m~\\AppData\\Local\\Temp/ipykernel_5756/2801123255.py\u001b[0m in \u001b[0;36m<module>\u001b[1;34m\u001b[0m\n\u001b[1;32m----> 1\u001b[1;33m \u001b[0mint\u001b[0m\u001b[1;33m(\u001b[0m\u001b[1;34m'5.5'\u001b[0m\u001b[1;33m)\u001b[0m\u001b[1;33m\u001b[0m\u001b[1;33m\u001b[0m\u001b[0m\n\u001b[0m",
      "\u001b[1;31mValueError\u001b[0m: invalid literal for int() with base 10: '5.5'"
     ]
    }
   ],
   "source": [
    "int('5.5') # returns an integer from a given object or converts a number in a given base to decimal."
   ]
  },
  {
   "cell_type": "code",
   "execution_count": 11,
   "id": "e3755056",
   "metadata": {},
   "outputs": [
    {
     "data": {
      "text/plain": [
       "'20'"
      ]
     },
     "execution_count": 11,
     "metadata": {},
     "output_type": "execute_result"
    }
   ],
   "source": [
    "str(20)  ## it's like a varchar - accepts numerics, floating and char values"
   ]
  },
  {
   "cell_type": "code",
   "execution_count": 12,
   "id": "73bcd531",
   "metadata": {},
   "outputs": [
    {
     "data": {
      "text/plain": [
       "'20.2'"
      ]
     },
     "execution_count": 12,
     "metadata": {},
     "output_type": "execute_result"
    }
   ],
   "source": [
    "str(20.2)"
   ]
  },
  {
   "cell_type": "code",
   "execution_count": 13,
   "id": "637817ad",
   "metadata": {},
   "outputs": [
    {
     "data": {
      "text/plain": [
       "{1, 2, 3, 5}"
      ]
     },
     "metadata": {},
     "output_type": "display_data"
    },
    {
     "data": {
      "text/plain": [
       "(1, 5, 2, 3, 3)"
      ]
     },
     "metadata": {},
     "output_type": "display_data"
    }
   ],
   "source": [
    "list1=[1,5,2,3,3]\n",
    "display(set(list1))\n",
    "display(tuple(list1))"
   ]
  },
  {
   "cell_type": "code",
   "execution_count": 14,
   "id": "21c4127d",
   "metadata": {},
   "outputs": [
    {
     "data": {
      "text/plain": [
       "(8, 3, 83)"
      ]
     },
     "execution_count": 14,
     "metadata": {},
     "output_type": "execute_result"
    }
   ],
   "source": [
    "set1={3,8,8,83}\n",
    "tuple(set1)"
   ]
  },
  {
   "cell_type": "code",
   "execution_count": 15,
   "id": "5df8a7b2",
   "metadata": {},
   "outputs": [
    {
     "data": {
      "text/plain": [
       "['L', 'I', 'S', 'T', '0', '9', '4']"
      ]
     },
     "execution_count": 15,
     "metadata": {},
     "output_type": "execute_result"
    }
   ],
   "source": [
    "list('LIST094')  ## CONVERTING INTO LIST"
   ]
  },
  {
   "cell_type": "code",
   "execution_count": 16,
   "id": "f6b6a7af",
   "metadata": {},
   "outputs": [
    {
     "data": {
      "text/plain": [
       "['abc', 'xyz']"
      ]
     },
     "execution_count": 16,
     "metadata": {},
     "output_type": "execute_result"
    }
   ],
   "source": [
    "list(['abc','xyz'])"
   ]
  },
  {
   "cell_type": "code",
   "execution_count": 17,
   "id": "fe81ea7f",
   "metadata": {},
   "outputs": [
    {
     "name": "stdout",
     "output_type": "stream",
     "text": [
      "{'name': 'john', 10: 50}\n"
     ]
    }
   ],
   "source": [
    "print(dict([[\"name\",\"john\"],[10,50]]))   ## CONVERTING INTO DICTIONARY WITH 2 DIMENTIONAL ARRAY"
   ]
  },
  {
   "cell_type": "markdown",
   "id": "345bd2f0",
   "metadata": {},
   "source": [
    "# Type Conversion\n",
    "* Implicit Conversion\n",
    "* Explicit Conversion"
   ]
  },
  {
   "cell_type": "code",
   "execution_count": 18,
   "id": "82d9db74",
   "metadata": {},
   "outputs": [
    {
     "name": "stdout",
     "output_type": "stream",
     "text": [
      "Data type of int_var is:  <class 'int'>\n",
      "Data type of float_var is:  <class 'float'>\n",
      "The new value after conversion:  25.5\n",
      "Datatype of conversion1 is:  <class 'float'>\n"
     ]
    }
   ],
   "source": [
    "int_var =10\n",
    "float_var =15.5\n",
    "conversion1 = int_var + float_var\n",
    "print('Data type of int_var is: ', type(int_var))\n",
    "print('Data type of float_var is: ', type(float_var))\n",
    "print('The new value after conversion: ', conversion1)\n",
    "print('Datatype of conversion1 is: ', type(conversion1))"
   ]
  },
  {
   "cell_type": "code",
   "execution_count": 20,
   "id": "3e552479",
   "metadata": {},
   "outputs": [
    {
     "name": "stdout",
     "output_type": "stream",
     "text": [
      "Data type of int_var is:  <class 'int'>\n",
      "Data type of float_var is:  <class 'float'>\n",
      "The new value after conversion:  35.5\n",
      "Datatype of conversion1 is:  <class 'float'>\n"
     ]
    }
   ],
   "source": [
    "int_var =10\n",
    "string_var = \"25.5\"\n",
    "conversion1 = int_var + float(string_var)     ## converting from string to float\n",
    "print('Data type of int_var is: ', type(int_var))\n",
    "print('Data type of float_var is: ', type(float_var))\n",
    "print('The new value after conversion: ', conversion1)\n",
    "print('Datatype of conversion1 is: ', type(conversion1))"
   ]
  },
  {
   "cell_type": "code",
   "execution_count": 21,
   "id": "878cc247",
   "metadata": {},
   "outputs": [
    {
     "name": "stdout",
     "output_type": "stream",
     "text": [
      "Data type of int_var is:  <class 'int'>\n",
      "Data type of float_var is:  <class 'float'>\n",
      "The new value after conversion:  25.5\n",
      "Datatype of conversion1 is:  <class 'float'>\n"
     ]
    }
   ],
   "source": [
    "int_var =10\n",
    "string_var = float(\"15.5\")           ## converting from string to float\n",
    "conversion1 = int_var + string_var     \n",
    "print('Data type of int_var is: ', type(int_var))\n",
    "print('Data type of float_var is: ', type(float_var))\n",
    "print('The new value after conversion: ', conversion1)\n",
    "print('Datatype of conversion1 is: ', type(conversion1))"
   ]
  },
  {
   "cell_type": "code",
   "execution_count": 22,
   "id": "10be2693",
   "metadata": {},
   "outputs": [
    {
     "name": "stdout",
     "output_type": "stream",
     "text": [
      "Mahammad Rafi\n"
     ]
    }
   ],
   "source": [
    "str='Mahammad'+' '+'Rafi'\n",
    "print(str)"
   ]
  },
  {
   "cell_type": "markdown",
   "id": "ab713ea0",
   "metadata": {},
   "source": [
    "# Input"
   ]
  },
  {
   "cell_type": "code",
   "execution_count": 26,
   "id": "d972094e",
   "metadata": {},
   "outputs": [
    {
     "name": "stdout",
     "output_type": "stream",
     "text": [
      "Enter the value:4\n",
      "59\n"
     ]
    }
   ],
   "source": [
    "num = input('Enter the value:')\n",
    "\n",
    "add = int(num) + 55   ## must need to convert the entered value as per your requirement and calculation\n",
    "print(add)"
   ]
  },
  {
   "cell_type": "code",
   "execution_count": 30,
   "id": "f7fe0c2c",
   "metadata": {},
   "outputs": [
    {
     "name": "stdout",
     "output_type": "stream",
     "text": [
      "Enter the first number:4\n",
      "Enter the second number:2\n",
      "59\n"
     ]
    }
   ],
   "source": [
    "num1 = input('Enter the first number:')\n",
    "num2 = input('Enter the second number:')\n",
    "\n",
    "add = int(num) + 55   ## must need to convert the entered value as per your requirement and calculation\n",
    "print(add)"
   ]
  },
  {
   "cell_type": "code",
   "execution_count": 31,
   "id": "20837799",
   "metadata": {},
   "outputs": [
    {
     "name": "stdout",
     "output_type": "stream",
     "text": [
      "80\n"
     ]
    }
   ],
   "source": [
    "a = eval('10*8')    ## Eval will internally convert from string into integer and will calculate the multiplication\n",
    "print(a)"
   ]
  },
  {
   "cell_type": "markdown",
   "id": "c7cbfd2d",
   "metadata": {},
   "source": [
    "# Operators addition, multiplication, sub, div,"
   ]
  },
  {
   "cell_type": "code",
   "execution_count": 34,
   "id": "2874557d",
   "metadata": {},
   "outputs": [
    {
     "name": "stdout",
     "output_type": "stream",
     "text": [
      "9\n",
      "-1\n",
      "20\n",
      "0.8\n",
      "0\n",
      "<class 'int'>\n",
      "1024\n",
      "4\n"
     ]
    }
   ],
   "source": [
    "x = 4\n",
    "y = 5\n",
    "\n",
    "print(x + y)\n",
    "print(x - y)\n",
    "print(x * y)\n",
    "print(x / y)\n",
    "print(round(x // y))     ## remove the floating values and will rounded the value\n",
    "print(type(x // y))\n",
    "print(x ** y)\n",
    "print(x%y)"
   ]
  },
  {
   "cell_type": "markdown",
   "id": "a4224e97",
   "metadata": {},
   "source": [
    "# Logical Operators"
   ]
  },
  {
   "cell_type": "code",
   "execution_count": 36,
   "id": "9c3c67fb",
   "metadata": {},
   "outputs": [
    {
     "name": "stdout",
     "output_type": "stream",
     "text": [
      "False\n",
      "True\n",
      "False\n"
     ]
    }
   ],
   "source": [
    "x = True             # 0+0 = 0\n",
    "y = False            # 0+1 = 1\n",
    "print(x and y)       # 1+ 0 = 1\n",
    "print(x or y)        # 1+1 => sum = 0, carry = 1\n",
    "print(not x)"
   ]
  },
  {
   "cell_type": "code",
   "execution_count": 37,
   "id": "de987e22",
   "metadata": {},
   "outputs": [
    {
     "name": "stdout",
     "output_type": "stream",
     "text": [
      "False\n",
      "True\n",
      "False\n"
     ]
    }
   ],
   "source": [
    "x = True             # 0*0 = 0\n",
    "y = False            # 0*1 = 1\n",
    "print(x and y)       # 1* 0 = 1\n",
    "print(x or y)        # 1*1 = 1\n",
    "print(not x)"
   ]
  },
  {
   "cell_type": "code",
   "execution_count": 39,
   "id": "2d7f27d4",
   "metadata": {},
   "outputs": [
    {
     "name": "stdout",
     "output_type": "stream",
     "text": [
      "False\n",
      "True\n",
      "False\n",
      "True\n"
     ]
    }
   ],
   "source": [
    "# True = 1 and False = 0\n",
    "print(x and y) # 1*0 = 0\n",
    "print(x or y)  # 1+0  = 1\n",
    "print(not x)   # ~1 = 0\n",
    "print(not y)   # ~0 = 1"
   ]
  },
  {
   "cell_type": "markdown",
   "id": "7888d970",
   "metadata": {},
   "source": [
    "# Assignment operators"
   ]
  },
  {
   "cell_type": "code",
   "execution_count": 43,
   "id": "056455ad",
   "metadata": {},
   "outputs": [],
   "source": [
    "x1 = 15\n",
    "y1 = 15\n",
    "\n",
    "x2 = 'Hello'\n",
    "y2 = 'Hello'\n",
    "\n",
    "x3 = [1,2,3]  ## it stores in one address location\n",
    "y3 = [1,2,3]  ## it stores in different address location\n",
    "\n",
    "x4 = (1,2,3)\n",
    "y4 = (1,2,3)"
   ]
  },
  {
   "cell_type": "code",
   "execution_count": 46,
   "id": "64733d70",
   "metadata": {},
   "outputs": [
    {
     "name": "stdout",
     "output_type": "stream",
     "text": [
      "True\n"
     ]
    }
   ],
   "source": [
    "print(x1 is y1)\n",
    "# print(x1 is not y1)"
   ]
  },
  {
   "cell_type": "code",
   "execution_count": 47,
   "id": "70dcb0ff",
   "metadata": {},
   "outputs": [
    {
     "name": "stdout",
     "output_type": "stream",
     "text": [
      "True\n"
     ]
    }
   ],
   "source": [
    "print(x2 is y2)"
   ]
  },
  {
   "cell_type": "code",
   "execution_count": 48,
   "id": "aee62e28",
   "metadata": {},
   "outputs": [
    {
     "name": "stdout",
     "output_type": "stream",
     "text": [
      "False\n",
      "True\n"
     ]
    }
   ],
   "source": [
    "print(x3 is y3)   ## we can't compare the list with other list value. \n",
    "                  ## position comparision will work. \n",
    "                  ## because array size can increase in future. \n",
    "                  ## So python didn't code internally to allow comparision list to list same way tuple to tuple\n",
    "print(x3[1] is y3[1])   ## we can't compare the list with other list value. position comparision will work"
   ]
  },
  {
   "cell_type": "code",
   "execution_count": 49,
   "id": "207b4131",
   "metadata": {},
   "outputs": [
    {
     "name": "stdout",
     "output_type": "stream",
     "text": [
      "False\n"
     ]
    }
   ],
   "source": [
    "print(x4 is y4)"
   ]
  },
  {
   "cell_type": "code",
   "execution_count": 50,
   "id": "ff9538f6",
   "metadata": {},
   "outputs": [
    {
     "data": {
      "text/plain": [
       "(2094559226608, 2094559226608)"
      ]
     },
     "execution_count": 50,
     "metadata": {},
     "output_type": "execute_result"
    }
   ],
   "source": [
    "id(x1), id(y1)  ## it is used to get the address where the value is stored(returns the reference number"
   ]
  },
  {
   "cell_type": "code",
   "execution_count": 51,
   "id": "b18aa6fe",
   "metadata": {},
   "outputs": [
    {
     "data": {
      "text/plain": [
       "(2094641126064, 2094641125888)"
      ]
     },
     "execution_count": 51,
     "metadata": {},
     "output_type": "execute_result"
    }
   ],
   "source": [
    "id(x2), id(y3)"
   ]
  },
  {
   "cell_type": "code",
   "execution_count": 52,
   "id": "0979c02f",
   "metadata": {},
   "outputs": [
    {
     "data": {
      "text/plain": [
       "(2094640268928, 2094641125888)"
      ]
     },
     "execution_count": 52,
     "metadata": {},
     "output_type": "execute_result"
    }
   ],
   "source": [
    "id(x3), id(y3)"
   ]
  },
  {
   "cell_type": "code",
   "execution_count": 53,
   "id": "380f7105",
   "metadata": {},
   "outputs": [
    {
     "data": {
      "text/plain": [
       "(2094559226160, 2094559226160)"
      ]
     },
     "execution_count": 53,
     "metadata": {},
     "output_type": "execute_result"
    }
   ],
   "source": [
    "id(x3[0]), id(y3[0])"
   ]
  },
  {
   "cell_type": "code",
   "execution_count": 54,
   "id": "5e236caa",
   "metadata": {},
   "outputs": [
    {
     "data": {
      "text/plain": [
       "(2094559226192, 2094559226192)"
      ]
     },
     "execution_count": 54,
     "metadata": {},
     "output_type": "execute_result"
    }
   ],
   "source": [
    "id(x4[1]), id(y4[1])"
   ]
  },
  {
   "cell_type": "markdown",
   "id": "11428bb5",
   "metadata": {},
   "source": [
    "# Membership operators"
   ]
  },
  {
   "cell_type": "code",
   "execution_count": 56,
   "id": "9e6720ef",
   "metadata": {},
   "outputs": [],
   "source": [
    "x = 'Hello word'\n",
    "y = {10: 'a', 12: 'b'}"
   ]
  },
  {
   "cell_type": "code",
   "execution_count": 57,
   "id": "222d3336",
   "metadata": {},
   "outputs": [
    {
     "name": "stdout",
     "output_type": "stream",
     "text": [
      "False\n",
      "True\n",
      "True\n",
      "False\n"
     ]
    }
   ],
   "source": [
    "print('h' in x)  ## Case sensitive that's why it's false\n",
    "print('H' in x)\n",
    "print(10 in y)\n",
    "print('a' in y)"
   ]
  },
  {
   "cell_type": "code",
   "execution_count": 58,
   "id": "173821f4",
   "metadata": {},
   "outputs": [
    {
     "name": "stdout",
     "output_type": "stream",
     "text": [
      "False\n"
     ]
    }
   ],
   "source": [
    "print('hello' in x)"
   ]
  },
  {
   "cell_type": "code",
   "execution_count": 59,
   "id": "969a7a4a",
   "metadata": {},
   "outputs": [
    {
     "name": "stdout",
     "output_type": "stream",
     "text": [
      "True\n"
     ]
    }
   ],
   "source": [
    "print(10 in y)  ## checking in the dictionary and checking with key values"
   ]
  },
  {
   "cell_type": "code",
   "execution_count": 60,
   "id": "670f8e8e",
   "metadata": {},
   "outputs": [
    {
     "name": "stdout",
     "output_type": "stream",
     "text": [
      "False\n"
     ]
    }
   ],
   "source": [
    "print('a' in y)  ## we can only refer to the keys in dictionary and not to the values"
   ]
  },
  {
   "cell_type": "code",
   "execution_count": 61,
   "id": "5d93b653",
   "metadata": {},
   "outputs": [],
   "source": [
    "x = 'Hello word'\n",
    "y = {10: 'a', 12: 'b', 10: 'c'}  "
   ]
  },
  {
   "cell_type": "code",
   "execution_count": 62,
   "id": "5886198d",
   "metadata": {},
   "outputs": [
    {
     "name": "stdout",
     "output_type": "stream",
     "text": [
      "c\n"
     ]
    }
   ],
   "source": [
    "print(y[10])   ## it will take the last entered value"
   ]
  },
  {
   "cell_type": "markdown",
   "id": "94296717",
   "metadata": {},
   "source": [
    "# If Statements"
   ]
  },
  {
   "cell_type": "code",
   "execution_count": 64,
   "id": "f2a6c42f",
   "metadata": {},
   "outputs": [
    {
     "name": "stdout",
     "output_type": "stream",
     "text": [
      "enter the value:-4\n"
     ]
    }
   ],
   "source": [
    "num = int(input('enter the value:'))"
   ]
  },
  {
   "cell_type": "code",
   "execution_count": 67,
   "id": "eaf403c1",
   "metadata": {},
   "outputs": [
    {
     "name": "stdout",
     "output_type": "stream",
     "text": [
      "enter the value:-2\n",
      "negative value entered\n"
     ]
    }
   ],
   "source": [
    "num = int(input('enter the value:'))\n",
    "if num > 0:\n",
    "    print('positive value entered')\n",
    "else:\n",
    "    print('negative value entered')"
   ]
  },
  {
   "cell_type": "markdown",
   "id": "8e411e91",
   "metadata": {},
   "source": [
    "# if else"
   ]
  },
  {
   "cell_type": "code",
   "execution_count": 69,
   "id": "15079195",
   "metadata": {},
   "outputs": [
    {
     "name": "stdout",
     "output_type": "stream",
     "text": [
      "enter the value:0\n",
      "zero value entered\n"
     ]
    }
   ],
   "source": [
    "num = int(input('enter the value:'))\n",
    "if num > 0:\n",
    "    print('positive value entered')\n",
    "elif num == 0:\n",
    "    print('zero value entered')\n",
    "else:\n",
    "    print('negative value entered')"
   ]
  },
  {
   "cell_type": "code",
   "execution_count": 70,
   "id": "57475f7a",
   "metadata": {},
   "outputs": [
    {
     "name": "stdout",
     "output_type": "stream",
     "text": [
      "enter the value:-1\n",
      "negative value entered\n"
     ]
    }
   ],
   "source": [
    "num = int(input('enter the value:'))\n",
    "if num > 0:\n",
    "    print('positive value entered')\n",
    "elif num == 0:\n",
    "    print('zero value entered')\n",
    "else:\n",
    "    print('negative value entered')\n",
    "    "
   ]
  },
  {
   "cell_type": "code",
   "execution_count": 71,
   "id": "cf6b92f4",
   "metadata": {},
   "outputs": [
    {
     "name": "stdout",
     "output_type": "stream",
     "text": [
      "enter the value:1\n",
      "positive value entered\n"
     ]
    }
   ],
   "source": [
    "num = int(input('enter the value:'))\n",
    "if num > 0:\n",
    "    print('positive value entered')\n",
    "elif num == 0:\n",
    "    print('zero value entered')\n",
    "else:\n",
    "    print('negative value entered')"
   ]
  },
  {
   "cell_type": "markdown",
   "id": "2e3d87bb",
   "metadata": {},
   "source": [
    "# Nested if"
   ]
  },
  {
   "cell_type": "code",
   "execution_count": 73,
   "id": "f180a64f",
   "metadata": {},
   "outputs": [
    {
     "name": "stdout",
     "output_type": "stream",
     "text": [
      "enter the value:0\n",
      "zero value entered\n"
     ]
    }
   ],
   "source": [
    "num = int(input('enter the value:'))\n",
    "if num >= 0:\n",
    "    if num == 0:\n",
    "        print('zero value entered')\n",
    "    else:\n",
    "        print('negative value entered')\n",
    "else:\n",
    "    print('negative value entered')"
   ]
  },
  {
   "cell_type": "code",
   "execution_count": 74,
   "id": "eb172513",
   "metadata": {},
   "outputs": [
    {
     "name": "stdout",
     "output_type": "stream",
     "text": [
      "enter the value:1\n",
      "negative value entered\n"
     ]
    }
   ],
   "source": [
    "num = int(input('enter the value:'))\n",
    "if num >= 0:\n",
    "    if num == 0:\n",
    "        print('zero value entered')\n",
    "    else:\n",
    "        print('negative value entered')\n",
    "else:\n",
    "    print('negative value entered')"
   ]
  },
  {
   "cell_type": "code",
   "execution_count": 75,
   "id": "1cd822d3",
   "metadata": {},
   "outputs": [
    {
     "name": "stdout",
     "output_type": "stream",
     "text": [
      "enter the value:-1\n",
      "negative value entered\n"
     ]
    }
   ],
   "source": [
    "num = int(input('enter the value:'))\n",
    "if num >= 0:\n",
    "    if num == 0:\n",
    "        print('zero value entered')\n",
    "    else:\n",
    "        print('negative value entered')\n",
    "else:\n",
    "    print('negative value entered')"
   ]
  },
  {
   "cell_type": "code",
   "execution_count": 76,
   "id": "e48911ec",
   "metadata": {},
   "outputs": [
    {
     "name": "stdout",
     "output_type": "stream",
     "text": [
      "enter the value:0\n",
      "zero value entered\n"
     ]
    }
   ],
   "source": [
    "num = int(input('enter the value:'))\n",
    "if num > 0:\n",
    "    print('positive value entered')\n",
    "else:\n",
    "    if num == 0:\n",
    "        print('zero value entered')\n",
    "    else:\n",
    "        print('negative value entered')"
   ]
  },
  {
   "cell_type": "code",
   "execution_count": 77,
   "id": "91f7b1e2",
   "metadata": {},
   "outputs": [
    {
     "name": "stdout",
     "output_type": "stream",
     "text": [
      "enter the value:-1\n",
      "negative value entered\n"
     ]
    }
   ],
   "source": [
    "num = int(input('enter the value:'))\n",
    "if num > 0:\n",
    "    print('positive value entered')\n",
    "else:\n",
    "    if num == 0:\n",
    "        print('zero value entered')\n",
    "    else:\n",
    "        print('negative value entered')"
   ]
  },
  {
   "cell_type": "code",
   "execution_count": 78,
   "id": "a20906bc",
   "metadata": {},
   "outputs": [
    {
     "name": "stdout",
     "output_type": "stream",
     "text": [
      "enter the value:1\n",
      "positive value entered\n"
     ]
    }
   ],
   "source": [
    "num = int(input('enter the value:'))\n",
    "if num > 0:\n",
    "    print('positive value entered')\n",
    "else:\n",
    "    if num == 0:\n",
    "        print('zero value entered')\n",
    "    else:\n",
    "        print('negative value entered')"
   ]
  },
  {
   "cell_type": "code",
   "execution_count": 79,
   "id": "c808a85b",
   "metadata": {},
   "outputs": [
    {
     "name": "stdout",
     "output_type": "stream",
     "text": [
      "33\n",
      "[35, 21, 33]\n"
     ]
    }
   ],
   "source": [
    "var_list2 = list([35, 21, 33])\n",
    "print(var_list2[2])\n",
    "print(var_list2)"
   ]
  },
  {
   "cell_type": "code",
   "execution_count": 80,
   "id": "c39f04a3",
   "metadata": {},
   "outputs": [
    {
     "name": "stdout",
     "output_type": "stream",
     "text": [
      "11\n",
      "33\n",
      "66\n",
      "110\n",
      "165\n"
     ]
    }
   ],
   "source": [
    "list1 = [11,22,33,44,55]\n",
    "add = 0\n",
    "\n",
    "for i in list1:               ## for loop\n",
    "    add = add + i\n",
    "    print(add)"
   ]
  },
  {
   "cell_type": "code",
   "execution_count": 81,
   "id": "239614a6",
   "metadata": {},
   "outputs": [
    {
     "name": "stdout",
     "output_type": "stream",
     "text": [
      "11 176\n",
      "22 198\n",
      "33 231\n",
      "44 275\n",
      "55 330\n"
     ]
    }
   ],
   "source": [
    "##list1 = [11,22,33,44,55]\n",
    "##add = 0\n",
    "\n",
    "for i in list1:               ## for loop\n",
    "    add = add + i\n",
    "    print(i,add)"
   ]
  },
  {
   "cell_type": "code",
   "execution_count": 82,
   "id": "139f548e",
   "metadata": {},
   "outputs": [
    {
     "name": "stdout",
     "output_type": "stream",
     "text": [
      "11 11\n",
      "22 33\n"
     ]
    }
   ],
   "source": [
    "##list1 = [11,22,33,44,55]\n",
    "add = 0\n",
    "\n",
    "for i in list1:               ## for loop\n",
    "    if i == 33:\n",
    "        break\n",
    "    add = add + i\n",
    "    print(i,add)"
   ]
  },
  {
   "cell_type": "code",
   "execution_count": 86,
   "id": "496b41ef",
   "metadata": {},
   "outputs": [
    {
     "name": "stdout",
     "output_type": "stream",
     "text": [
      "  8888 \n",
      "  Mahammad Rafi\n"
     ]
    }
   ],
   "source": [
    "print('  8888','\\n',' Mahammad Rafi')"
   ]
  },
  {
   "cell_type": "code",
   "execution_count": null,
   "id": "f431bce7",
   "metadata": {},
   "outputs": [],
   "source": []
  }
 ],
 "metadata": {
  "kernelspec": {
   "display_name": "Python 3 (ipykernel)",
   "language": "python",
   "name": "python3"
  },
  "language_info": {
   "codemirror_mode": {
    "name": "ipython",
    "version": 3
   },
   "file_extension": ".py",
   "mimetype": "text/x-python",
   "name": "python",
   "nbconvert_exporter": "python",
   "pygments_lexer": "ipython3",
   "version": "3.9.7"
  }
 },
 "nbformat": 4,
 "nbformat_minor": 5
}
