{
 "cells": [
  {
   "cell_type": "code",
   "execution_count": 11,
   "id": "a1691d65",
   "metadata": {},
   "outputs": [],
   "source": [
    "import numpy as np\n",
    "from sklearn.model_selection import train_test_split\n",
    "from sklearn.neighbors import KNeighborsClassifier\n",
    "from sklearn.metrics import accuracy_score\n",
    "from sklearn.impute import SimpleImputer # from sklearn.preprocessing import Imputer (got error, so replaced with this and below line)\n",
    "imputer = SimpleImputer(missing_values=np.nan, strategy='mean') #(https://stackoverflow.com/questions/59439096/importerror-cannnot-import-name-imputer-from-sklearn-preprocessing)"
   ]
  },
  {
   "cell_type": "code",
   "execution_count": 12,
   "id": "d759802c",
   "metadata": {},
   "outputs": [
    {
     "data": {
      "text/plain": [
       "'C:\\\\Users\\\\maham\\\\Documents'"
      ]
     },
     "execution_count": 12,
     "metadata": {},
     "output_type": "execute_result"
    }
   ],
   "source": [
    "import os\n",
    "pwd = os.getcwd()\n",
    "pwd"
   ]
  },
  {
   "cell_type": "code",
   "execution_count": 13,
   "id": "53c33392",
   "metadata": {},
   "outputs": [],
   "source": [
    "os.chdir(r'C:\\Users\\maham\\Documents')"
   ]
  },
  {
   "cell_type": "code",
   "execution_count": 14,
   "id": "9fd16298",
   "metadata": {},
   "outputs": [],
   "source": [
    "cancer_data = np.genfromtxt(fname ='Cancer.csv', delimiter= ',', dtype= float)"
   ]
  },
  {
   "cell_type": "code",
   "execution_count": 15,
   "id": "a93cf967",
   "metadata": {},
   "outputs": [
    {
     "data": {
      "text/plain": [
       "numpy.ndarray"
      ]
     },
     "execution_count": 15,
     "metadata": {},
     "output_type": "execute_result"
    }
   ],
   "source": [
    "type(cancer_data)"
   ]
  },
  {
   "cell_type": "code",
   "execution_count": 16,
   "id": "7d785a5a",
   "metadata": {},
   "outputs": [
    {
     "data": {
      "text/plain": [
       "array([[1.000025e+06, 5.000000e+00, 1.000000e+00, ..., 1.000000e+00,\n",
       "        1.000000e+00, 2.000000e+00],\n",
       "       [1.002945e+06, 5.000000e+00, 4.000000e+00, ..., 2.000000e+00,\n",
       "        1.000000e+00, 2.000000e+00],\n",
       "       [1.015425e+06, 3.000000e+00, 1.000000e+00, ..., 1.000000e+00,\n",
       "        1.000000e+00, 2.000000e+00],\n",
       "       ...,\n",
       "       [8.888200e+05, 5.000000e+00, 1.000000e+01, ..., 1.000000e+01,\n",
       "        2.000000e+00, 4.000000e+00],\n",
       "       [8.974710e+05, 4.000000e+00, 8.000000e+00, ..., 6.000000e+00,\n",
       "        1.000000e+00, 4.000000e+00],\n",
       "       [8.974710e+05, 4.000000e+00, 8.000000e+00, ..., 4.000000e+00,\n",
       "        1.000000e+00, 4.000000e+00]])"
      ]
     },
     "execution_count": 16,
     "metadata": {},
     "output_type": "execute_result"
    }
   ],
   "source": [
    "cancer_data"
   ]
  },
  {
   "cell_type": "code",
   "execution_count": 17,
   "id": "530a51f8",
   "metadata": {},
   "outputs": [
    {
     "data": {
      "text/plain": [
       "array([1.000025e+06, 5.000000e+00, 1.000000e+00, 1.000000e+00,\n",
       "       1.000000e+00, 2.000000e+00, 1.000000e+00, 3.000000e+00,\n",
       "       1.000000e+00, 1.000000e+00, 2.000000e+00])"
      ]
     },
     "execution_count": 17,
     "metadata": {},
     "output_type": "execute_result"
    }
   ],
   "source": [
    "cancer_data[0]"
   ]
  },
  {
   "cell_type": "code",
   "execution_count": 18,
   "id": "cbed81dd",
   "metadata": {},
   "outputs": [
    {
     "name": "stdout",
     "output_type": "stream",
     "text": [
      "Dataset Lenght::  699\n",
      "Dataset Shape::  (699, 11)\n"
     ]
    }
   ],
   "source": [
    "print (\"Dataset Lenght:: \", len(cancer_data))\n",
    "print (\"Dataset Shape:: \", cancer_data.shape)"
   ]
  },
  {
   "cell_type": "code",
   "execution_count": 19,
   "id": "cc9428ff",
   "metadata": {},
   "outputs": [],
   "source": [
    "cancer_data = np.delete(arr = cancer_data, obj= 0, axis = 1)"
   ]
  },
  {
   "cell_type": "code",
   "execution_count": 20,
   "id": "4bbb5877",
   "metadata": {},
   "outputs": [
    {
     "data": {
      "text/plain": [
       "array([[ 5.,  1.,  1., ...,  1.,  1.,  2.],\n",
       "       [ 5.,  4.,  4., ...,  2.,  1.,  2.],\n",
       "       [ 3.,  1.,  1., ...,  1.,  1.,  2.],\n",
       "       ...,\n",
       "       [ 5., 10., 10., ..., 10.,  2.,  4.],\n",
       "       [ 4.,  8.,  6., ...,  6.,  1.,  4.],\n",
       "       [ 4.,  8.,  8., ...,  4.,  1.,  4.]])"
      ]
     },
     "execution_count": 20,
     "metadata": {},
     "output_type": "execute_result"
    }
   ],
   "source": [
    "cancer_data"
   ]
  },
  {
   "cell_type": "code",
   "execution_count": 21,
   "id": "487e9e15",
   "metadata": {},
   "outputs": [],
   "source": [
    "X = cancer_data[:,range(0,9)]\n",
    "Y = cancer_data[:,9]"
   ]
  },
  {
   "cell_type": "code",
   "execution_count": 22,
   "id": "65e448f6",
   "metadata": {},
   "outputs": [
    {
     "data": {
      "text/plain": [
       "array([[ 5.,  1.,  1., ...,  1.,  1.,  2.],\n",
       "       [ 5.,  4.,  4., ...,  2.,  1.,  2.],\n",
       "       [ 3.,  1.,  1., ...,  1.,  1.,  2.],\n",
       "       ...,\n",
       "       [ 5., 10., 10., ..., 10.,  2.,  4.],\n",
       "       [ 4.,  8.,  6., ...,  6.,  1.,  4.],\n",
       "       [ 4.,  8.,  8., ...,  4.,  1.,  4.]])"
      ]
     },
     "execution_count": 22,
     "metadata": {},
     "output_type": "execute_result"
    }
   ],
   "source": [
    "cancer_data"
   ]
  },
  {
   "cell_type": "code",
   "execution_count": 23,
   "id": "8eef2e47",
   "metadata": {},
   "outputs": [
    {
     "data": {
      "text/plain": [
       "2"
      ]
     },
     "execution_count": 23,
     "metadata": {},
     "output_type": "execute_result"
    }
   ],
   "source": [
    "cancer_data.ndim"
   ]
  },
  {
   "cell_type": "code",
   "execution_count": 31,
   "id": "fdcfe3ed",
   "metadata": {},
   "outputs": [
    {
     "name": "stderr",
     "output_type": "stream",
     "text": [
      "C:\\Users\\maham\\anaconda3\\lib\\site-packages\\sklearn\\impute\\_base.py:337: FutureWarning: The 'verbose' parameter was deprecated in version 1.1 and will be removed in 1.3. A warning will always be raised upon the removal of empty columns in the future version.\n",
      "  warnings.warn(\n"
     ]
    }
   ],
   "source": [
    "imp = SimpleImputer(missing_values= np.NAN, strategy= 'mean', fill_value=None, verbose=0, copy=True)\n",
    "X = imp.fit_transform(X) # Imputer(missing_values=\"NaN\", strategy='median', axis=0) = replaced with another line as its getting error\n",
    "# Imputer is replaced with simple imputer(https://stackoverflow.com/questions/55560740/typeerror-init-got-an-unexpected-keyword-argument-axis)"
   ]
  },
  {
   "cell_type": "code",
   "execution_count": 26,
   "id": "fe39971f",
   "metadata": {},
   "outputs": [],
   "source": [
    "#from sklearn.impute import SimpleImputer\n",
    "#imputer = SimpleImputer(missing_values= np.NAN, strategy= 'mean', fill_value=None, verbose=0, copy=True)"
   ]
  },
  {
   "cell_type": "code",
   "execution_count": 32,
   "id": "c6af6ced",
   "metadata": {},
   "outputs": [],
   "source": [
    "X_train, X_test, y_train, y_test = train_test_split(X, Y, test_size = 0.3, random_state = 100)\n",
    "y_train = y_train.ravel()\n",
    "y_test = y_test.ravel()"
   ]
  },
  {
   "cell_type": "code",
   "execution_count": 33,
   "id": "6020f3f4",
   "metadata": {},
   "outputs": [
    {
     "data": {
      "text/plain": [
       "1"
      ]
     },
     "execution_count": 33,
     "metadata": {},
     "output_type": "execute_result"
    }
   ],
   "source": [
    "y_train.ndim"
   ]
  },
  {
   "cell_type": "code",
   "execution_count": 34,
   "id": "a675368a",
   "metadata": {},
   "outputs": [
    {
     "name": "stdout",
     "output_type": "stream",
     "text": [
      "Accuracy is  94.76190476190476 % for K-Value: 1\n",
      "Accuracy is  93.80952380952381 % for K-Value: 2\n",
      "Accuracy is  95.23809523809523 % for K-Value: 3\n",
      "Accuracy is  95.23809523809523 % for K-Value: 4\n",
      "Accuracy is  95.23809523809523 % for K-Value: 5\n",
      "Accuracy is  94.76190476190476 % for K-Value: 6\n",
      "Accuracy is  94.76190476190476 % for K-Value: 7\n",
      "Accuracy is  94.28571428571428 % for K-Value: 8\n",
      "Accuracy is  94.76190476190476 % for K-Value: 9\n",
      "Accuracy is  94.28571428571428 % for K-Value: 10\n",
      "Accuracy is  94.28571428571428 % for K-Value: 11\n",
      "Accuracy is  94.76190476190476 % for K-Value: 12\n",
      "Accuracy is  94.76190476190476 % for K-Value: 13\n",
      "Accuracy is  93.80952380952381 % for K-Value: 14\n",
      "Accuracy is  93.80952380952381 % for K-Value: 15\n",
      "Accuracy is  93.80952380952381 % for K-Value: 16\n",
      "Accuracy is  93.80952380952381 % for K-Value: 17\n",
      "Accuracy is  93.80952380952381 % for K-Value: 18\n",
      "Accuracy is  93.80952380952381 % for K-Value: 19\n",
      "Accuracy is  93.80952380952381 % for K-Value: 20\n",
      "Accuracy is  93.80952380952381 % for K-Value: 21\n",
      "Accuracy is  93.80952380952381 % for K-Value: 22\n",
      "Accuracy is  93.80952380952381 % for K-Value: 23\n",
      "Accuracy is  93.80952380952381 % for K-Value: 24\n",
      "Accuracy is  93.80952380952381 % for K-Value: 25\n"
     ]
    }
   ],
   "source": [
    "for K in range(25):\n",
    "    K_value = K+1\n",
    "    neigh = KNeighborsClassifier(n_neighbors = K_value)\n",
    "    neigh.fit(X_train, y_train) \n",
    "    y_pred = neigh.predict(X_test)\n",
    "    print (\"Accuracy is \", accuracy_score(y_test,y_pred)*100,\"% for K-Value:\",K_value)"
   ]
  },
  {
   "cell_type": "code",
   "execution_count": null,
   "id": "7ee3aaa7",
   "metadata": {},
   "outputs": [],
   "source": []
  },
  {
   "cell_type": "code",
   "execution_count": null,
   "id": "18c18a74",
   "metadata": {},
   "outputs": [],
   "source": []
  }
 ],
 "metadata": {
  "kernelspec": {
   "display_name": "Python 3 (ipykernel)",
   "language": "python",
   "name": "python3"
  },
  "language_info": {
   "codemirror_mode": {
    "name": "ipython",
    "version": 3
   },
   "file_extension": ".py",
   "mimetype": "text/x-python",
   "name": "python",
   "nbconvert_exporter": "python",
   "pygments_lexer": "ipython3",
   "version": "3.9.7"
  }
 },
 "nbformat": 4,
 "nbformat_minor": 5
}
