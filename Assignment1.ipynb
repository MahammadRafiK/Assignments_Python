{
 "cells": [
  {
   "cell_type": "markdown",
   "id": "5a6e2529",
   "metadata": {},
   "source": [
    "# 1. Import the necessary package to\n",
    "# a. Set the current working directory\n",
    "# b. Change the working directory"
   ]
  },
  {
   "cell_type": "code",
   "execution_count": 32,
   "id": "6d2f11e2",
   "metadata": {},
   "outputs": [],
   "source": [
    "import os"
   ]
  },
  {
   "cell_type": "code",
   "execution_count": 33,
   "id": "8547f77f",
   "metadata": {},
   "outputs": [
    {
     "data": {
      "text/plain": [
       "'C:\\\\Users\\\\maham\\\\Training\\\\Datascience\\\\training5'"
      ]
     },
     "execution_count": 33,
     "metadata": {},
     "output_type": "execute_result"
    }
   ],
   "source": [
    "os.getcwd()"
   ]
  },
  {
   "cell_type": "code",
   "execution_count": 34,
   "id": "88088d00",
   "metadata": {},
   "outputs": [],
   "source": [
    "import os\n",
    "os.chdir ('C:\\\\Users\\\\maham\\\\Training\\\\Datascience\\\\python_practice')"
   ]
  },
  {
   "cell_type": "code",
   "execution_count": 35,
   "id": "8c860d50",
   "metadata": {},
   "outputs": [
    {
     "data": {
      "text/plain": [
       "'C:\\\\Users\\\\maham\\\\Training\\\\Datascience\\\\python_practice'"
      ]
     },
     "execution_count": 35,
     "metadata": {},
     "output_type": "execute_result"
    }
   ],
   "source": [
    "os.getcwd()"
   ]
  },
  {
   "cell_type": "markdown",
   "id": "92bbe2f4",
   "metadata": {},
   "source": [
    "# 2. Create the string, int and float variable and delete them all in the next cell"
   ]
  },
  {
   "cell_type": "code",
   "execution_count": 11,
   "id": "903a925a",
   "metadata": {},
   "outputs": [],
   "source": [
    "num = 32; \n",
    "Str = \"Mahammad\";\n",
    "float1 = 122.9;"
   ]
  },
  {
   "cell_type": "code",
   "execution_count": 16,
   "id": "66dfca92",
   "metadata": {},
   "outputs": [
    {
     "name": "stdout",
     "output_type": "stream",
     "text": [
      "32 /n  Mahammad /n 122.9\n"
     ]
    }
   ],
   "source": [
    "print(num, \"/n \", Str , \"/n\" , float1)"
   ]
  },
  {
   "cell_type": "code",
   "execution_count": 17,
   "id": "2c9309aa",
   "metadata": {},
   "outputs": [
    {
     "name": "stdout",
     "output_type": "stream",
     "text": [
      "32\n",
      "Mahammad\n",
      "122.9\n"
     ]
    }
   ],
   "source": [
    "print(num)\n",
    "print(Str),\n",
    "print(float1)"
   ]
  },
  {
   "cell_type": "markdown",
   "id": "011287fd",
   "metadata": {},
   "source": [
    "# delete them all in the next cell"
   ]
  },
  {
   "cell_type": "code",
   "execution_count": 19,
   "id": "19473620",
   "metadata": {},
   "outputs": [],
   "source": [
    "del num\n",
    "del Str\n",
    "del float1"
   ]
  },
  {
   "cell_type": "code",
   "execution_count": 20,
   "id": "1afb22c0",
   "metadata": {},
   "outputs": [
    {
     "ename": "NameError",
     "evalue": "name 'num' is not defined",
     "output_type": "error",
     "traceback": [
      "\u001b[1;31m---------------------------------------------------------------------------\u001b[0m",
      "\u001b[1;31mNameError\u001b[0m                                 Traceback (most recent call last)",
      "\u001b[1;32m~\\AppData\\Local\\Temp/ipykernel_6116/2600963635.py\u001b[0m in \u001b[0;36m<module>\u001b[1;34m\u001b[0m\n\u001b[1;32m----> 1\u001b[1;33m \u001b[0mprint\u001b[0m\u001b[1;33m(\u001b[0m\u001b[0mnum\u001b[0m\u001b[1;33m)\u001b[0m\u001b[1;33m\u001b[0m\u001b[1;33m\u001b[0m\u001b[0m\n\u001b[0m\u001b[0;32m      2\u001b[0m \u001b[0mprint\u001b[0m\u001b[1;33m(\u001b[0m\u001b[0mStr\u001b[0m\u001b[1;33m)\u001b[0m\u001b[1;33m,\u001b[0m\u001b[1;33m\u001b[0m\u001b[1;33m\u001b[0m\u001b[0m\n\u001b[0;32m      3\u001b[0m \u001b[0mprint\u001b[0m\u001b[1;33m(\u001b[0m\u001b[0mfloat1\u001b[0m\u001b[1;33m)\u001b[0m\u001b[1;33m\u001b[0m\u001b[1;33m\u001b[0m\u001b[0m\n",
      "\u001b[1;31mNameError\u001b[0m: name 'num' is not defined"
     ]
    }
   ],
   "source": [
    "print(num)\n",
    "print(Str),\n",
    "print(float1)"
   ]
  },
  {
   "cell_type": "markdown",
   "id": "eb794a7a",
   "metadata": {},
   "source": [
    "# 3. What’s the result of assigning a value to a ‘keyword’?\n",
    "\n",
    "# a. Please highlight the error"
   ]
  },
  {
   "cell_type": "code",
   "execution_count": null,
   "id": "cb4b8a57",
   "metadata": {},
   "outputs": [],
   "source": [
    "continue = 100"
   ]
  },
  {
   "cell_type": "code",
   "execution_count": 23,
   "id": "329851f0",
   "metadata": {},
   "outputs": [
    {
     "ename": "SyntaxError",
     "evalue": "invalid syntax (Temp/ipykernel_6116/3870673085.py, line 1)",
     "output_type": "error",
     "traceback": [
      "\u001b[1;36m  File \u001b[1;32m\"C:\\Users\\maham\\AppData\\Local\\Temp/ipykernel_6116/3870673085.py\"\u001b[1;36m, line \u001b[1;32m1\u001b[0m\n\u001b[1;33m    print (continue)\u001b[0m\n\u001b[1;37m           ^\u001b[0m\n\u001b[1;31mSyntaxError\u001b[0m\u001b[1;31m:\u001b[0m invalid syntax\n"
     ]
    }
   ],
   "source": [
    "print (continue)"
   ]
  },
  {
   "cell_type": "markdown",
   "id": "f1e4b1e7",
   "metadata": {},
   "source": [
    "# 4. How to write a multi-line statement and assign it to a variable (Note: Without using a backslash “\\” at the end of each line"
   ]
  },
  {
   "cell_type": "code",
   "execution_count": 29,
   "id": "996f96bf",
   "metadata": {},
   "outputs": [],
   "source": [
    "digit =( 1+2+ 3 +\n",
    "4+5 +\n",
    "6)"
   ]
  },
  {
   "cell_type": "code",
   "execution_count": 30,
   "id": "2288c033",
   "metadata": {},
   "outputs": [
    {
     "name": "stdout",
     "output_type": "stream",
     "text": [
      "21\n"
     ]
    }
   ],
   "source": [
    "print(digit)"
   ]
  },
  {
   "cell_type": "markdown",
   "id": "9ec049c7",
   "metadata": {},
   "source": [
    "# 5. Print the list of numbers from 100 to 999 with an interval (step size) of 8 between the numbers"
   ]
  },
  {
   "cell_type": "code",
   "execution_count": 37,
   "id": "b59f1ceb",
   "metadata": {},
   "outputs": [
    {
     "name": "stdout",
     "output_type": "stream",
     "text": [
      "100\n",
      "108\n",
      "116\n",
      "124\n",
      "132\n",
      "140\n",
      "148\n",
      "156\n",
      "164\n",
      "172\n",
      "180\n",
      "188\n",
      "196\n",
      "204\n",
      "212\n",
      "220\n",
      "228\n",
      "236\n",
      "244\n",
      "252\n",
      "260\n",
      "268\n",
      "276\n",
      "284\n",
      "292\n",
      "300\n",
      "308\n",
      "316\n",
      "324\n",
      "332\n",
      "340\n",
      "348\n",
      "356\n",
      "364\n",
      "372\n",
      "380\n",
      "388\n",
      "396\n",
      "404\n",
      "412\n",
      "420\n",
      "428\n",
      "436\n",
      "444\n",
      "452\n",
      "460\n",
      "468\n",
      "476\n",
      "484\n",
      "492\n",
      "500\n",
      "508\n",
      "516\n",
      "524\n",
      "532\n",
      "540\n",
      "548\n",
      "556\n",
      "564\n",
      "572\n",
      "580\n",
      "588\n",
      "596\n",
      "604\n",
      "612\n",
      "620\n",
      "628\n",
      "636\n",
      "644\n",
      "652\n",
      "660\n",
      "668\n",
      "676\n",
      "684\n",
      "692\n",
      "700\n",
      "708\n",
      "716\n",
      "724\n",
      "732\n",
      "740\n",
      "748\n",
      "756\n",
      "764\n",
      "772\n",
      "780\n",
      "788\n",
      "796\n",
      "804\n",
      "812\n",
      "820\n",
      "828\n",
      "836\n",
      "844\n",
      "852\n",
      "860\n",
      "868\n",
      "876\n",
      "884\n",
      "892\n",
      "900\n",
      "908\n",
      "916\n",
      "924\n",
      "932\n",
      "940\n",
      "948\n",
      "956\n",
      "964\n",
      "972\n",
      "980\n",
      "988\n",
      "996\n"
     ]
    }
   ],
   "source": [
    "for i in range(100, 999, 8):\n",
    "    print(i)"
   ]
  },
  {
   "cell_type": "markdown",
   "id": "20d7e91e",
   "metadata": {},
   "source": [
    "# 6. Write a “for” loop to print out the ‘n’ values and break out of the statement if the value is ‘n/2’"
   ]
  },
  {
   "cell_type": "code",
   "execution_count": 42,
   "id": "c204963c",
   "metadata": {},
   "outputs": [
    {
     "name": "stdout",
     "output_type": "stream",
     "text": [
      "0\n"
     ]
    }
   ],
   "source": [
    "n = 0\n",
    "for m in range(1,2,3):\n",
    "    if m%2 == 0:\n",
    "        n= n+1\n",
    "    print(n)\n",
    "    break;\n",
    "        "
   ]
  },
  {
   "cell_type": "markdown",
   "id": "d62edb5e",
   "metadata": {},
   "source": [
    "# 7. Write a simple function and call the docstring from outside the function"
   ]
  },
  {
   "cell_type": "code",
   "execution_count": 44,
   "id": "bfa70dc1",
   "metadata": {},
   "outputs": [
    {
     "name": "stdout",
     "output_type": "stream",
     "text": [
      "This is docstring\n",
      "    and it should be\n"
     ]
    }
   ],
   "source": [
    "def my_func():\n",
    "    '''This is docstring\n",
    "    and it should be'''\n",
    "print (my_func.__doc__)\n",
    "    "
   ]
  },
  {
   "cell_type": "markdown",
   "id": "21dd9d91",
   "metadata": {},
   "source": [
    "# 8. Create a user-defined package in ‘site-packages’ with below 3 variables a, b and c. Import these variables and write a function to calculate the area of triangle for below 3 sides (a, b, c). Calculate the semi-perimeter (s) first, to calculate the area of triangle (area) at last\n",
    "# Formula to calculate semi-perimeter: s = (a+b+c )/2\n",
    "# Formula to calculate area = (s(s-a) (s-b) * (s-c)) ** 0.5\n",
    "\n",
    "# a. 15\n",
    "# b. 51\n",
    "# c. 17"
   ]
  },
  {
   "cell_type": "code",
   "execution_count": 42,
   "id": "c1af969d",
   "metadata": {},
   "outputs": [],
   "source": [
    "from my_package import square_package"
   ]
  },
  {
   "cell_type": "code",
   "execution_count": 43,
   "id": "f8a08351",
   "metadata": {},
   "outputs": [
    {
     "data": {
      "text/plain": [
       "(3.097937745838546e-14+505.93162828587816j)"
      ]
     },
     "execution_count": 43,
     "metadata": {},
     "output_type": "execute_result"
    }
   ],
   "source": [
    "square_package.a\n",
    "square_package.b\n",
    "square_package.c\n",
    "\n",
    "def area(a,b,c):\n",
    "    s=(a+b+c)/2\n",
    "    return (s*(s-a)*(s-b)*(s-c)) ** 0.5\n",
    "\n",
    "area(a,b,c)"
   ]
  },
  {
   "cell_type": "code",
   "execution_count": null,
   "id": "e5836504",
   "metadata": {},
   "outputs": [],
   "source": []
  },
  {
   "cell_type": "code",
   "execution_count": null,
   "id": "39b7f5a8",
   "metadata": {},
   "outputs": [],
   "source": []
  },
  {
   "cell_type": "markdown",
   "id": "30f0d46f",
   "metadata": {},
   "source": [
    "# 9. Write a list comprehension to print the odd numbers from 0 to 100"
   ]
  },
  {
   "cell_type": "code",
   "execution_count": 45,
   "id": "a3078bbd",
   "metadata": {},
   "outputs": [
    {
     "name": "stdout",
     "output_type": "stream",
     "text": [
      "[1, 3, 5, 7, 9, 11, 13, 15, 17, 19, 21, 23, 25, 27, 29, 31, 33, 35, 37, 39, 41, 43, 45, 47, 49, 51, 53, 55, 57, 59, 61, 63, 65, 67, 69, 71, 73, 75, 77, 79, 81, 83, 85, 87, 89, 91, 93, 95, 97, 99]\n"
     ]
    }
   ],
   "source": [
    "print ([i for i in range (100) if i%2 == 1]) "
   ]
  },
  {
   "cell_type": "markdown",
   "id": "dd6ac65b",
   "metadata": {},
   "source": [
    "# 10.Create a variable (ex: name) and store your full name in it. Then write a list comprehension to print your name excluding vowels (a, e, i, o, u)"
   ]
  },
  {
   "cell_type": "code",
   "execution_count": 74,
   "id": "acbb51c5",
   "metadata": {},
   "outputs": [
    {
     "name": "stdout",
     "output_type": "stream",
     "text": [
      "['M', 'h', 'm', 'm', 'd', ' ', 'R', 'f']\n"
     ]
    }
   ],
   "source": [
    "vowels='aeiou'\n",
    "name='Mahammad Rafi'\n",
    "novowels=[i for i in name if i not in vowels]\n",
    "print(novowels)"
   ]
  },
  {
   "cell_type": "code",
   "execution_count": null,
   "id": "f1e2ae3c",
   "metadata": {},
   "outputs": [],
   "source": []
  },
  {
   "cell_type": "code",
   "execution_count": null,
   "id": "885ec7b3",
   "metadata": {},
   "outputs": [],
   "source": []
  },
  {
   "cell_type": "code",
   "execution_count": null,
   "id": "ccd5fcd5",
   "metadata": {},
   "outputs": [],
   "source": []
  }
 ],
 "metadata": {
  "kernelspec": {
   "display_name": "Python 3 (ipykernel)",
   "language": "python",
   "name": "python3"
  },
  "language_info": {
   "codemirror_mode": {
    "name": "ipython",
    "version": 3
   },
   "file_extension": ".py",
   "mimetype": "text/x-python",
   "name": "python",
   "nbconvert_exporter": "python",
   "pygments_lexer": "ipython3",
   "version": "3.9.7"
  }
 },
 "nbformat": 4,
 "nbformat_minor": 5
}
