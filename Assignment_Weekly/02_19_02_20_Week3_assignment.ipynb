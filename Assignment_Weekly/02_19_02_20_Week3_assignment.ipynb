{
 "cells": [
  {
   "cell_type": "markdown",
   "id": "8641aac5",
   "metadata": {},
   "source": [
    "# Week3 - Assignment for the classes 02/26 and 02/27\n",
    "## 1. Create a file calc.py which has following functions\n",
    "a. Function to find the factorial of a number\n",
    "\n",
    "b. Function to convert degree to Fahrenheit\n",
    "\n",
    "Write a new program in file “maths.py” such that you import functions of the file calc.py to your new program. Use from import statement to import the functions from the calc module"
   ]
  },
  {
   "cell_type": "code",
   "execution_count": 10,
   "id": "314589ad",
   "metadata": {},
   "outputs": [],
   "source": [
    "from my_package import fact_fahr_cal_pkg"
   ]
  },
  {
   "cell_type": "code",
   "execution_count": 2,
   "id": "5667ea8c",
   "metadata": {},
   "outputs": [
    {
     "name": "stdout",
     "output_type": "stream",
     "text": [
      "Enter the value for factorial : 5\n"
     ]
    },
    {
     "ename": "NameError",
     "evalue": "name 'fact_func' is not defined",
     "output_type": "error",
     "traceback": [
      "\u001b[1;31m---------------------------------------------------------------------------\u001b[0m",
      "\u001b[1;31mNameError\u001b[0m                                 Traceback (most recent call last)",
      "\u001b[1;32m~\\AppData\\Local\\Temp/ipykernel_11704/2316346386.py\u001b[0m in \u001b[0;36m<module>\u001b[1;34m\u001b[0m\n\u001b[0;32m      2\u001b[0m \u001b[1;33m\u001b[0m\u001b[0m\n\u001b[0;32m      3\u001b[0m \u001b[0ma\u001b[0m \u001b[1;33m=\u001b[0m \u001b[0mint\u001b[0m\u001b[1;33m(\u001b[0m\u001b[0minput\u001b[0m\u001b[1;33m(\u001b[0m\u001b[1;34m'Enter the value for factorial : '\u001b[0m\u001b[1;33m)\u001b[0m\u001b[1;33m)\u001b[0m\u001b[1;33m\u001b[0m\u001b[1;33m\u001b[0m\u001b[0m\n\u001b[1;32m----> 4\u001b[1;33m \u001b[0mprint\u001b[0m \u001b[1;33m(\u001b[0m\u001b[0mfact_func\u001b[0m\u001b[1;33m.\u001b[0m\u001b[0m__doc__\u001b[0m\u001b[1;33m)\u001b[0m\u001b[1;33m\u001b[0m\u001b[1;33m\u001b[0m\u001b[0m\n\u001b[0m\u001b[0;32m      5\u001b[0m \u001b[0mprint\u001b[0m\u001b[1;33m(\u001b[0m\u001b[1;34m'factorial of a number'\u001b[0m\u001b[1;33m,\u001b[0m \u001b[0ma\u001b[0m\u001b[1;33m,\u001b[0m \u001b[1;34m'is :'\u001b[0m\u001b[1;33m,\u001b[0m \u001b[0mfact_func\u001b[0m\u001b[1;33m(\u001b[0m\u001b[0ma\u001b[0m\u001b[1;33m)\u001b[0m\u001b[1;33m)\u001b[0m\u001b[1;33m\u001b[0m\u001b[1;33m\u001b[0m\u001b[0m\n\u001b[0;32m      6\u001b[0m \u001b[1;33m\u001b[0m\u001b[0m\n",
      "\u001b[1;31mNameError\u001b[0m: name 'fact_func' is not defined"
     ]
    }
   ],
   "source": [
    "# factorial of a given number\n",
    "\n",
    "a = int(input('Enter the value for factorial : '))\n",
    "print (fact_func.__doc__)\n",
    "print('factorial of a number', a, 'is :', fact_func(a))\n",
    "\n",
    "a = int(input('Enter degree value to convert into fahrenheit : '))\n",
    "print(fahr_func.__doc__)\n",
    "print('conversion of a number', a, 'is :', fahr_func(a))\n",
    "\n"
   ]
  },
  {
   "cell_type": "code",
   "execution_count": null,
   "id": "1fd281a4",
   "metadata": {},
   "outputs": [],
   "source": []
  },
  {
   "cell_type": "markdown",
   "id": "b418681a",
   "metadata": {},
   "source": [
    "# 2. Implement a simple generator for Fibonacci series\n"
   ]
  },
  {
   "cell_type": "code",
   "execution_count": 36,
   "id": "aa658d12",
   "metadata": {},
   "outputs": [],
   "source": [
    "def generator_func1(a):\n",
    "    '''Get the fibanocci series for the given value'''\n",
    "    i = 0\n",
    "    j = 1\n",
    "    if a == 0:\n",
    "        j = a\n",
    "        print('accept the va5lue greater than 0')\n",
    "        yield j\n",
    "    else:\n",
    "        if a == 1:\n",
    "            j = i\n",
    "            yield j\n",
    "        else:\n",
    "            for b in range(2,a+1):\n",
    "                if b == 2:\n",
    "                    print(i)\n",
    "                k = i + j\n",
    "                i = j\n",
    "                j = k\n",
    "                yield j "
   ]
  },
  {
   "cell_type": "code",
   "execution_count": 37,
   "id": "7b62b4c2",
   "metadata": {},
   "outputs": [
    {
     "name": "stdout",
     "output_type": "stream",
     "text": [
      "Enter the value for factorial : 8\n",
      "0\n",
      "1\n",
      "2\n",
      "3\n",
      "5\n",
      "8\n",
      "13\n",
      "21\n"
     ]
    }
   ],
   "source": [
    "a = int(input('Enter the value for factorial : '))\n",
    "fib = generator_func1(a)\n",
    "if a > 2:\n",
    "    for i in range(a-1):\n",
    "        print(next(fib))\n",
    "else:\n",
    "    print(next(fib))"
   ]
  },
  {
   "cell_type": "markdown",
   "id": "304464ea",
   "metadata": {},
   "source": [
    "# 3. Write an iterator class to iterate over a sequence of values in the reverse direction\n"
   ]
  },
  {
   "cell_type": "code",
   "execution_count": 38,
   "id": "e08ffa02",
   "metadata": {},
   "outputs": [],
   "source": [
    "def gen_rev(arg1):\n",
    "    a = ''\n",
    "    len1 = len(arg1)\n",
    "    for i in range(len1-1,-1,-1):\n",
    "        a = a + arg1[i]\n",
    "    my_iter = iter(a)\n",
    "    print(a)\n",
    "    for i in range(len1):\n",
    "        print(next(my_iter)) "
   ]
  },
  {
   "cell_type": "code",
   "execution_count": 39,
   "id": "e202accd",
   "metadata": {},
   "outputs": [
    {
     "name": "stdout",
     "output_type": "stream",
     "text": [
      "ifaR dammahaM\n",
      "i\n",
      "f\n",
      "a\n",
      "R\n",
      " \n",
      "d\n",
      "a\n",
      "m\n",
      "m\n",
      "a\n",
      "h\n",
      "a\n",
      "M\n"
     ]
    }
   ],
   "source": [
    "rev = gen_rev('Mahammad Rafi')"
   ]
  },
  {
   "cell_type": "markdown",
   "id": "cc615682",
   "metadata": {},
   "source": [
    "# 4. Write a function “salary” that takes in base pay, HRA and special allowance as arguments and\n",
    "# returns the sum of all the 3 salary elements. Then create a decorator function to add an additional element\n",
    "# “Tax” (30% of base pay) and assign it back to base pay variable, and return the function\n",
    "# (i.e., the final calculation of salary also includes tax)\n",
    "# Method - 1"
   ]
  },
  {
   "cell_type": "code",
   "execution_count": 40,
   "id": "471f389c",
   "metadata": {},
   "outputs": [],
   "source": [
    "def decorating_fn(fn):\n",
    "    def nested_fn(base_pay,hra,sp_allow):   ## decorating function\n",
    "        tax = 0\n",
    "        \n",
    "        print(\"Base Pay : \", base_pay, ' HRA : ', hra, ' special allownce : ', sp_allow)\n",
    "        print(' ')\n",
    "        \n",
    "        tax = (base_pay * 30)/100\n",
    "                \n",
    "        return fn(base_pay,hra,sp_allow), tax\n",
    "    return nested_fn"
   ]
  },
  {
   "cell_type": "code",
   "execution_count": 41,
   "id": "d012668c",
   "metadata": {},
   "outputs": [],
   "source": [
    "@decorating_fn   ### place the decorating function on top of the fn that needs to be decorated\n",
    "def ordinary_fn(base_pay,hra,sp_allow):\n",
    "    return (base_pay + hra + sp_allow)"
   ]
  },
  {
   "cell_type": "code",
   "execution_count": 42,
   "id": "cbfacead",
   "metadata": {},
   "outputs": [
    {
     "name": "stdout",
     "output_type": "stream",
     "text": [
      "Enter the amount for BASIC Pay : 25000\n",
      "Enter the amount for HRA : 30000\n",
      "Enter the amount for Special allowances : 200\n",
      " \n",
      "Base Pay :  25000  HRA :  30000  special allownce :  200\n",
      " \n",
      "Total salary of an employee is :  55200 \n",
      "\n",
      "Net Salary after tax deduction is :  47700.0 \n",
      "\n",
      "tax deducted on the total salary is :  7500.0\n"
     ]
    }
   ],
   "source": [
    "base_pay = int(input('Enter the amount for BASIC Pay : '))\n",
    "hra      = int(input('Enter the amount for HRA : '))\n",
    "sp_allow = int(input('Enter the amount for Special allowances : '))\n",
    "print(' ')\n",
    "\n",
    "if (base_pay == 0 & hra == 0):\n",
    "    print('Invalid salary amount received')\n",
    "else: \n",
    "    tot_sal, tax_ded = ordinary_fn(base_pay, hra, sp_allow)\n",
    "    print('Total salary of an employee is : ', tot_sal,'\\n')\n",
    "    print('Net Salary after tax deduction is : ', tot_sal - tax_ded ,'\\n')\n",
    "    print('tax deducted on the total salary is : ', tax_ded)"
   ]
  },
  {
   "cell_type": "markdown",
   "id": "a47168b2",
   "metadata": {},
   "source": [
    "# Method - 2\n"
   ]
  },
  {
   "cell_type": "code",
   "execution_count": 43,
   "id": "ef4509ea",
   "metadata": {},
   "outputs": [
    {
     "name": "stdout",
     "output_type": "stream",
     "text": [
      "Enter the amount for BASIC Pay : 2500\n",
      "Enter the amount for HRA : 1000\n",
      "Enter the amount for Special allowances : 500\n",
      " \n",
      "Total salary of an employee is :  4000\n",
      "Net Salary after tax deduction is :  3250.0 \n",
      "\n",
      "tax deducted on the total salary is :  750.0\n"
     ]
    }
   ],
   "source": [
    "def decorating_fun(fn):                    ##  #---> 3\n",
    "    def nested_fn(base_pay,hra,sp_allow):\n",
    "        tot_sal = 0\n",
    "        tot_sal = fn(base_pay,hra,sp_allow)\n",
    "        tax = (base_pay*30)/100             ##  #---> 5\n",
    "        return tot_sal, tax\n",
    "    return nested_fn                       ##  #---> 4\n",
    "\n",
    "def ordinary_fn(base_pay,hra,sp_allow):\n",
    "    return (base_pay + hra + sp_allow)\n",
    "    \n",
    "dec = decorating_fun(ordinary_fn)          ##  #---> 2\n",
    "\n",
    "a = int(input('Enter the amount for BASIC Pay : '))\n",
    "b = int(input('Enter the amount for HRA : '))\n",
    "c = int(input('Enter the amount for Special allowances : '))\n",
    "print(' ')\n",
    "\n",
    "tot_sal,tax_ded = dec(a,b,c)\n",
    "\n",
    "print('Total salary of an employee is : ', tot_sal)\n",
    "print('Net Salary after tax deduction is : ', tot_sal - tax_ded ,'\\n')\n",
    "print('tax deducted on the total salary is : ', tax_ded)"
   ]
  },
  {
   "cell_type": "markdown",
   "id": "69aac412",
   "metadata": {},
   "source": [
    "# 5. Write 3 examples on possible methods to changing a tuple\n"
   ]
  },
  {
   "cell_type": "code",
   "execution_count": 44,
   "id": "0eed0b5f",
   "metadata": {},
   "outputs": [],
   "source": [
    "tupl1 = ('Rafi', 'Mahammad', 'Apple', [3,4,5])"
   ]
  },
  {
   "cell_type": "code",
   "execution_count": 46,
   "id": "b7051865",
   "metadata": {},
   "outputs": [
    {
     "ename": "TypeError",
     "evalue": "'tuple' object does not support item assignment",
     "output_type": "error",
     "traceback": [
      "\u001b[1;31m---------------------------------------------------------------------------\u001b[0m",
      "\u001b[1;31mTypeError\u001b[0m                                 Traceback (most recent call last)",
      "\u001b[1;32m~\\AppData\\Local\\Temp/ipykernel_17144/4234885333.py\u001b[0m in \u001b[0;36m<module>\u001b[1;34m\u001b[0m\n\u001b[1;32m----> 1\u001b[1;33m \u001b[0mtupl1\u001b[0m\u001b[1;33m[\u001b[0m\u001b[1;36m1\u001b[0m\u001b[1;33m]\u001b[0m \u001b[1;33m=\u001b[0m \u001b[1;34m'rafi M'\u001b[0m\u001b[1;33m\u001b[0m\u001b[1;33m\u001b[0m\u001b[0m\n\u001b[0m",
      "\u001b[1;31mTypeError\u001b[0m: 'tuple' object does not support item assignment"
     ]
    }
   ],
   "source": [
    "tupl1[1] = 'rafi M'"
   ]
  },
  {
   "cell_type": "markdown",
   "id": "a78586f5",
   "metadata": {},
   "source": [
    "# Example 1 to update the tuple\n"
   ]
  },
  {
   "cell_type": "code",
   "execution_count": 48,
   "id": "70d1c7b3",
   "metadata": {},
   "outputs": [],
   "source": [
    "tupl1[3][1] = 11"
   ]
  },
  {
   "cell_type": "code",
   "execution_count": 49,
   "id": "c6c9447e",
   "metadata": {},
   "outputs": [
    {
     "data": {
      "text/plain": [
       "('Rafi', 'Mahammad', 'Apple', [3, 11, 5])"
      ]
     },
     "execution_count": 49,
     "metadata": {},
     "output_type": "execute_result"
    }
   ],
   "source": [
    "tupl1"
   ]
  },
  {
   "cell_type": "markdown",
   "id": "2f688a5f",
   "metadata": {},
   "source": [
    "# Example 2 to update the tuple\n"
   ]
  },
  {
   "cell_type": "code",
   "execution_count": 50,
   "id": "5c0ba001",
   "metadata": {},
   "outputs": [
    {
     "name": "stdout",
     "output_type": "stream",
     "text": [
      "<class 'list'>\n",
      "['Rafi', 'Mahammad', 'Apple', [3, 11, 5]]\n",
      "('Rafi', 'Mahammad', 'Apple', [3, 11, 5])\n"
     ]
    },
    {
     "data": {
      "text/plain": [
       "tuple"
      ]
     },
     "execution_count": 50,
     "metadata": {},
     "output_type": "execute_result"
    }
   ],
   "source": [
    "list1 = list(tupl1)\n",
    "print(type(list1))\n",
    "print(list1)\n",
    "print(tupl1)\n",
    "type(tupl1)"
   ]
  },
  {
   "cell_type": "code",
   "execution_count": 51,
   "id": "65125168",
   "metadata": {},
   "outputs": [
    {
     "data": {
      "text/plain": [
       "tuple"
      ]
     },
     "execution_count": 51,
     "metadata": {},
     "output_type": "execute_result"
    }
   ],
   "source": [
    "list1[1] = 'Rafi Mahammad'\n",
    "type(tupl1)"
   ]
  },
  {
   "cell_type": "code",
   "execution_count": 52,
   "id": "055d308d",
   "metadata": {},
   "outputs": [
    {
     "data": {
      "text/plain": [
       "['Rafi', 'Rafi Mahammad', 'Apple', [3, 11, 5]]"
      ]
     },
     "execution_count": 52,
     "metadata": {},
     "output_type": "execute_result"
    }
   ],
   "source": [
    "list1"
   ]
  },
  {
   "cell_type": "code",
   "execution_count": 53,
   "id": "09d8841f",
   "metadata": {},
   "outputs": [
    {
     "data": {
      "text/plain": [
       "('Rafi', 'Rafi Mahammad', 'Apple', [3, 11, 5])"
      ]
     },
     "execution_count": 53,
     "metadata": {},
     "output_type": "execute_result"
    }
   ],
   "source": [
    "tupl1 = tuple(list1)\n",
    "tupl1"
   ]
  },
  {
   "cell_type": "markdown",
   "id": "5b78d4f3",
   "metadata": {},
   "source": [
    "# Example 3 to update the tuple"
   ]
  },
  {
   "cell_type": "code",
   "execution_count": 54,
   "id": "f8a1f534",
   "metadata": {},
   "outputs": [],
   "source": [
    "list2 = list(tupl1)\n",
    "            "
   ]
  },
  {
   "cell_type": "code",
   "execution_count": 55,
   "id": "17bdb6a7",
   "metadata": {},
   "outputs": [
    {
     "data": {
      "text/plain": [
       "['Rafi', 'Rafi Mahammad', 'Apple', [3, 11, 5], 'Mango']"
      ]
     },
     "execution_count": 55,
     "metadata": {},
     "output_type": "execute_result"
    }
   ],
   "source": [
    "list2.append('Mango')\n",
    "list2"
   ]
  },
  {
   "cell_type": "code",
   "execution_count": 56,
   "id": "de45837a",
   "metadata": {},
   "outputs": [],
   "source": [
    "list2.remove('Mango')"
   ]
  },
  {
   "cell_type": "code",
   "execution_count": 57,
   "id": "38e1f2ef",
   "metadata": {},
   "outputs": [
    {
     "data": {
      "text/plain": [
       "['Rafi', 'Rafi Mahammad', 'Apple', [3, 11, 5]]"
      ]
     },
     "execution_count": 57,
     "metadata": {},
     "output_type": "execute_result"
    }
   ],
   "source": [
    "list2"
   ]
  },
  {
   "cell_type": "code",
   "execution_count": 58,
   "id": "f18a7f5a",
   "metadata": {},
   "outputs": [
    {
     "data": {
      "text/plain": [
       "('Rafi', 'Rafi Mahammad', 'Apple', [3, 11, 5])"
      ]
     },
     "execution_count": 58,
     "metadata": {},
     "output_type": "execute_result"
    }
   ],
   "source": [
    "tupl2 = tuple(list2)\n",
    "tupl2"
   ]
  },
  {
   "cell_type": "code",
   "execution_count": null,
   "id": "b1aa6057",
   "metadata": {},
   "outputs": [],
   "source": []
  }
 ],
 "metadata": {
  "kernelspec": {
   "display_name": "Python 3 (ipykernel)",
   "language": "python",
   "name": "python3"
  },
  "language_info": {
   "codemirror_mode": {
    "name": "ipython",
    "version": 3
   },
   "file_extension": ".py",
   "mimetype": "text/x-python",
   "name": "python",
   "nbconvert_exporter": "python",
   "pygments_lexer": "ipython3",
   "version": "3.9.7"
  }
 },
 "nbformat": 4,
 "nbformat_minor": 5
}
