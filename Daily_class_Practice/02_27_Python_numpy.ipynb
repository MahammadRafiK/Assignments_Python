{
 "cells": [
  {
   "cell_type": "markdown",
   "id": "20d6e1dd",
   "metadata": {},
   "source": [
    "# Day-8 session - 27th February 2022 on python\n",
    "1.Numpy\n",
    "\n",
    "a. Broadcasting an arry\n",
    "\n",
    "b. flatten,\n",
    "\n",
    "c. Concatenate, stack, axis, vstack, hstack, delete, insert, append, unique, add, multiply, subtraction, division functions\n",
    "\n",
    "d. median, mean, std functions\n",
    "\n",
    "2.Pandas (Using Pandas we can do operations on dataframe) - dataframe is same as table(rows and columns)"
   ]
  },
  {
   "cell_type": "markdown",
   "id": "fb6c3d4d",
   "metadata": {},
   "source": [
    "# Broadcasting an array\n"
   ]
  },
  {
   "cell_type": "code",
   "execution_count": 1,
   "id": "28ee6b08",
   "metadata": {},
   "outputs": [],
   "source": [
    "import numpy as np"
   ]
  },
  {
   "cell_type": "code",
   "execution_count": 2,
   "id": "966d6d8e",
   "metadata": {},
   "outputs": [],
   "source": [
    "import numpy as np\n",
    "x = np.array([1,2,3])\n",
    "y = np.array([11,12,13]) "
   ]
  },
  {
   "cell_type": "code",
   "execution_count": 3,
   "id": "65799d49",
   "metadata": {},
   "outputs": [
    {
     "data": {
      "text/plain": [
       "array([11, 24, 39])"
      ]
     },
     "execution_count": 3,
     "metadata": {},
     "output_type": "execute_result"
    }
   ],
   "source": [
    "z=x*y\n",
    "z"
   ]
  },
  {
   "cell_type": "code",
   "execution_count": 4,
   "id": "b4b06cfd",
   "metadata": {},
   "outputs": [],
   "source": [
    "x = np.array([1,2,3])\n",
    "y = 5                        # here y value is the scalar value in the array multiplication"
   ]
  },
  {
   "cell_type": "code",
   "execution_count": 6,
   "id": "899ffa9a",
   "metadata": {},
   "outputs": [
    {
     "data": {
      "text/plain": [
       "array([ 5, 10, 15])"
      ]
     },
     "execution_count": 6,
     "metadata": {},
     "output_type": "execute_result"
    }
   ],
   "source": [
    "z=x*y\n",
    "z"
   ]
  },
  {
   "cell_type": "code",
   "execution_count": 7,
   "id": "b78963b3",
   "metadata": {},
   "outputs": [
    {
     "data": {
      "text/plain": [
       "array([6, 7, 8])"
      ]
     },
     "execution_count": 7,
     "metadata": {},
     "output_type": "execute_result"
    }
   ],
   "source": [
    "np.add(x,y)"
   ]
  },
  {
   "cell_type": "code",
   "execution_count": 8,
   "id": "0ff5f950",
   "metadata": {},
   "outputs": [
    {
     "data": {
      "text/plain": [
       "array([[11, 24, 39],\n",
       "       [39, 56, 75]])"
      ]
     },
     "execution_count": 8,
     "metadata": {},
     "output_type": "execute_result"
    }
   ],
   "source": [
    "x = np.array([[1,2,3],[3,4,5]])\n",
    "y = np.array([[11,12,13],[13,14,15]])\n",
    "\n",
    "z = x*y\n",
    "z"
   ]
  },
  {
   "cell_type": "code",
   "execution_count": 9,
   "id": "7314d00e",
   "metadata": {},
   "outputs": [
    {
     "data": {
      "text/plain": [
       "array([[ 3,  6,  9],\n",
       "       [ 9, 12, 15]])"
      ]
     },
     "execution_count": 9,
     "metadata": {},
     "output_type": "execute_result"
    }
   ],
   "source": [
    "x = np.array([[1,2,3],[3,4,5]])\n",
    "y = 3\n",
    "\n",
    "z = x*y\n",
    "z"
   ]
  },
  {
   "cell_type": "code",
   "execution_count": 10,
   "id": "ec685093",
   "metadata": {},
   "outputs": [
    {
     "data": {
      "text/plain": [
       "array([[11, 24, 39],\n",
       "       [13, 28, 45]])"
      ]
     },
     "execution_count": 10,
     "metadata": {},
     "output_type": "execute_result"
    }
   ],
   "source": [
    "x = np.array([1,2,3])\n",
    "y = np.array([[11,12,13],[13,14,15]])\n",
    "\n",
    "z = x*y\n",
    "z"
   ]
  },
  {
   "cell_type": "code",
   "execution_count": 11,
   "id": "2aa708d1",
   "metadata": {},
   "outputs": [
    {
     "data": {
      "text/plain": [
       "3"
      ]
     },
     "execution_count": 11,
     "metadata": {},
     "output_type": "execute_result"
    }
   ],
   "source": [
    "len(x)"
   ]
  },
  {
   "cell_type": "code",
   "execution_count": 12,
   "id": "9816f831",
   "metadata": {},
   "outputs": [
    {
     "data": {
      "text/plain": [
       "2"
      ]
     },
     "execution_count": 12,
     "metadata": {},
     "output_type": "execute_result"
    }
   ],
   "source": [
    "len(y)"
   ]
  },
  {
   "cell_type": "code",
   "execution_count": 13,
   "id": "a84444d0",
   "metadata": {},
   "outputs": [
    {
     "name": "stdout",
     "output_type": "stream",
     "text": [
      "0\n",
      "13\n",
      "1\n",
      "13\n",
      "1\n",
      "[11 12 13]\n",
      "[13 14 15]\n"
     ]
    }
   ],
   "source": [
    "y_row = len(y)\n",
    "y_col = len(y[0])\n",
    "for i in range(y_row):\n",
    "    for j in range(y_col):\n",
    "        if y[i][j] == 13:\n",
    "            a = i\n",
    "            print(a)\n",
    "            print(y[i][j])\n",
    "print(a)\n",
    "\n",
    "for a in range(y_row):\n",
    "    print(y[a])"
   ]
  },
  {
   "cell_type": "code",
   "execution_count": 14,
   "id": "ddd292d1",
   "metadata": {},
   "outputs": [
    {
     "name": "stdout",
     "output_type": "stream",
     "text": [
      "[11 12 13]\n",
      "[13 14 15]\n"
     ]
    }
   ],
   "source": [
    "for a in range(y_row):\n",
    "    print(y[a])"
   ]
  },
  {
   "cell_type": "code",
   "execution_count": 17,
   "id": "9831f692",
   "metadata": {},
   "outputs": [
    {
     "data": {
      "text/plain": [
       "array([[11, 24, 39],\n",
       "       [13, 28, 45],\n",
       "       [22, 66, 33]])"
      ]
     },
     "execution_count": 17,
     "metadata": {},
     "output_type": "execute_result"
    }
   ],
   "source": [
    "x = np.array([[11,12,13],[13,14,15],[22,33,11]])\n",
    "y = np.array([1,2,3])\n",
    "\n",
    "z = x*y\n",
    "z"
   ]
  },
  {
   "cell_type": "code",
   "execution_count": 19,
   "id": "6c1ffe35",
   "metadata": {},
   "outputs": [],
   "source": [
    "array_reshape1 = x.reshape(1,9)"
   ]
  },
  {
   "cell_type": "code",
   "execution_count": 20,
   "id": "6b42fdfb",
   "metadata": {},
   "outputs": [
    {
     "data": {
      "text/plain": [
       "array([[11, 12, 13, 13, 14, 15, 22, 33, 11]])"
      ]
     },
     "execution_count": 20,
     "metadata": {},
     "output_type": "execute_result"
    }
   ],
   "source": [
    "array_reshape1"
   ]
  },
  {
   "cell_type": "code",
   "execution_count": 21,
   "id": "97c22bf5",
   "metadata": {},
   "outputs": [
    {
     "data": {
      "text/plain": [
       "array([[11, 13, 22],\n",
       "       [24, 28, 66],\n",
       "       [39, 45, 33]])"
      ]
     },
     "execution_count": 21,
     "metadata": {},
     "output_type": "execute_result"
    }
   ],
   "source": [
    "z.T    ## Where we will use it"
   ]
  },
  {
   "cell_type": "code",
   "execution_count": 22,
   "id": "d075ad98",
   "metadata": {},
   "outputs": [],
   "source": [
    "array1 = np.arange(8).reshape(4,2)"
   ]
  },
  {
   "cell_type": "code",
   "execution_count": 23,
   "id": "deb865ff",
   "metadata": {},
   "outputs": [
    {
     "data": {
      "text/plain": [
       "array([[0, 1],\n",
       "       [2, 3],\n",
       "       [4, 5],\n",
       "       [6, 7]])"
      ]
     },
     "execution_count": 23,
     "metadata": {},
     "output_type": "execute_result"
    }
   ],
   "source": [
    "array1"
   ]
  },
  {
   "cell_type": "code",
   "execution_count": 24,
   "id": "3e13ee7b",
   "metadata": {},
   "outputs": [
    {
     "data": {
      "text/plain": [
       "array([0, 1, 2, 3, 4, 5, 6, 7])"
      ]
     },
     "execution_count": 24,
     "metadata": {},
     "output_type": "execute_result"
    }
   ],
   "source": [
    "array1.flatten()"
   ]
  },
  {
   "cell_type": "code",
   "execution_count": 25,
   "id": "b60e8ceb",
   "metadata": {},
   "outputs": [
    {
     "data": {
      "text/plain": [
       "array([[ 1,  2,  3],\n",
       "       [ 3,  4,  5],\n",
       "       [11, 12, 13],\n",
       "       [13, 14, 15],\n",
       "       [33, 44, 55],\n",
       "       [88, 99,  1]])"
      ]
     },
     "execution_count": 25,
     "metadata": {},
     "output_type": "execute_result"
    }
   ],
   "source": [
    "x = np.array([[1,2,3],[3,4,5]])\n",
    "y = np.array([[11,12,13],[13,14,15],[33,44,55],[88,99,1]])\n",
    "\n",
    "np.concatenate((x,y))"
   ]
  },
  {
   "cell_type": "code",
   "execution_count": 34,
   "id": "6293807f",
   "metadata": {},
   "outputs": [
    {
     "data": {
      "text/plain": [
       "array([[[ 1,  2],\n",
       "        [ 3,  4],\n",
       "        [ 5,  6]],\n",
       "\n",
       "       [[11, 12],\n",
       "        [14, 15],\n",
       "        [16, 17]]])"
      ]
     },
     "execution_count": 34,
     "metadata": {},
     "output_type": "execute_result"
    }
   ],
   "source": [
    "np.stack((x,y))"
   ]
  },
  {
   "cell_type": "code",
   "execution_count": 28,
   "id": "68ccd050",
   "metadata": {},
   "outputs": [
    {
     "data": {
      "text/plain": [
       "[array([[-0.40521657, -0.20542276],\n",
       "        [-1.85358138, -1.5427443 ]]),\n",
       " array([[-0.85143588, -0.28587526],\n",
       "        [ 0.97745897,  0.3786645 ]])]"
      ]
     },
     "execution_count": 28,
     "metadata": {},
     "output_type": "execute_result"
    }
   ],
   "source": [
    "arrays"
   ]
  },
  {
   "cell_type": "code",
   "execution_count": 30,
   "id": "2c663078",
   "metadata": {},
   "outputs": [
    {
     "data": {
      "text/plain": [
       "array([[[-0.40521657, -0.20542276],\n",
       "        [-1.85358138, -1.5427443 ]],\n",
       "\n",
       "       [[-0.85143588, -0.28587526],\n",
       "        [ 0.97745897,  0.3786645 ]]])"
      ]
     },
     "execution_count": 30,
     "metadata": {},
     "output_type": "execute_result"
    }
   ],
   "source": [
    "np.stack(arrays, axis = 0)"
   ]
  },
  {
   "cell_type": "code",
   "execution_count": 32,
   "id": "779b574b",
   "metadata": {},
   "outputs": [
    {
     "data": {
      "text/plain": [
       "array([[ 1,  2],\n",
       "       [ 3,  4],\n",
       "       [ 5,  6],\n",
       "       [11, 12],\n",
       "       [14, 15],\n",
       "       [16, 17]])"
      ]
     },
     "execution_count": 32,
     "metadata": {},
     "output_type": "execute_result"
    }
   ],
   "source": [
    "x = np.array([[1,2],[3,4],[5,6]])\n",
    "y = np.array([[11,12],[14,15],[16,17]])\n",
    "\n",
    "np.concatenate((x,y))"
   ]
  },
  {
   "cell_type": "code",
   "execution_count": 33,
   "id": "0d3fd9ea",
   "metadata": {},
   "outputs": [
    {
     "data": {
      "text/plain": [
       "array([[[ 1,  2],\n",
       "        [ 3,  4],\n",
       "        [ 5,  6]],\n",
       "\n",
       "       [[11, 12],\n",
       "        [14, 15],\n",
       "        [16, 17]]])"
      ]
     },
     "execution_count": 33,
     "metadata": {},
     "output_type": "execute_result"
    }
   ],
   "source": [
    "np.stack((x,y), axis=0)   ## axis=0 is row wise operation"
   ]
  },
  {
   "cell_type": "code",
   "execution_count": 35,
   "id": "702c49df",
   "metadata": {},
   "outputs": [
    {
     "data": {
      "text/plain": [
       "array([[[ 1,  2],\n",
       "        [ 3,  4],\n",
       "        [ 5,  6]],\n",
       "\n",
       "       [[11, 12],\n",
       "        [14, 15],\n",
       "        [16, 17]]])"
      ]
     },
     "execution_count": 35,
     "metadata": {},
     "output_type": "execute_result"
    }
   ],
   "source": [
    "np.stack((x,y))"
   ]
  },
  {
   "cell_type": "code",
   "execution_count": 36,
   "id": "297abfeb",
   "metadata": {},
   "outputs": [],
   "source": [
    "arrays = [np.random.randn(2, 2) for _ in range(2)]"
   ]
  },
  {
   "cell_type": "code",
   "execution_count": 37,
   "id": "b260967c",
   "metadata": {},
   "outputs": [
    {
     "data": {
      "text/plain": [
       "[array([[-2.30014947, -1.2131908 ],\n",
       "        [-0.58437511,  0.53818316]]),\n",
       " array([[-0.36557584,  1.51623459],\n",
       "        [-1.44113071, -1.2819299 ]])]"
      ]
     },
     "execution_count": 37,
     "metadata": {},
     "output_type": "execute_result"
    }
   ],
   "source": [
    "arrays"
   ]
  },
  {
   "cell_type": "code",
   "execution_count": 38,
   "id": "edd01742",
   "metadata": {},
   "outputs": [
    {
     "data": {
      "text/plain": [
       "array([[[-2.30014947, -1.2131908 ],\n",
       "        [-0.58437511,  0.53818316]],\n",
       "\n",
       "       [[-0.36557584,  1.51623459],\n",
       "        [-1.44113071, -1.2819299 ]]])"
      ]
     },
     "execution_count": 38,
     "metadata": {},
     "output_type": "execute_result"
    }
   ],
   "source": [
    "np.stack(arrays, axis = 0)"
   ]
  },
  {
   "cell_type": "code",
   "execution_count": 39,
   "id": "38b881b9",
   "metadata": {},
   "outputs": [
    {
     "data": {
      "text/plain": [
       "array([[ 1,  2],\n",
       "       [ 3,  4],\n",
       "       [ 5,  6],\n",
       "       [11, 12],\n",
       "       [14, 15],\n",
       "       [16, 17]])"
      ]
     },
     "execution_count": 39,
     "metadata": {},
     "output_type": "execute_result"
    }
   ],
   "source": [
    "x = np.array([[1,2],[3,4],[5,6]])\n",
    "y = np.array([[11,12],[14,15],[16,17]])\n",
    "\n",
    "np.concatenate((x,y))"
   ]
  },
  {
   "cell_type": "code",
   "execution_count": 40,
   "id": "01c63493",
   "metadata": {},
   "outputs": [
    {
     "data": {
      "text/plain": [
       "array([[[ 1,  2],\n",
       "        [ 3,  4],\n",
       "        [ 5,  6]],\n",
       "\n",
       "       [[11, 12],\n",
       "        [14, 15],\n",
       "        [16, 17]]])"
      ]
     },
     "execution_count": 40,
     "metadata": {},
     "output_type": "execute_result"
    }
   ],
   "source": [
    "np.stack((x,y), axis=0)   ## axis=0 is row wise operation"
   ]
  },
  {
   "cell_type": "code",
   "execution_count": 41,
   "id": "e6289367",
   "metadata": {},
   "outputs": [
    {
     "data": {
      "text/plain": [
       "array([[[ 1,  2],\n",
       "        [11, 12]],\n",
       "\n",
       "       [[ 3,  4],\n",
       "        [14, 15]],\n",
       "\n",
       "       [[ 5,  6],\n",
       "        [16, 17]]])"
      ]
     },
     "execution_count": 41,
     "metadata": {},
     "output_type": "execute_result"
    }
   ],
   "source": [
    "np.stack((x,y), axis=1)   ## axis=1 is column wise operation"
   ]
  },
  {
   "cell_type": "code",
   "execution_count": 42,
   "id": "601d46a2",
   "metadata": {},
   "outputs": [
    {
     "name": "stdout",
     "output_type": "stream",
     "text": [
      "[[1 2]\n",
      " [3 4]\n",
      " [5 6]]\n",
      "[[11 12]\n",
      " [14 15]\n",
      " [16 17]]\n"
     ]
    }
   ],
   "source": [
    "print(x)\n",
    "print(y)"
   ]
  },
  {
   "cell_type": "code",
   "execution_count": 43,
   "id": "9c931e58",
   "metadata": {},
   "outputs": [
    {
     "data": {
      "text/plain": [
       "array([[ 1,  2],\n",
       "       [ 3,  4],\n",
       "       [ 5,  6],\n",
       "       [11, 12],\n",
       "       [14, 15],\n",
       "       [16, 17]])"
      ]
     },
     "execution_count": 43,
     "metadata": {},
     "output_type": "execute_result"
    }
   ],
   "source": [
    "np.vstack((x,y))        ## compare with axis = 0"
   ]
  },
  {
   "cell_type": "code",
   "execution_count": 44,
   "id": "80797164",
   "metadata": {},
   "outputs": [
    {
     "data": {
      "text/plain": [
       "array([[ 1,  2, 11, 12],\n",
       "       [ 3,  4, 14, 15],\n",
       "       [ 5,  6, 16, 17]])"
      ]
     },
     "execution_count": 44,
     "metadata": {},
     "output_type": "execute_result"
    }
   ],
   "source": [
    "np.hstack((x,y))        ## compare with axis = 1"
   ]
  },
  {
   "cell_type": "code",
   "execution_count": 45,
   "id": "75423d2d",
   "metadata": {},
   "outputs": [
    {
     "data": {
      "text/plain": [
       "[array([0, 1, 2]), array([3, 4, 5])]"
      ]
     },
     "execution_count": 45,
     "metadata": {},
     "output_type": "execute_result"
    }
   ],
   "source": [
    "a = np.arange(6)\n",
    "np.split(a,2)"
   ]
  },
  {
   "cell_type": "code",
   "execution_count": 46,
   "id": "ca87d177",
   "metadata": {},
   "outputs": [
    {
     "ename": "ValueError",
     "evalue": "array split does not result in an equal division",
     "output_type": "error",
     "traceback": [
      "\u001b[1;31m---------------------------------------------------------------------------\u001b[0m",
      "\u001b[1;31mValueError\u001b[0m                                Traceback (most recent call last)",
      "\u001b[1;32m~\\AppData\\Local\\Temp/ipykernel_10084/782370383.py\u001b[0m in \u001b[0;36m<module>\u001b[1;34m\u001b[0m\n\u001b[0;32m      1\u001b[0m \u001b[0ma\u001b[0m \u001b[1;33m=\u001b[0m \u001b[0mnp\u001b[0m\u001b[1;33m.\u001b[0m\u001b[0marange\u001b[0m\u001b[1;33m(\u001b[0m\u001b[1;36m15\u001b[0m\u001b[1;33m)\u001b[0m\u001b[1;33m\u001b[0m\u001b[1;33m\u001b[0m\u001b[0m\n\u001b[1;32m----> 2\u001b[1;33m \u001b[0mnp\u001b[0m\u001b[1;33m.\u001b[0m\u001b[0msplit\u001b[0m\u001b[1;33m(\u001b[0m\u001b[0ma\u001b[0m\u001b[1;33m,\u001b[0m\u001b[1;36m2\u001b[0m\u001b[1;33m)\u001b[0m\u001b[1;33m\u001b[0m\u001b[1;33m\u001b[0m\u001b[0m\n\u001b[0m",
      "\u001b[1;32m<__array_function__ internals>\u001b[0m in \u001b[0;36msplit\u001b[1;34m(*args, **kwargs)\u001b[0m\n",
      "\u001b[1;32m~\\anaconda3\\lib\\site-packages\\numpy\\lib\\shape_base.py\u001b[0m in \u001b[0;36msplit\u001b[1;34m(ary, indices_or_sections, axis)\u001b[0m\n\u001b[0;32m    870\u001b[0m         \u001b[0mN\u001b[0m \u001b[1;33m=\u001b[0m \u001b[0mary\u001b[0m\u001b[1;33m.\u001b[0m\u001b[0mshape\u001b[0m\u001b[1;33m[\u001b[0m\u001b[0maxis\u001b[0m\u001b[1;33m]\u001b[0m\u001b[1;33m\u001b[0m\u001b[1;33m\u001b[0m\u001b[0m\n\u001b[0;32m    871\u001b[0m         \u001b[1;32mif\u001b[0m \u001b[0mN\u001b[0m \u001b[1;33m%\u001b[0m \u001b[0msections\u001b[0m\u001b[1;33m:\u001b[0m\u001b[1;33m\u001b[0m\u001b[1;33m\u001b[0m\u001b[0m\n\u001b[1;32m--> 872\u001b[1;33m             raise ValueError(\n\u001b[0m\u001b[0;32m    873\u001b[0m                 'array split does not result in an equal division') from None\n\u001b[0;32m    874\u001b[0m     \u001b[1;32mreturn\u001b[0m \u001b[0marray_split\u001b[0m\u001b[1;33m(\u001b[0m\u001b[0mary\u001b[0m\u001b[1;33m,\u001b[0m \u001b[0mindices_or_sections\u001b[0m\u001b[1;33m,\u001b[0m \u001b[0maxis\u001b[0m\u001b[1;33m)\u001b[0m\u001b[1;33m\u001b[0m\u001b[1;33m\u001b[0m\u001b[0m\n",
      "\u001b[1;31mValueError\u001b[0m: array split does not result in an equal division"
     ]
    }
   ],
   "source": [
    "a = np.arange(15)\n",
    "np.split(a,2)"
   ]
  },
  {
   "cell_type": "code",
   "execution_count": 47,
   "id": "b6b972be",
   "metadata": {},
   "outputs": [],
   "source": [
    "a = np.array([[1,2,3],[2,3,4]])"
   ]
  },
  {
   "cell_type": "code",
   "execution_count": 48,
   "id": "ca9922b0",
   "metadata": {},
   "outputs": [],
   "source": [
    "b = np.array([[10,20,30],[20,30,40]])"
   ]
  },
  {
   "cell_type": "code",
   "execution_count": 49,
   "id": "7cc89e5e",
   "metadata": {},
   "outputs": [
    {
     "data": {
      "text/plain": [
       "array([[ 1,  2,  3],\n",
       "       [ 2,  3,  4],\n",
       "       [10, 20, 30],\n",
       "       [20, 30, 40]])"
      ]
     },
     "execution_count": 49,
     "metadata": {},
     "output_type": "execute_result"
    }
   ],
   "source": [
    "np.append(a,b, axis=0)"
   ]
  },
  {
   "cell_type": "code",
   "execution_count": 50,
   "id": "017384c1",
   "metadata": {},
   "outputs": [
    {
     "data": {
      "text/plain": [
       "array([[ 1,  2,  3],\n",
       "       [ 2,  3,  4],\n",
       "       [10, 20, 30],\n",
       "       [20, 30, 50]])"
      ]
     },
     "execution_count": 50,
     "metadata": {},
     "output_type": "execute_result"
    }
   ],
   "source": [
    "np.append(a,[[10, 20, 30], [20,30,50]], axis=0)"
   ]
  },
  {
   "cell_type": "code",
   "execution_count": 51,
   "id": "06af9dd3",
   "metadata": {},
   "outputs": [
    {
     "ename": "ValueError",
     "evalue": "all the input array dimensions for the concatenation axis must match exactly, but along dimension 0, the array at index 0 has size 2 and the array at index 1 has size 1",
     "output_type": "error",
     "traceback": [
      "\u001b[1;31m---------------------------------------------------------------------------\u001b[0m",
      "\u001b[1;31mValueError\u001b[0m                                Traceback (most recent call last)",
      "\u001b[1;32m~\\AppData\\Local\\Temp/ipykernel_10084/3642037963.py\u001b[0m in \u001b[0;36m<module>\u001b[1;34m\u001b[0m\n\u001b[1;32m----> 1\u001b[1;33m \u001b[0mnp\u001b[0m\u001b[1;33m.\u001b[0m\u001b[0mappend\u001b[0m\u001b[1;33m(\u001b[0m\u001b[0ma\u001b[0m\u001b[1;33m,\u001b[0m\u001b[1;33m[\u001b[0m\u001b[1;33m[\u001b[0m\u001b[1;36m10\u001b[0m\u001b[1;33m,\u001b[0m \u001b[1;36m20\u001b[0m\u001b[1;33m,\u001b[0m \u001b[1;36m30\u001b[0m\u001b[1;33m]\u001b[0m\u001b[1;33m]\u001b[0m\u001b[1;33m,\u001b[0m \u001b[0maxis\u001b[0m\u001b[1;33m=\u001b[0m\u001b[1;36m1\u001b[0m\u001b[1;33m)\u001b[0m\u001b[1;33m\u001b[0m\u001b[1;33m\u001b[0m\u001b[0m\n\u001b[0m",
      "\u001b[1;32m<__array_function__ internals>\u001b[0m in \u001b[0;36mappend\u001b[1;34m(*args, **kwargs)\u001b[0m\n",
      "\u001b[1;32m~\\anaconda3\\lib\\site-packages\\numpy\\lib\\function_base.py\u001b[0m in \u001b[0;36mappend\u001b[1;34m(arr, values, axis)\u001b[0m\n\u001b[0;32m   4743\u001b[0m         \u001b[0mvalues\u001b[0m \u001b[1;33m=\u001b[0m \u001b[0mravel\u001b[0m\u001b[1;33m(\u001b[0m\u001b[0mvalues\u001b[0m\u001b[1;33m)\u001b[0m\u001b[1;33m\u001b[0m\u001b[1;33m\u001b[0m\u001b[0m\n\u001b[0;32m   4744\u001b[0m         \u001b[0maxis\u001b[0m \u001b[1;33m=\u001b[0m \u001b[0marr\u001b[0m\u001b[1;33m.\u001b[0m\u001b[0mndim\u001b[0m\u001b[1;33m-\u001b[0m\u001b[1;36m1\u001b[0m\u001b[1;33m\u001b[0m\u001b[1;33m\u001b[0m\u001b[0m\n\u001b[1;32m-> 4745\u001b[1;33m     \u001b[1;32mreturn\u001b[0m \u001b[0mconcatenate\u001b[0m\u001b[1;33m(\u001b[0m\u001b[1;33m(\u001b[0m\u001b[0marr\u001b[0m\u001b[1;33m,\u001b[0m \u001b[0mvalues\u001b[0m\u001b[1;33m)\u001b[0m\u001b[1;33m,\u001b[0m \u001b[0maxis\u001b[0m\u001b[1;33m=\u001b[0m\u001b[0maxis\u001b[0m\u001b[1;33m)\u001b[0m\u001b[1;33m\u001b[0m\u001b[1;33m\u001b[0m\u001b[0m\n\u001b[0m\u001b[0;32m   4746\u001b[0m \u001b[1;33m\u001b[0m\u001b[0m\n\u001b[0;32m   4747\u001b[0m \u001b[1;33m\u001b[0m\u001b[0m\n",
      "\u001b[1;32m<__array_function__ internals>\u001b[0m in \u001b[0;36mconcatenate\u001b[1;34m(*args, **kwargs)\u001b[0m\n",
      "\u001b[1;31mValueError\u001b[0m: all the input array dimensions for the concatenation axis must match exactly, but along dimension 0, the array at index 0 has size 2 and the array at index 1 has size 1"
     ]
    }
   ],
   "source": [
    "np.append(a,[[10, 20, 30]], axis=1)"
   ]
  },
  {
   "cell_type": "code",
   "execution_count": 52,
   "id": "c26b3744",
   "metadata": {},
   "outputs": [
    {
     "data": {
      "text/plain": [
       "array([[1, 2, 3],\n",
       "       [2, 3, 4]])"
      ]
     },
     "execution_count": 52,
     "metadata": {},
     "output_type": "execute_result"
    }
   ],
   "source": [
    "a"
   ]
  },
  {
   "cell_type": "code",
   "execution_count": 53,
   "id": "3b599a52",
   "metadata": {},
   "outputs": [
    {
     "data": {
      "text/plain": [
       "array([[ 1,  2,  3, 10, 20, 30],\n",
       "       [ 2,  3,  4, 20, 30, 40]])"
      ]
     },
     "execution_count": 53,
     "metadata": {},
     "output_type": "execute_result"
    }
   ],
   "source": [
    "np.append(a,[[10, 20, 30],[20,30,40]], axis=1)"
   ]
  },
  {
   "cell_type": "code",
   "execution_count": 54,
   "id": "fde2c48b",
   "metadata": {},
   "outputs": [
    {
     "data": {
      "text/plain": [
       "array([[ 1,  2,  3],\n",
       "       [ 2,  3,  4],\n",
       "       [10, 20, 30],\n",
       "       [20, 30, 40]])"
      ]
     },
     "execution_count": 54,
     "metadata": {},
     "output_type": "execute_result"
    }
   ],
   "source": [
    "np.append(a,[[10, 20, 30],[20,30,40]], axis=0)"
   ]
  },
  {
   "cell_type": "code",
   "execution_count": 55,
   "id": "ded3706c",
   "metadata": {},
   "outputs": [
    {
     "data": {
      "text/plain": [
       "array([[1, 2, 3],\n",
       "       [2, 3, 4]])"
      ]
     },
     "execution_count": 55,
     "metadata": {},
     "output_type": "execute_result"
    }
   ],
   "source": [
    "a"
   ]
  },
  {
   "cell_type": "code",
   "execution_count": 56,
   "id": "17d218c0",
   "metadata": {},
   "outputs": [],
   "source": [
    "x=np.insert(a,1,[11,33,66],axis=0)"
   ]
  },
  {
   "cell_type": "code",
   "execution_count": 57,
   "id": "2275cf12",
   "metadata": {},
   "outputs": [
    {
     "data": {
      "text/plain": [
       "array([[ 1, 66,  2,  3],\n",
       "       [ 2, 66,  3,  4]])"
      ]
     },
     "execution_count": 57,
     "metadata": {},
     "output_type": "execute_result"
    }
   ],
   "source": [
    "np.insert(a,1,66,axis=1)"
   ]
  },
  {
   "cell_type": "code",
   "execution_count": 58,
   "id": "cf56a28f",
   "metadata": {},
   "outputs": [
    {
     "data": {
      "text/plain": [
       "array([[ 1,  2,  3],\n",
       "       [11, 33, 66],\n",
       "       [ 2,  3,  4]])"
      ]
     },
     "execution_count": 58,
     "metadata": {},
     "output_type": "execute_result"
    }
   ],
   "source": [
    "x"
   ]
  },
  {
   "cell_type": "code",
   "execution_count": 59,
   "id": "79a9b681",
   "metadata": {},
   "outputs": [],
   "source": [
    "y = np.delete(x,1,axis=1)"
   ]
  },
  {
   "cell_type": "code",
   "execution_count": 60,
   "id": "c120c66e",
   "metadata": {},
   "outputs": [
    {
     "data": {
      "text/plain": [
       "array([[ 1,  3],\n",
       "       [11, 66],\n",
       "       [ 2,  4]])"
      ]
     },
     "execution_count": 60,
     "metadata": {},
     "output_type": "execute_result"
    }
   ],
   "source": [
    "y"
   ]
  },
  {
   "cell_type": "code",
   "execution_count": 61,
   "id": "7d795287",
   "metadata": {},
   "outputs": [
    {
     "data": {
      "text/plain": [
       "array([[1, 2, 3],\n",
       "       [2, 3, 4]])"
      ]
     },
     "execution_count": 61,
     "metadata": {},
     "output_type": "execute_result"
    }
   ],
   "source": [
    "a"
   ]
  },
  {
   "cell_type": "code",
   "execution_count": 62,
   "id": "e9cf6935",
   "metadata": {},
   "outputs": [
    {
     "data": {
      "text/plain": [
       "array([[ 1,  2,  3],\n",
       "       [11, 33, 66],\n",
       "       [ 2,  3,  4]])"
      ]
     },
     "execution_count": 62,
     "metadata": {},
     "output_type": "execute_result"
    }
   ],
   "source": [
    "x"
   ]
  },
  {
   "cell_type": "code",
   "execution_count": 63,
   "id": "d0933446",
   "metadata": {},
   "outputs": [
    {
     "data": {
      "text/plain": [
       "array([ 1,  2,  4,  5,  6,  7,  8, 43])"
      ]
     },
     "execution_count": 63,
     "metadata": {},
     "output_type": "execute_result"
    }
   ],
   "source": [
    "uniq = np.array([1,2,43,4,5,6,7,7,8,8])\n",
    "np.unique(uniq)"
   ]
  },
  {
   "cell_type": "code",
   "execution_count": 64,
   "id": "3b84f715",
   "metadata": {},
   "outputs": [
    {
     "name": "stdout",
     "output_type": "stream",
     "text": [
      "addition of two matrices\n",
      "[[12 14]\n",
      " [25 15]]\n",
      "\n",
      "\n",
      "subtraction of two matrices\n",
      "[[-10 -10]\n",
      " [-19  -7]]\n",
      "\n",
      "\n",
      "multiply of two matrices\n",
      "[[11 24]\n",
      " [66 44]]\n",
      "\n",
      "\n",
      "division of two matrices\n",
      "[[0.09090909 0.16666667]\n",
      " [0.13636364 0.36363636]]\n"
     ]
    }
   ],
   "source": [
    "a = np.array([[1,2],[3,4]])\n",
    "b = np.array([[11,12],[22,11]]) \n",
    "\n",
    "print('addition of two matrices')\n",
    "print(np.add(a,b))\n",
    "print('\\n')\n",
    "print('subtraction of two matrices')\n",
    "print(np.subtract(a,b))\n",
    "print('\\n')\n",
    "print('multiply of two matrices')\n",
    "print(np.multiply(a,b))\n",
    "print('\\n')\n",
    "print('division of two matrices')\n",
    "print(np.divide(a,b))"
   ]
  },
  {
   "cell_type": "code",
   "execution_count": 65,
   "id": "4baf15d7",
   "metadata": {},
   "outputs": [],
   "source": [
    "arr1 = np.array([3, 5, 6])"
   ]
  },
  {
   "cell_type": "code",
   "execution_count": 66,
   "id": "e20cf2b5",
   "metadata": {},
   "outputs": [
    {
     "data": {
      "text/plain": [
       "array([ 27, 125, 216], dtype=int32)"
      ]
     },
     "execution_count": 66,
     "metadata": {},
     "output_type": "execute_result"
    }
   ],
   "source": [
    "np.power(arr1, 3)"
   ]
  },
  {
   "cell_type": "code",
   "execution_count": 68,
   "id": "7cf3b50d",
   "metadata": {},
   "outputs": [
    {
     "data": {
      "text/plain": [
       "array([1.73205081, 2.23606798, 2.44948974])"
      ]
     },
     "execution_count": 68,
     "metadata": {},
     "output_type": "execute_result"
    }
   ],
   "source": [
    "np.sqrt(arr1)"
   ]
  },
  {
   "cell_type": "code",
   "execution_count": 69,
   "id": "cc014f09",
   "metadata": {},
   "outputs": [],
   "source": [
    "arr2 = np.array([[1,2,3],[4,5,6],[7,8,9]])"
   ]
  },
  {
   "cell_type": "code",
   "execution_count": 70,
   "id": "37772ed3",
   "metadata": {},
   "outputs": [
    {
     "data": {
      "text/plain": [
       "array([[1, 2, 3],\n",
       "       [4, 5, 6],\n",
       "       [7, 8, 9]])"
      ]
     },
     "execution_count": 70,
     "metadata": {},
     "output_type": "execute_result"
    }
   ],
   "source": [
    "arr2"
   ]
  },
  {
   "cell_type": "code",
   "execution_count": 71,
   "id": "9c1e4843",
   "metadata": {},
   "outputs": [
    {
     "data": {
      "text/plain": [
       "array([2.6, 5.6, 8.6])"
      ]
     },
     "execution_count": 71,
     "metadata": {},
     "output_type": "execute_result"
    }
   ],
   "source": [
    "np.percentile(arr2, 80, axis = 1)"
   ]
  },
  {
   "cell_type": "code",
   "execution_count": 72,
   "id": "b4bef7a3",
   "metadata": {},
   "outputs": [
    {
     "name": "stdout",
     "output_type": "stream",
     "text": [
      "[2. 5. 8.]\n",
      "[2. 5. 8.]\n",
      "[0.81649658 0.81649658 0.81649658]\n"
     ]
    }
   ],
   "source": [
    "print(np.mean(arr2,axis=1))\n",
    "print(np.median(arr2,axis=1))\n",
    "print(np.std(arr2,axis=1))"
   ]
  },
  {
   "cell_type": "code",
   "execution_count": 73,
   "id": "25d5d723",
   "metadata": {},
   "outputs": [
    {
     "name": "stdout",
     "output_type": "stream",
     "text": [
      "[4. 5. 6.]\n",
      "[4. 5. 6.]\n",
      "[2.44948974 2.44948974 2.44948974]\n"
     ]
    }
   ],
   "source": [
    "print(np.mean(arr2,axis=0))\n",
    "print(np.median(arr2,axis=0))\n",
    "print(np.std(arr2,axis=0))"
   ]
  },
  {
   "cell_type": "markdown",
   "id": "af52c2c4",
   "metadata": {},
   "source": [
    "### Dataframes = it is nothing but a table\n",
    "## every single column in the dataframe is called series\n",
    "# Pandas"
   ]
  },
  {
   "cell_type": "code",
   "execution_count": 74,
   "id": "ca1eda95",
   "metadata": {},
   "outputs": [],
   "source": [
    "import pandas as pd"
   ]
  },
  {
   "cell_type": "code",
   "execution_count": 75,
   "id": "01ba6c10",
   "metadata": {},
   "outputs": [],
   "source": [
    "a = np.array([10, 2, 50, 70])\n",
    "s = pd.Series(a)"
   ]
  },
  {
   "cell_type": "code",
   "execution_count": 76,
   "id": "548d3a8c",
   "metadata": {},
   "outputs": [
    {
     "data": {
      "text/plain": [
       "numpy.ndarray"
      ]
     },
     "execution_count": 76,
     "metadata": {},
     "output_type": "execute_result"
    }
   ],
   "source": [
    "type(a)"
   ]
  },
  {
   "cell_type": "code",
   "execution_count": 77,
   "id": "fecae2a2",
   "metadata": {},
   "outputs": [
    {
     "data": {
      "text/plain": [
       "pandas.core.series.Series"
      ]
     },
     "execution_count": 77,
     "metadata": {},
     "output_type": "execute_result"
    }
   ],
   "source": [
    "type(s)"
   ]
  },
  {
   "cell_type": "code",
   "execution_count": 78,
   "id": "ea77b2f8",
   "metadata": {},
   "outputs": [
    {
     "name": "stdout",
     "output_type": "stream",
     "text": [
      "0    10\n",
      "1     2\n",
      "2    50\n",
      "3    70\n",
      "dtype: int32\n"
     ]
    }
   ],
   "source": [
    "print(s)"
   ]
  },
  {
   "cell_type": "code",
   "execution_count": 79,
   "id": "98f7a683",
   "metadata": {},
   "outputs": [],
   "source": [
    "a = np.array([10, 2, 50, 70])\n",
    "s = pd.Series(a, index = [10, 20, 30, 40])"
   ]
  },
  {
   "cell_type": "code",
   "execution_count": 80,
   "id": "e78d0e90",
   "metadata": {},
   "outputs": [
    {
     "name": "stdout",
     "output_type": "stream",
     "text": [
      "10    10\n",
      "20     2\n",
      "30    50\n",
      "40    70\n",
      "dtype: int32\n"
     ]
    }
   ],
   "source": [
    "print(s)"
   ]
  },
  {
   "cell_type": "code",
   "execution_count": 81,
   "id": "377ced61",
   "metadata": {},
   "outputs": [],
   "source": [
    "a1 = {10: 'chennai', 20: 'hyderabad', 30: 'banglore'}\n",
    "s2 = pd.Series(a1, index = [1, 2, 3])"
   ]
  },
  {
   "cell_type": "code",
   "execution_count": 91,
   "id": "6a4bb8eb",
   "metadata": {},
   "outputs": [
    {
     "name": "stdout",
     "output_type": "stream",
     "text": [
      "20    hyderabad\n",
      "30     banglore\n",
      "10      chennai\n",
      "dtype: object\n"
     ]
    }
   ],
   "source": [
    "print(s2)"
   ]
  },
  {
   "cell_type": "code",
   "execution_count": 92,
   "id": "ade22e2c",
   "metadata": {},
   "outputs": [
    {
     "data": {
      "text/plain": [
       "dict"
      ]
     },
     "execution_count": 92,
     "metadata": {},
     "output_type": "execute_result"
    }
   ],
   "source": [
    "type(a1)"
   ]
  },
  {
   "cell_type": "code",
   "execution_count": 93,
   "id": "da49211f",
   "metadata": {},
   "outputs": [
    {
     "data": {
      "text/plain": [
       "pandas.core.series.Series"
      ]
     },
     "execution_count": 93,
     "metadata": {},
     "output_type": "execute_result"
    }
   ],
   "source": [
    "type(s2)"
   ]
  },
  {
   "cell_type": "code",
   "execution_count": 85,
   "id": "362f38a5",
   "metadata": {},
   "outputs": [],
   "source": [
    "a1 = {10: 'chennai', 20: 'hyderabad', 30: 'banglore'}\n",
    "s2 = pd.Series(a1, index = [20, 30, 10])"
   ]
  },
  {
   "cell_type": "code",
   "execution_count": 86,
   "id": "e3de48c7",
   "metadata": {},
   "outputs": [
    {
     "name": "stdout",
     "output_type": "stream",
     "text": [
      "20    hyderabad\n",
      "30     banglore\n",
      "10      chennai\n",
      "dtype: object\n"
     ]
    }
   ],
   "source": [
    "print(s2)"
   ]
  },
  {
   "cell_type": "code",
   "execution_count": 87,
   "id": "fcac7ebf",
   "metadata": {},
   "outputs": [],
   "source": [
    "a = np.array([10, 2, 50, 70])\n",
    "len1 = len(a)\n",
    "s = pd.Series(a, index = range(1, len1+1))"
   ]
  },
  {
   "cell_type": "code",
   "execution_count": 88,
   "id": "dc4dafed",
   "metadata": {},
   "outputs": [
    {
     "name": "stdout",
     "output_type": "stream",
     "text": [
      "1    10\n",
      "2     2\n",
      "3    50\n",
      "4    70\n",
      "dtype: int32\n"
     ]
    }
   ],
   "source": [
    "print(s)"
   ]
  },
  {
   "cell_type": "code",
   "execution_count": 89,
   "id": "b9de1e20",
   "metadata": {},
   "outputs": [],
   "source": [
    "a1 = {10: 'chennai', 20: 'hyderabad', 30: 'banglore'}\n",
    "s2 = pd.Series(a1, index = [20, 30, 10])\n"
   ]
  },
  {
   "cell_type": "code",
   "execution_count": 90,
   "id": "f1c90c84",
   "metadata": {},
   "outputs": [
    {
     "data": {
      "text/plain": [
       "10      chennai\n",
       "20    hyderabad\n",
       "30     banglore\n",
       "dtype: object"
      ]
     },
     "execution_count": 90,
     "metadata": {},
     "output_type": "execute_result"
    }
   ],
   "source": [
    "s1 = pd.Series(a1)\n",
    "s1"
   ]
  },
  {
   "cell_type": "code",
   "execution_count": null,
   "id": "6b9b6911",
   "metadata": {},
   "outputs": [],
   "source": []
  },
  {
   "cell_type": "code",
   "execution_count": null,
   "id": "43fd78ab",
   "metadata": {},
   "outputs": [],
   "source": []
  },
  {
   "cell_type": "code",
   "execution_count": null,
   "id": "7c554677",
   "metadata": {},
   "outputs": [],
   "source": []
  },
  {
   "cell_type": "code",
   "execution_count": null,
   "id": "40f6a00f",
   "metadata": {},
   "outputs": [],
   "source": []
  },
  {
   "cell_type": "code",
   "execution_count": null,
   "id": "0e4991db",
   "metadata": {},
   "outputs": [],
   "source": []
  },
  {
   "cell_type": "code",
   "execution_count": null,
   "id": "84cfac84",
   "metadata": {},
   "outputs": [],
   "source": []
  },
  {
   "cell_type": "code",
   "execution_count": null,
   "id": "f0bf2fac",
   "metadata": {},
   "outputs": [],
   "source": []
  },
  {
   "cell_type": "code",
   "execution_count": null,
   "id": "77e48a6d",
   "metadata": {},
   "outputs": [],
   "source": []
  },
  {
   "cell_type": "code",
   "execution_count": null,
   "id": "8a817da1",
   "metadata": {},
   "outputs": [],
   "source": []
  },
  {
   "cell_type": "code",
   "execution_count": null,
   "id": "931f0aaf",
   "metadata": {},
   "outputs": [],
   "source": []
  },
  {
   "cell_type": "code",
   "execution_count": null,
   "id": "5faa4b82",
   "metadata": {},
   "outputs": [],
   "source": []
  },
  {
   "cell_type": "code",
   "execution_count": null,
   "id": "8f0c6b64",
   "metadata": {},
   "outputs": [],
   "source": []
  }
 ],
 "metadata": {
  "kernelspec": {
   "display_name": "Python 3 (ipykernel)",
   "language": "python",
   "name": "python3"
  },
  "language_info": {
   "codemirror_mode": {
    "name": "ipython",
    "version": 3
   },
   "file_extension": ".py",
   "mimetype": "text/x-python",
   "name": "python",
   "nbconvert_exporter": "python",
   "pygments_lexer": "ipython3",
   "version": "3.9.7"
  }
 },
 "nbformat": 4,
 "nbformat_minor": 5
}
