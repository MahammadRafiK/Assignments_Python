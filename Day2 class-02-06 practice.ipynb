{
 "cells": [
  {
   "cell_type": "markdown",
   "id": "2d0ef695",
   "metadata": {},
   "source": [
    "# Day-2 session - 6th February 2022 on python\n",
    "1.Keyword\n",
    "\n",
    "2.Package\n",
    "\n",
    "3.List\n",
    "\n",
    "4.List comphrehension\n",
    "\n",
    "5.Tuple\n",
    "\n",
    "6.String\n",
    "\n",
    "7.Set\n",
    "\n",
    "8.Dictionaries\n",
    "## keyword"
   ]
  },
  {
   "cell_type": "code",
   "execution_count": 2,
   "id": "d1fb339c",
   "metadata": {},
   "outputs": [],
   "source": [
    "import keyword"
   ]
  },
  {
   "cell_type": "code",
   "execution_count": 3,
   "id": "86995f6d",
   "metadata": {},
   "outputs": [
    {
     "data": {
      "text/plain": [
       "['False',\n",
       " 'None',\n",
       " 'True',\n",
       " '__peg_parser__',\n",
       " 'and',\n",
       " 'as',\n",
       " 'assert',\n",
       " 'async',\n",
       " 'await',\n",
       " 'break',\n",
       " 'class',\n",
       " 'continue',\n",
       " 'def',\n",
       " 'del',\n",
       " 'elif',\n",
       " 'else',\n",
       " 'except',\n",
       " 'finally',\n",
       " 'for',\n",
       " 'from',\n",
       " 'global',\n",
       " 'if',\n",
       " 'import',\n",
       " 'in',\n",
       " 'is',\n",
       " 'lambda',\n",
       " 'nonlocal',\n",
       " 'not',\n",
       " 'or',\n",
       " 'pass',\n",
       " 'raise',\n",
       " 'return',\n",
       " 'try',\n",
       " 'while',\n",
       " 'with',\n",
       " 'yield']"
      ]
     },
     "execution_count": 3,
     "metadata": {},
     "output_type": "execute_result"
    }
   ],
   "source": [
    "keyword.kwlist"
   ]
  },
  {
   "cell_type": "code",
   "execution_count": 6,
   "id": "86a09308",
   "metadata": {},
   "outputs": [
    {
     "name": "stdout",
     "output_type": "stream",
     "text": [
      "0\n",
      "1\n",
      "2\n",
      "3\n",
      "4\n"
     ]
    }
   ],
   "source": [
    "for i in range(0,5): \n",
    "    print(i)"
   ]
  },
  {
   "cell_type": "code",
   "execution_count": 7,
   "id": "46750194",
   "metadata": {},
   "outputs": [
    {
     "name": "stdout",
     "output_type": "stream",
     "text": [
      "0\n",
      "2\n",
      "4\n",
      "6\n",
      "8\n"
     ]
    }
   ],
   "source": [
    "for i in range(0,5): \n",
    "    print(i*2)"
   ]
  },
  {
   "cell_type": "markdown",
   "id": "ebbfc6b8",
   "metadata": {},
   "source": [
    "# Packages\n",
    "# Create user defined packages as below\n",
    "## Go to anaconda3 -> LIB -> Site-Packages -> Create your own folder for your package -> open the folder -> crerate text file and write the code you want to write for your package -> click on the \"Save as\" -> enter the name and extension with .py and then select All files -> Then click on the \"Save as\" Button\n",
    "## A py file will created.\n",
    "## Once after completing the creation of package, then import the package as below"
   ]
  },
  {
   "cell_type": "code",
   "execution_count": 9,
   "id": "dbfcd717",
   "metadata": {},
   "outputs": [],
   "source": [
    "from my_package import test_package"
   ]
  },
  {
   "cell_type": "code",
   "execution_count": 10,
   "id": "8f28ce74",
   "metadata": {},
   "outputs": [
    {
     "data": {
      "text/plain": [
       "'PYTHON'"
      ]
     },
     "execution_count": 10,
     "metadata": {},
     "output_type": "execute_result"
    }
   ],
   "source": [
    "test_package.NAME"
   ]
  },
  {
   "cell_type": "markdown",
   "id": "c603e544",
   "metadata": {},
   "source": [
    "# List"
   ]
  },
  {
   "cell_type": "code",
   "execution_count": 12,
   "id": "e3243230",
   "metadata": {},
   "outputs": [
    {
     "name": "stdout",
     "output_type": "stream",
     "text": [
      "1\n",
      "Rafi\n",
      "Data Science\n",
      "2\n",
      "Believe\n",
      "Almighty\n"
     ]
    }
   ],
   "source": [
    "list1 = [1,'Rafi','Data Science',2,'Believe','Almighty']\n",
    "for i in list1:\n",
    "    print(i)"
   ]
  },
  {
   "cell_type": "markdown",
   "id": "0e8b3141",
   "metadata": {},
   "source": [
    "# List Comprehension"
   ]
  },
  {
   "cell_type": "code",
   "execution_count": 14,
   "id": "ccc7956f",
   "metadata": {},
   "outputs": [
    {
     "data": {
      "text/plain": [
       "['Almighty']"
      ]
     },
     "execution_count": 14,
     "metadata": {},
     "output_type": "execute_result"
    }
   ],
   "source": [
    "list1 = [1,'Rafi','Data Science',2,'Believe','Almighty']\n",
    "[a for a in list1 if a=='Almighty'] "
   ]
  },
  {
   "cell_type": "code",
   "execution_count": 15,
   "id": "87db866d",
   "metadata": {},
   "outputs": [
    {
     "data": {
      "text/plain": [
       "[0, 1, 2, 3, 4, 5, 6, 7, 8, 9, 10]"
      ]
     },
     "execution_count": 15,
     "metadata": {},
     "output_type": "execute_result"
    }
   ],
   "source": [
    "list(range(11))"
   ]
  },
  {
   "cell_type": "markdown",
   "id": "6b48a26f",
   "metadata": {},
   "source": [
    "# first for loop will execute and will check the if condition and then will go into the expression.\n",
    "# a**2 -> expression (3)\n",
    "# for a in range(11) --> loop (1)\n",
    "# if a%2==0 -> condition (2)"
   ]
  },
  {
   "cell_type": "code",
   "execution_count": 17,
   "id": "3b52b3d4",
   "metadata": {},
   "outputs": [
    {
     "name": "stdout",
     "output_type": "stream",
     "text": [
      "[0, 4, 16, 36, 64, 100]\n"
     ]
    }
   ],
   "source": [
    "power2= [a**2 for a in range(11) if a%2==0]   \n",
    "print(power2)"
   ]
  },
  {
   "cell_type": "markdown",
   "id": "cbabbf31",
   "metadata": {},
   "source": [
    "# SLICING - LIST\n",
    "# List is mutable"
   ]
  },
  {
   "cell_type": "code",
   "execution_count": 20,
   "id": "82fe540d",
   "metadata": {},
   "outputs": [
    {
     "data": {
      "text/plain": [
       "4"
      ]
     },
     "execution_count": 20,
     "metadata": {},
     "output_type": "execute_result"
    }
   ],
   "source": [
    "list3 = [1,2,3,4,5,6,7,3,8,9,10]  #it will start from 0,1,2,3 like this it will go\n",
    "list3[3]"
   ]
  },
  {
   "cell_type": "code",
   "execution_count": 21,
   "id": "6c1ddefc",
   "metadata": {},
   "outputs": [
    {
     "data": {
      "text/plain": [
       "[1, 2, 3, 4, 5, 6, 7, 3, 8, 9, 10]"
      ]
     },
     "execution_count": 21,
     "metadata": {},
     "output_type": "execute_result"
    }
   ],
   "source": [
    "list3"
   ]
  },
  {
   "cell_type": "code",
   "execution_count": 23,
   "id": "dfc9e56d",
   "metadata": {},
   "outputs": [
    {
     "data": {
      "text/plain": [
       "(10, 9)"
      ]
     },
     "execution_count": 23,
     "metadata": {},
     "output_type": "execute_result"
    }
   ],
   "source": [
    "list3[-1], list3[-2]"
   ]
  },
  {
   "cell_type": "code",
   "execution_count": 24,
   "id": "552713a8",
   "metadata": {},
   "outputs": [
    {
     "name": "stdout",
     "output_type": "stream",
     "text": [
      "10\n",
      "[3, 4, 5]\n",
      "4\n",
      "[1, 2, 3, 12, 5, 6, 7, 3, 8, 9, 10]\n",
      "12\n",
      "9\n",
      "[7, 3, 8, 9]\n",
      "[7, 3, 8, 9, 10]\n"
     ]
    }
   ],
   "source": [
    "print(list3[-1])\n",
    "print(list3[2:5])\n",
    "print(list3[3])\n",
    "list3[3]=12    ## list is mutable\n",
    "print(list3)\n",
    "print(list3[3])\n",
    "print(list3[-2])\n",
    "print(list3[-5:-1])\n",
    "print(list3[-5:])"
   ]
  },
  {
   "cell_type": "markdown",
   "id": "4e03cbe8",
   "metadata": {},
   "source": [
    "# Tuple\n",
    "\n",
    "# Tuple is immutable"
   ]
  },
  {
   "cell_type": "code",
   "execution_count": 26,
   "id": "0d0856c9",
   "metadata": {},
   "outputs": [
    {
     "data": {
      "text/plain": [
       "(3, 4)"
      ]
     },
     "execution_count": 26,
     "metadata": {},
     "output_type": "execute_result"
    }
   ],
   "source": [
    "a = (1,2,3,4,5)\n",
    "a[2:4]"
   ]
  },
  {
   "cell_type": "code",
   "execution_count": 27,
   "id": "7a76ac91",
   "metadata": {},
   "outputs": [
    {
     "ename": "TypeError",
     "evalue": "'tuple' object does not support item assignment",
     "output_type": "error",
     "traceback": [
      "\u001b[1;31m---------------------------------------------------------------------------\u001b[0m",
      "\u001b[1;31mTypeError\u001b[0m                                 Traceback (most recent call last)",
      "\u001b[1;32m~\\AppData\\Local\\Temp/ipykernel_17192/1724992242.py\u001b[0m in \u001b[0;36m<module>\u001b[1;34m\u001b[0m\n\u001b[1;32m----> 1\u001b[1;33m \u001b[0ma\u001b[0m\u001b[1;33m[\u001b[0m\u001b[1;36m2\u001b[0m\u001b[1;33m]\u001b[0m \u001b[1;33m=\u001b[0m \u001b[1;36m13\u001b[0m \u001b[1;31m## can't assign value to tuple variable\u001b[0m\u001b[1;33m\u001b[0m\u001b[1;33m\u001b[0m\u001b[0m\n\u001b[0m",
      "\u001b[1;31mTypeError\u001b[0m: 'tuple' object does not support item assignment"
     ]
    }
   ],
   "source": [
    "a[2] = 13 ## can't assign value to tuple variable"
   ]
  },
  {
   "cell_type": "markdown",
   "id": "b98c5fd4",
   "metadata": {},
   "source": [
    "# String"
   ]
  },
  {
   "cell_type": "code",
   "execution_count": 29,
   "id": "22ad4857",
   "metadata": {},
   "outputs": [
    {
     "name": "stdout",
     "output_type": "stream",
     "text": [
      "Mahammad Rafi is a Data Scientist\n"
     ]
    },
    {
     "data": {
      "text/plain": [
       "'m'"
      ]
     },
     "execution_count": 29,
     "metadata": {},
     "output_type": "execute_result"
    }
   ],
   "source": [
    "R ='Mahammad Rafi is a Data Scientist'\n",
    "print(R)\n",
    "type(R)\n",
    "R[5]"
   ]
  },
  {
   "cell_type": "code",
   "execution_count": 30,
   "id": "0044916d",
   "metadata": {},
   "outputs": [
    {
     "name": "stdout",
     "output_type": "stream",
     "text": [
      "ntist\n",
      "ntis\n"
     ]
    }
   ],
   "source": [
    "print(R[-5:])\n",
    "print(R[-5:-1])"
   ]
  },
  {
   "cell_type": "code",
   "execution_count": 31,
   "id": "db04bc45",
   "metadata": {},
   "outputs": [
    {
     "ename": "TypeError",
     "evalue": "'str' object does not support item assignment",
     "output_type": "error",
     "traceback": [
      "\u001b[1;31m---------------------------------------------------------------------------\u001b[0m",
      "\u001b[1;31mTypeError\u001b[0m                                 Traceback (most recent call last)",
      "\u001b[1;32m~\\AppData\\Local\\Temp/ipykernel_17192/1672164287.py\u001b[0m in \u001b[0;36m<module>\u001b[1;34m\u001b[0m\n\u001b[1;32m----> 1\u001b[1;33m \u001b[0mR\u001b[0m\u001b[1;33m[\u001b[0m\u001b[1;36m5\u001b[0m\u001b[1;33m]\u001b[0m\u001b[1;33m=\u001b[0m\u001b[1;34m'k'\u001b[0m\u001b[1;33m\u001b[0m\u001b[1;33m\u001b[0m\u001b[0m\n\u001b[0m",
      "\u001b[1;31mTypeError\u001b[0m: 'str' object does not support item assignment"
     ]
    }
   ],
   "source": [
    "R[5]='k'"
   ]
  },
  {
   "cell_type": "markdown",
   "id": "2ae7e142",
   "metadata": {},
   "source": [
    "# SET - unordered - set is not allowed slicing option and index"
   ]
  },
  {
   "cell_type": "code",
   "execution_count": 32,
   "id": "c389038c",
   "metadata": {},
   "outputs": [
    {
     "data": {
      "text/plain": [
       "set"
      ]
     },
     "execution_count": 32,
     "metadata": {},
     "output_type": "execute_result"
    }
   ],
   "source": [
    "set1 = {1,2,3,3,4,6}\n",
    "type(set1)"
   ]
  },
  {
   "cell_type": "code",
   "execution_count": 33,
   "id": "c39fb018",
   "metadata": {},
   "outputs": [
    {
     "data": {
      "text/plain": [
       "{1, 2, 3, 4, 6}"
      ]
     },
     "execution_count": 33,
     "metadata": {},
     "output_type": "execute_result"
    }
   ],
   "source": [
    "set1"
   ]
  },
  {
   "cell_type": "code",
   "execution_count": 34,
   "id": "222e1380",
   "metadata": {},
   "outputs": [
    {
     "ename": "TypeError",
     "evalue": "'set' object is not subscriptable",
     "output_type": "error",
     "traceback": [
      "\u001b[1;31m---------------------------------------------------------------------------\u001b[0m",
      "\u001b[1;31mTypeError\u001b[0m                                 Traceback (most recent call last)",
      "\u001b[1;32m~\\AppData\\Local\\Temp/ipykernel_17192/2205921943.py\u001b[0m in \u001b[0;36m<module>\u001b[1;34m\u001b[0m\n\u001b[1;32m----> 1\u001b[1;33m \u001b[0mset1\u001b[0m\u001b[1;33m[\u001b[0m\u001b[1;36m4\u001b[0m\u001b[1;33m]\u001b[0m\u001b[1;33m\u001b[0m\u001b[1;33m\u001b[0m\u001b[0m\n\u001b[0m",
      "\u001b[1;31mTypeError\u001b[0m: 'set' object is not subscriptable"
     ]
    }
   ],
   "source": [
    "set1[4]"
   ]
  },
  {
   "cell_type": "code",
   "execution_count": 36,
   "id": "7be29991",
   "metadata": {},
   "outputs": [
    {
     "data": {
      "text/plain": [
       "{0, 1, 10, 13, 2, 3, 4, 5, 6, 'Rafi', 'string'}"
      ]
     },
     "execution_count": 36,
     "metadata": {},
     "output_type": "execute_result"
    }
   ],
   "source": [
    "set2 = {1,2,13,13,0,2,3,4,4,4,5,10,6,6,6,6,6,6,'string','string','Rafi'}\n",
    "set2"
   ]
  },
  {
   "cell_type": "markdown",
   "id": "0ab5769d",
   "metadata": {},
   "source": [
    "# Dictionary\n",
    "# unordered collection of key value pair"
   ]
  },
  {
   "cell_type": "code",
   "execution_count": 38,
   "id": "59b4c3fa",
   "metadata": {},
   "outputs": [
    {
     "data": {
      "text/plain": [
       "{1: 'Rafi', 2: 'Mahammad', 3: 'Mango', 4: 'Dollar'}"
      ]
     },
     "execution_count": 38,
     "metadata": {},
     "output_type": "execute_result"
    }
   ],
   "source": [
    "dict1 = {1: 'Rafi', 2: 'Mahammad', 3: 'Mango', 4: 'Apple', 4: 'Dollar'}\n",
    "type(dict1)\n",
    "dict1"
   ]
  },
  {
   "cell_type": "code",
   "execution_count": 43,
   "id": "8eebdeb1",
   "metadata": {},
   "outputs": [
    {
     "data": {
      "text/plain": [
       "'Mahammad'"
      ]
     },
     "execution_count": 43,
     "metadata": {},
     "output_type": "execute_result"
    }
   ],
   "source": [
    "dict1[2]"
   ]
  },
  {
   "cell_type": "code",
   "execution_count": 44,
   "id": "5c813af9",
   "metadata": {},
   "outputs": [
    {
     "data": {
      "text/plain": [
       "{1: 'Rafi', 2: 'Mahammad', 3: 'Mango', 4: 'Dollar'}"
      ]
     },
     "execution_count": 44,
     "metadata": {},
     "output_type": "execute_result"
    }
   ],
   "source": [
    "dict1"
   ]
  },
  {
   "cell_type": "code",
   "execution_count": 45,
   "id": "7898cc70",
   "metadata": {},
   "outputs": [
    {
     "name": "stdout",
     "output_type": "stream",
     "text": [
      "{10: 'Bbb', 20: 'Aaa', 30: 'Aaa', 40: 'Bbb', 50: 'Aaa'}\n"
     ]
    }
   ],
   "source": [
    "my_dict = {10: 'B' 'bb', 20: 'A' 'aa', 30: 'A' 'aa', 40: 'B' 'bb', 50: 'A' 'aa'}  \n",
    "print(my_dict)"
   ]
  },
  {
   "cell_type": "code",
   "execution_count": null,
   "id": "1b0e1773",
   "metadata": {},
   "outputs": [],
   "source": []
  }
 ],
 "metadata": {
  "kernelspec": {
   "display_name": "Python 3 (ipykernel)",
   "language": "python",
   "name": "python3"
  },
  "language_info": {
   "codemirror_mode": {
    "name": "ipython",
    "version": 3
   },
   "file_extension": ".py",
   "mimetype": "text/x-python",
   "name": "python",
   "nbconvert_exporter": "python",
   "pygments_lexer": "ipython3",
   "version": "3.9.7"
  }
 },
 "nbformat": 4,
 "nbformat_minor": 5
}
